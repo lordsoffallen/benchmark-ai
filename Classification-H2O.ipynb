{
 "cells": [
  {
   "cell_type": "markdown",
   "metadata": {
    "colab_type": "text",
    "id": "4QonJBKwPEO7"
   },
   "source": [
    "# Bank Marketing"
   ]
  },
  {
   "cell_type": "markdown",
   "metadata": {
    "colab_type": "text",
    "id": "S91aJR0HPEPE"
   },
   "source": [
    "### Install Requirements"
   ]
  },
  {
   "cell_type": "code",
   "execution_count": 0,
   "metadata": {
    "colab": {
     "base_uri": "https://localhost:8080/",
     "height": 52
    },
    "colab_type": "code",
    "executionInfo": {
     "elapsed": 4705,
     "status": "ok",
     "timestamp": 1549363262304,
     "user": {
      "displayName": "Fazil B. Topal",
      "photoUrl": "https://lh4.googleusercontent.com/-IxiCh57ZfZI/AAAAAAAAAAI/AAAAAAAAAGg/HpcJn-cqYZk/s64/photo.jpg",
      "userId": "06988773581943736669"
     },
     "user_tz": -60
    },
    "id": "A_vrZRMIPEPI",
    "outputId": "e3f2f5ac-bf16-4174-a453-5a5b2ec5a3d0"
   },
   "outputs": [
    {
     "name": "stdout",
     "output_type": "stream",
     "text": [
      "Requirement already satisfied: memory_profiler in /usr/local/lib/python3.6/dist-packages (0.55.0)\n",
      "Requirement already satisfied: psutil in /usr/local/lib/python3.6/dist-packages (from memory_profiler) (5.4.8)\n"
     ]
    }
   ],
   "source": [
    "! pip install memory_profiler"
   ]
  },
  {
   "cell_type": "code",
   "execution_count": 0,
   "metadata": {
    "colab": {},
    "colab_type": "code",
    "id": "mgbhmqqkPEPU"
   },
   "outputs": [],
   "source": [
    "%load_ext memory_profiler"
   ]
  },
  {
   "cell_type": "code",
   "execution_count": 0,
   "metadata": {
    "colab": {
     "base_uri": "https://localhost:8080/",
     "height": 312
    },
    "colab_type": "code",
    "executionInfo": {
     "elapsed": 8055,
     "status": "ok",
     "timestamp": 1549363287701,
     "user": {
      "displayName": "Fazil B. Topal",
      "photoUrl": "https://lh4.googleusercontent.com/-IxiCh57ZfZI/AAAAAAAAAAI/AAAAAAAAAGg/HpcJn-cqYZk/s64/photo.jpg",
      "userId": "06988773581943736669"
     },
     "user_tz": -60
    },
    "id": "2EdfVqyIPTEn",
    "outputId": "34636145-bc8f-4bff-fc43-575eb13157bd"
   },
   "outputs": [
    {
     "name": "stdout",
     "output_type": "stream",
     "text": [
      "Reading package lists... Done\n",
      "Building dependency tree       \n",
      "Reading state information... Done\n",
      "default-jre is already the newest version (2:1.10-63ubuntu1~02).\n",
      "0 upgraded, 0 newly installed, 0 to remove and 4 not upgraded.\n",
      "openjdk version \"10.0.2\" 2018-07-17\n",
      "OpenJDK Runtime Environment (build 10.0.2+13-Ubuntu-1ubuntu0.18.04.4)\n",
      "OpenJDK 64-Bit Server VM (build 10.0.2+13-Ubuntu-1ubuntu0.18.04.4, mixed mode)\n",
      "Requirement already satisfied: h2o in /usr/local/lib/python3.6/dist-packages (3.22.1.3)\n",
      "Requirement already satisfied: future in /usr/local/lib/python3.6/dist-packages (from h2o) (0.16.0)\n",
      "Requirement already satisfied: requests in /usr/local/lib/python3.6/dist-packages (from h2o) (2.18.4)\n",
      "Requirement already satisfied: tabulate in /usr/local/lib/python3.6/dist-packages (from h2o) (0.8.3)\n",
      "Requirement already satisfied: colorama>=0.3.8 in /usr/local/lib/python3.6/dist-packages (from h2o) (0.4.1)\n",
      "Requirement already satisfied: certifi>=2017.4.17 in /usr/local/lib/python3.6/dist-packages (from requests->h2o) (2018.11.29)\n",
      "Requirement already satisfied: idna<2.7,>=2.5 in /usr/local/lib/python3.6/dist-packages (from requests->h2o) (2.6)\n",
      "Requirement already satisfied: chardet<3.1.0,>=3.0.2 in /usr/local/lib/python3.6/dist-packages (from requests->h2o) (3.0.4)\n",
      "Requirement already satisfied: urllib3<1.23,>=1.21.1 in /usr/local/lib/python3.6/dist-packages (from requests->h2o) (1.22)\n"
     ]
    }
   ],
   "source": [
    "! apt-get install default-jre\n",
    "! java -version\n",
    "! pip install h2o"
   ]
  },
  {
   "cell_type": "markdown",
   "metadata": {
    "colab_type": "text",
    "id": "nnzxn-JYPEPZ"
   },
   "source": [
    "### Import Libraries"
   ]
  },
  {
   "cell_type": "code",
   "execution_count": 0,
   "metadata": {
    "colab": {},
    "colab_type": "code",
    "id": "11I9KA5tPEPa"
   },
   "outputs": [],
   "source": [
    "from sklearn.preprocessing import MinMaxScaler\n",
    "from h2o.estimators.glm import H2OGeneralizedLinearEstimator\n",
    "from h2o.estimators.gbm import H2OGradientBoostingEstimator\n",
    "from h2o.estimators.random_forest import H2ORandomForestEstimator\n",
    "import h2o\n",
    "import os\n",
    "\n",
    "# Pretty Display of Variables\n",
    "from IPython.core.interactiveshell import InteractiveShell\n",
    "InteractiveShell.ast_node_interactivity = \"all\""
   ]
  },
  {
   "cell_type": "code",
   "execution_count": null,
   "metadata": {},
   "outputs": [],
   "source": [
    "def process_bank_data(ratios=[0.8, 0.1]):\n",
    "    \"\"\" Downloads the banking dataset, preprocess the data and splits it.\n",
    "    Args:\n",
    "        ratio: Split ratio. Default is 0.8\n",
    "    \n",
    "    Returns:\n",
    "        train, test and sample dataset\n",
    "    \n",
    "    \"\"\"\n",
    "    \n",
    "    user = \"fazilbtopal\"\n",
    "    key = \"a01ead977f55d872c4deeadb0f173aa1\"\n",
    "\n",
    "    if '.kaggle' not in os.listdir('/root'):\n",
    "        !mkdir ~/.kaggle\n",
    "    !touch /root/.kaggle/kaggle.json\n",
    "    !chmod 666 /root/.kaggle/kaggle.json\n",
    "    with open('/root/.kaggle/kaggle.json', 'w') as f:\n",
    "        f.write('{\"username\":\"%s\",\"key\":\"%s\"}' % (user, key))\n",
    "    !chmod 600 /root/.kaggle/kaggle.json\n",
    "\n",
    "    print('Downloading data from web..')\n",
    "    ! kaggle datasets download -d sonujha090/bank-marketing\n",
    "    ! unzip -qq /content/bank-marketing.zip\n",
    "    \n",
    "    print('Reading the dataset..')\n",
    "    # Load the data set.\n",
    "    bank_df = h2o.import_file(\"/content/bank-full.csv\")\n",
    "    bank_sample_df = h2o.import_file(\"/content/bank.csv\")\n",
    "\n",
    "\n",
    "    print('Splitting train & test frames..')\n",
    "    train, test, val = bank_df.split_frame(ratios=ratios, seed=1234)\n",
    "\n",
    "    return train, test, sample"
   ]
  },
  {
   "cell_type": "code",
   "execution_count": 0,
   "metadata": {
    "colab": {
     "base_uri": "https://localhost:8080/",
     "height": 378
    },
    "colab_type": "code",
    "executionInfo": {
     "elapsed": 559,
     "status": "ok",
     "timestamp": 1549363382391,
     "user": {
      "displayName": "Fazil B. Topal",
      "photoUrl": "https://lh4.googleusercontent.com/-IxiCh57ZfZI/AAAAAAAAAAI/AAAAAAAAAGg/HpcJn-cqYZk/s64/photo.jpg",
      "userId": "06988773581943736669"
     },
     "user_tz": -60
    },
    "id": "-r8QBHcKQNWC",
    "outputId": "c7cb680a-a781-4a57-8e30-1fca234fed88"
   },
   "outputs": [
    {
     "name": "stdout",
     "output_type": "stream",
     "text": [
      "Checking whether there is an H2O instance running at http://localhost:54321. connected.\n"
     ]
    },
    {
     "data": {
      "text/html": [
       "<div style=\"overflow:auto\"><table style=\"width:50%\"><tr><td>H2O cluster uptime:</td>\n",
       "<td>2 hours 28 mins</td></tr>\n",
       "<tr><td>H2O cluster timezone:</td>\n",
       "<td>Etc/UTC</td></tr>\n",
       "<tr><td>H2O data parsing timezone:</td>\n",
       "<td>UTC</td></tr>\n",
       "<tr><td>H2O cluster version:</td>\n",
       "<td>3.22.1.3</td></tr>\n",
       "<tr><td>H2O cluster version age:</td>\n",
       "<td>10 days </td></tr>\n",
       "<tr><td>H2O cluster name:</td>\n",
       "<td>H2O_from_python_unknownUser_frr5wp</td></tr>\n",
       "<tr><td>H2O cluster total nodes:</td>\n",
       "<td>1</td></tr>\n",
       "<tr><td>H2O cluster free memory:</td>\n",
       "<td>3.998 Gb</td></tr>\n",
       "<tr><td>H2O cluster total cores:</td>\n",
       "<td>2</td></tr>\n",
       "<tr><td>H2O cluster allowed cores:</td>\n",
       "<td>2</td></tr>\n",
       "<tr><td>H2O cluster status:</td>\n",
       "<td>locked, healthy</td></tr>\n",
       "<tr><td>H2O connection url:</td>\n",
       "<td>http://localhost:54321</td></tr>\n",
       "<tr><td>H2O connection proxy:</td>\n",
       "<td>None</td></tr>\n",
       "<tr><td>H2O internal security:</td>\n",
       "<td>False</td></tr>\n",
       "<tr><td>H2O API Extensions:</td>\n",
       "<td>XGBoost, Algos, AutoML, Core V3, Core V4</td></tr>\n",
       "<tr><td>Python version:</td>\n",
       "<td>3.6.7 final</td></tr></table></div>"
      ],
      "text/plain": [
       "--------------------------  ----------------------------------------\n",
       "H2O cluster uptime:         2 hours 28 mins\n",
       "H2O cluster timezone:       Etc/UTC\n",
       "H2O data parsing timezone:  UTC\n",
       "H2O cluster version:        3.22.1.3\n",
       "H2O cluster version age:    10 days\n",
       "H2O cluster name:           H2O_from_python_unknownUser_frr5wp\n",
       "H2O cluster total nodes:    1\n",
       "H2O cluster free memory:    3.998 Gb\n",
       "H2O cluster total cores:    2\n",
       "H2O cluster allowed cores:  2\n",
       "H2O cluster status:         locked, healthy\n",
       "H2O connection url:         http://localhost:54321\n",
       "H2O connection proxy:\n",
       "H2O internal security:      False\n",
       "H2O API Extensions:         XGBoost, Algos, AutoML, Core V3, Core V4\n",
       "Python version:             3.6.7 final\n",
       "--------------------------  ----------------------------------------"
      ]
     },
     "metadata": {
      "tags": []
     },
     "output_type": "display_data"
    }
   ],
   "source": [
    "h2o.init(max_mem_size=\"4G\")"
   ]
  },
  {
   "cell_type": "code",
   "execution_count": 0,
   "metadata": {
    "colab": {},
    "colab_type": "code",
    "id": "Yl_S45StPERH"
   },
   "outputs": [],
   "source": [
    "train, val, sample = process_bank_data()"
   ]
  },
  {
   "cell_type": "code",
   "execution_count": 0,
   "metadata": {
    "colab": {
     "base_uri": "https://localhost:8080/",
     "height": 254
    },
    "colab_type": "code",
    "executionInfo": {
     "elapsed": 584,
     "status": "ok",
     "timestamp": 1549364318682,
     "user": {
      "displayName": "Fazil B. Topal",
      "photoUrl": "https://lh4.googleusercontent.com/-IxiCh57ZfZI/AAAAAAAAAAI/AAAAAAAAAGg/HpcJn-cqYZk/s64/photo.jpg",
      "userId": "06988773581943736669"
     },
     "user_tz": -60
    },
    "id": "xJ_FxM0nPERV",
    "outputId": "2b4023dc-4e76-4ca7-db7d-85922008de1e"
   },
   "outputs": [
    {
     "data": {
      "text/html": [
       "<table>\n",
       "<thead>\n",
       "<tr><th style=\"text-align: right;\">  age</th><th>job         </th><th>marital  </th><th>education  </th><th>default  </th><th style=\"text-align: right;\">  balance</th><th>housing  </th><th>loan  </th><th>contact  </th><th style=\"text-align: right;\">  day</th><th>month  </th><th style=\"text-align: right;\">  duration</th><th style=\"text-align: right;\">  campaign</th><th style=\"text-align: right;\">  pdays</th><th style=\"text-align: right;\">  previous</th><th>poutcome  </th><th>y  </th></tr>\n",
       "</thead>\n",
       "<tbody>\n",
       "<tr><td style=\"text-align: right;\">   58</td><td>management  </td><td>married  </td><td>tertiary   </td><td>no       </td><td style=\"text-align: right;\">     2143</td><td>yes      </td><td>no    </td><td>unknown  </td><td style=\"text-align: right;\">    5</td><td>may    </td><td style=\"text-align: right;\">       261</td><td style=\"text-align: right;\">         1</td><td style=\"text-align: right;\">     -1</td><td style=\"text-align: right;\">         0</td><td>unknown   </td><td>no </td></tr>\n",
       "<tr><td style=\"text-align: right;\">   44</td><td>technician  </td><td>single   </td><td>secondary  </td><td>no       </td><td style=\"text-align: right;\">       29</td><td>yes      </td><td>no    </td><td>unknown  </td><td style=\"text-align: right;\">    5</td><td>may    </td><td style=\"text-align: right;\">       151</td><td style=\"text-align: right;\">         1</td><td style=\"text-align: right;\">     -1</td><td style=\"text-align: right;\">         0</td><td>unknown   </td><td>no </td></tr>\n",
       "<tr><td style=\"text-align: right;\">   33</td><td>entrepreneur</td><td>married  </td><td>secondary  </td><td>no       </td><td style=\"text-align: right;\">        2</td><td>yes      </td><td>yes   </td><td>unknown  </td><td style=\"text-align: right;\">    5</td><td>may    </td><td style=\"text-align: right;\">        76</td><td style=\"text-align: right;\">         1</td><td style=\"text-align: right;\">     -1</td><td style=\"text-align: right;\">         0</td><td>unknown   </td><td>no </td></tr>\n",
       "<tr><td style=\"text-align: right;\">   33</td><td>unknown     </td><td>single   </td><td>unknown    </td><td>no       </td><td style=\"text-align: right;\">        1</td><td>no       </td><td>no    </td><td>unknown  </td><td style=\"text-align: right;\">    5</td><td>may    </td><td style=\"text-align: right;\">       198</td><td style=\"text-align: right;\">         1</td><td style=\"text-align: right;\">     -1</td><td style=\"text-align: right;\">         0</td><td>unknown   </td><td>no </td></tr>\n",
       "<tr><td style=\"text-align: right;\">   35</td><td>management  </td><td>married  </td><td>tertiary   </td><td>no       </td><td style=\"text-align: right;\">      231</td><td>yes      </td><td>no    </td><td>unknown  </td><td style=\"text-align: right;\">    5</td><td>may    </td><td style=\"text-align: right;\">       139</td><td style=\"text-align: right;\">         1</td><td style=\"text-align: right;\">     -1</td><td style=\"text-align: right;\">         0</td><td>unknown   </td><td>no </td></tr>\n",
       "<tr><td style=\"text-align: right;\">   28</td><td>management  </td><td>single   </td><td>tertiary   </td><td>no       </td><td style=\"text-align: right;\">      447</td><td>yes      </td><td>yes   </td><td>unknown  </td><td style=\"text-align: right;\">    5</td><td>may    </td><td style=\"text-align: right;\">       217</td><td style=\"text-align: right;\">         1</td><td style=\"text-align: right;\">     -1</td><td style=\"text-align: right;\">         0</td><td>unknown   </td><td>no </td></tr>\n",
       "<tr><td style=\"text-align: right;\">   42</td><td>entrepreneur</td><td>divorced </td><td>tertiary   </td><td>yes      </td><td style=\"text-align: right;\">        2</td><td>yes      </td><td>no    </td><td>unknown  </td><td style=\"text-align: right;\">    5</td><td>may    </td><td style=\"text-align: right;\">       380</td><td style=\"text-align: right;\">         1</td><td style=\"text-align: right;\">     -1</td><td style=\"text-align: right;\">         0</td><td>unknown   </td><td>no </td></tr>\n",
       "<tr><td style=\"text-align: right;\">   58</td><td>retired     </td><td>married  </td><td>primary    </td><td>no       </td><td style=\"text-align: right;\">      121</td><td>yes      </td><td>no    </td><td>unknown  </td><td style=\"text-align: right;\">    5</td><td>may    </td><td style=\"text-align: right;\">        50</td><td style=\"text-align: right;\">         1</td><td style=\"text-align: right;\">     -1</td><td style=\"text-align: right;\">         0</td><td>unknown   </td><td>no </td></tr>\n",
       "<tr><td style=\"text-align: right;\">   41</td><td>admin.      </td><td>divorced </td><td>secondary  </td><td>no       </td><td style=\"text-align: right;\">      270</td><td>yes      </td><td>no    </td><td>unknown  </td><td style=\"text-align: right;\">    5</td><td>may    </td><td style=\"text-align: right;\">       222</td><td style=\"text-align: right;\">         1</td><td style=\"text-align: right;\">     -1</td><td style=\"text-align: right;\">         0</td><td>unknown   </td><td>no </td></tr>\n",
       "<tr><td style=\"text-align: right;\">   29</td><td>admin.      </td><td>single   </td><td>secondary  </td><td>no       </td><td style=\"text-align: right;\">      390</td><td>yes      </td><td>no    </td><td>unknown  </td><td style=\"text-align: right;\">    5</td><td>may    </td><td style=\"text-align: right;\">       137</td><td style=\"text-align: right;\">         1</td><td style=\"text-align: right;\">     -1</td><td style=\"text-align: right;\">         0</td><td>unknown   </td><td>no </td></tr>\n",
       "</tbody>\n",
       "</table>"
      ]
     },
     "metadata": {
      "tags": []
     },
     "output_type": "display_data"
    },
    {
     "data": {
      "text/plain": []
     },
     "execution_count": 12,
     "metadata": {
      "tags": []
     },
     "output_type": "execute_result"
    }
   ],
   "source": [
    "train.head(10)"
   ]
  },
  {
   "cell_type": "code",
   "execution_count": 0,
   "metadata": {
    "colab": {},
    "colab_type": "code",
    "id": "QrsZaRUDPEQ9"
   },
   "outputs": [],
   "source": [
    "train.describe()"
   ]
  },
  {
   "cell_type": "code",
   "execution_count": 0,
   "metadata": {
    "colab": {
     "base_uri": "https://localhost:8080/",
     "height": 312
    },
    "colab_type": "code",
    "executionInfo": {
     "elapsed": 451,
     "status": "ok",
     "timestamp": 1549364399363,
     "user": {
      "displayName": "Fazil B. Topal",
      "photoUrl": "https://lh4.googleusercontent.com/-IxiCh57ZfZI/AAAAAAAAAAI/AAAAAAAAAGg/HpcJn-cqYZk/s64/photo.jpg",
      "userId": "06988773581943736669"
     },
     "user_tz": -60
    },
    "id": "WL5OTz3xT63K",
    "outputId": "963a5ddd-30ad-45dd-e53b-a92f439e4a41"
   },
   "outputs": [
    {
     "data": {
      "text/plain": [
       "{'age': 'int',\n",
       " 'balance': 'int',\n",
       " 'campaign': 'int',\n",
       " 'contact': 'enum',\n",
       " 'day': 'int',\n",
       " 'default': 'enum',\n",
       " 'duration': 'int',\n",
       " 'education': 'enum',\n",
       " 'housing': 'enum',\n",
       " 'job': 'enum',\n",
       " 'loan': 'enum',\n",
       " 'marital': 'enum',\n",
       " 'month': 'enum',\n",
       " 'pdays': 'int',\n",
       " 'poutcome': 'enum',\n",
       " 'previous': 'int',\n",
       " 'y': 'enum'}"
      ]
     },
     "execution_count": 15,
     "metadata": {
      "tags": []
     },
     "output_type": "execute_result"
    }
   ],
   "source": [
    "train.types"
   ]
  },
  {
   "cell_type": "markdown",
   "metadata": {
    "colab_type": "text",
    "id": "FIHOzgUIPESF"
   },
   "source": [
    "## Logistic Regression"
   ]
  },
  {
   "cell_type": "code",
   "execution_count": 0,
   "metadata": {
    "colab": {},
    "colab_type": "code",
    "id": "-VsFq4MyPESK"
   },
   "outputs": [],
   "source": [
    "feature_columns = train.col_names[:-1]\n",
    "label = train.col_names[-1]"
   ]
  },
  {
   "cell_type": "code",
   "execution_count": 0,
   "metadata": {
    "colab": {},
    "colab_type": "code",
    "id": "C7U6LZQHV_xm"
   },
   "outputs": [],
   "source": [
    "# Model parameters\n",
    "model = H2OGeneralizedLinearEstimator(model_id=\"glm_v1\", family=\"binomial\", solver=\"AUTO\")"
   ]
  },
  {
   "cell_type": "code",
   "execution_count": 0,
   "metadata": {
    "colab": {
     "base_uri": "https://localhost:8080/",
     "height": 34
    },
    "colab_type": "code",
    "executionInfo": {
     "elapsed": 1414,
     "status": "ok",
     "timestamp": 1549365318919,
     "user": {
      "displayName": "Fazil B. Topal",
      "photoUrl": "https://lh4.googleusercontent.com/-IxiCh57ZfZI/AAAAAAAAAAI/AAAAAAAAAGg/HpcJn-cqYZk/s64/photo.jpg",
      "userId": "06988773581943736669"
     },
     "user_tz": -60
    },
    "id": "DZwvQFqDWAe5",
    "outputId": "1f1b3fe6-cfd9-4f7e-beba-fe5f2d99d1cb"
   },
   "outputs": [
    {
     "name": "stdout",
     "output_type": "stream",
     "text": [
      "glm Model Build progress: |███████████████████████████████████████████████| 100%\n"
     ]
    }
   ],
   "source": [
    "model.train(x=feature_columns, y=label, training_frame=train, validation_frame=val)"
   ]
  },
  {
   "cell_type": "code",
   "execution_count": 0,
   "metadata": {
    "colab": {
     "base_uri": "https://localhost:8080/",
     "height": 2404
    },
    "colab_type": "code",
    "executionInfo": {
     "elapsed": 874,
     "status": "ok",
     "timestamp": 1549365346420,
     "user": {
      "displayName": "Fazil B. Topal",
      "photoUrl": "https://lh4.googleusercontent.com/-IxiCh57ZfZI/AAAAAAAAAAI/AAAAAAAAAGg/HpcJn-cqYZk/s64/photo.jpg",
      "userId": "06988773581943736669"
     },
     "user_tz": -60
    },
    "id": "3SClz2-PXvJH",
    "outputId": "44873c7d-82c3-4255-aa35-fe9136679e85"
   },
   "outputs": [
    {
     "name": "stdout",
     "output_type": "stream",
     "text": [
      "Model Details\n",
      "=============\n",
      "H2OGeneralizedLinearEstimator :  Generalized Linear Modeling\n",
      "Model Key:  glm_v1\n",
      "\n",
      "\n",
      "ModelMetricsBinomialGLM: glm\n",
      "** Reported on train data. **\n",
      "\n",
      "MSE: 0.07126613766420797\n",
      "RMSE: 0.2669571832039887\n",
      "LogLoss: 0.23983725623041302\n",
      "Null degrees of freedom: 36223\n",
      "Residual degrees of freedom: 36182\n",
      "Null deviance: 26065.033126033304\n",
      "Residual deviance: 17375.72953938096\n",
      "AIC: 17459.72953938096\n",
      "AUC: 0.9070133046414631\n",
      "pr_auc: 0.5455021097651589\n",
      "Gini: 0.8140266092829263\n",
      "Confusion Matrix (Act/Pred) for max f1 @ threshold = 0.21923662065754926: \n"
     ]
    },
    {
     "data": {
      "text/html": [
       "<div style=\"overflow:auto\"><table style=\"width:50%\"><tr><td><b></b></td>\n",
       "<td><b>no</b></td>\n",
       "<td><b>yes</b></td>\n",
       "<td><b>Error</b></td>\n",
       "<td><b>Rate</b></td></tr>\n",
       "<tr><td>no</td>\n",
       "<td>29524.0</td>\n",
       "<td>2482.0</td>\n",
       "<td>0.0775</td>\n",
       "<td> (2482.0/32006.0)</td></tr>\n",
       "<tr><td>yes</td>\n",
       "<td>1509.0</td>\n",
       "<td>2709.0</td>\n",
       "<td>0.3578</td>\n",
       "<td> (1509.0/4218.0)</td></tr>\n",
       "<tr><td>Total</td>\n",
       "<td>31033.0</td>\n",
       "<td>5191.0</td>\n",
       "<td>0.1102</td>\n",
       "<td> (3991.0/36224.0)</td></tr></table></div>"
      ],
      "text/plain": [
       "       no     yes    Error    Rate\n",
       "-----  -----  -----  -------  ----------------\n",
       "no     29524  2482   0.0775   (2482.0/32006.0)\n",
       "yes    1509   2709   0.3578   (1509.0/4218.0)\n",
       "Total  31033  5191   0.1102   (3991.0/36224.0)"
      ]
     },
     "metadata": {
      "tags": []
     },
     "output_type": "display_data"
    },
    {
     "name": "stdout",
     "output_type": "stream",
     "text": [
      "Maximum Metrics: Maximum metrics at their respective thresholds\n",
      "\n"
     ]
    },
    {
     "data": {
      "text/html": [
       "<div style=\"overflow:auto\"><table style=\"width:50%\"><tr><td><b>metric</b></td>\n",
       "<td><b>threshold</b></td>\n",
       "<td><b>value</b></td>\n",
       "<td><b>idx</b></td></tr>\n",
       "<tr><td>max f1</td>\n",
       "<td>0.2192366</td>\n",
       "<td>0.5758317</td>\n",
       "<td>224.0</td></tr>\n",
       "<tr><td>max f2</td>\n",
       "<td>0.1050183</td>\n",
       "<td>0.6887997</td>\n",
       "<td>288.0</td></tr>\n",
       "<tr><td>max f0point5</td>\n",
       "<td>0.3465799</td>\n",
       "<td>0.5719736</td>\n",
       "<td>174.0</td></tr>\n",
       "<tr><td>max accuracy</td>\n",
       "<td>0.4022977</td>\n",
       "<td>0.9031581</td>\n",
       "<td>155.0</td></tr>\n",
       "<tr><td>max precision</td>\n",
       "<td>0.9062164</td>\n",
       "<td>0.7154930</td>\n",
       "<td>23.0</td></tr>\n",
       "<tr><td>max recall</td>\n",
       "<td>0.0031216</td>\n",
       "<td>1.0</td>\n",
       "<td>397.0</td></tr>\n",
       "<tr><td>max specificity</td>\n",
       "<td>0.9992664</td>\n",
       "<td>0.9996251</td>\n",
       "<td>0.0</td></tr>\n",
       "<tr><td>max absolute_mcc</td>\n",
       "<td>0.1589545</td>\n",
       "<td>0.5206402</td>\n",
       "<td>253.0</td></tr>\n",
       "<tr><td>max min_per_class_accuracy</td>\n",
       "<td>0.1168565</td>\n",
       "<td>0.8342817</td>\n",
       "<td>280.0</td></tr>\n",
       "<tr><td>max mean_per_class_accuracy</td>\n",
       "<td>0.1038728</td>\n",
       "<td>0.8392312</td>\n",
       "<td>289.0</td></tr></table></div>"
      ],
      "text/plain": [
       "metric                       threshold    value     idx\n",
       "---------------------------  -----------  --------  -----\n",
       "max f1                       0.219237     0.575832  224\n",
       "max f2                       0.105018     0.6888    288\n",
       "max f0point5                 0.34658      0.571974  174\n",
       "max accuracy                 0.402298     0.903158  155\n",
       "max precision                0.906216     0.715493  23\n",
       "max recall                   0.00312165   1         397\n",
       "max specificity              0.999266     0.999625  0\n",
       "max absolute_mcc             0.158954     0.52064   253\n",
       "max min_per_class_accuracy   0.116856     0.834282  280\n",
       "max mean_per_class_accuracy  0.103873     0.839231  289"
      ]
     },
     "metadata": {
      "tags": []
     },
     "output_type": "display_data"
    },
    {
     "name": "stdout",
     "output_type": "stream",
     "text": [
      "Gains/Lift Table: Avg response rate: 11.64 %, avg score: 11.64 %\n",
      "\n"
     ]
    },
    {
     "data": {
      "text/html": [
       "<div style=\"overflow:auto\"><table style=\"width:50%\"><tr><td><b></b></td>\n",
       "<td><b>group</b></td>\n",
       "<td><b>cumulative_data_fraction</b></td>\n",
       "<td><b>lower_threshold</b></td>\n",
       "<td><b>lift</b></td>\n",
       "<td><b>cumulative_lift</b></td>\n",
       "<td><b>response_rate</b></td>\n",
       "<td><b>score</b></td>\n",
       "<td><b>cumulative_response_rate</b></td>\n",
       "<td><b>cumulative_score</b></td>\n",
       "<td><b>capture_rate</b></td>\n",
       "<td><b>cumulative_capture_rate</b></td>\n",
       "<td><b>gain</b></td>\n",
       "<td><b>cumulative_gain</b></td></tr>\n",
       "<tr><td></td>\n",
       "<td>1</td>\n",
       "<td>0.0100210</td>\n",
       "<td>0.9024603</td>\n",
       "<td>6.1274950</td>\n",
       "<td>6.1274950</td>\n",
       "<td>0.7134986</td>\n",
       "<td>0.9546178</td>\n",
       "<td>0.7134986</td>\n",
       "<td>0.9546178</td>\n",
       "<td>0.0614035</td>\n",
       "<td>0.0614035</td>\n",
       "<td>512.7495046</td>\n",
       "<td>512.7495046</td></tr>\n",
       "<tr><td></td>\n",
       "<td>2</td>\n",
       "<td>0.0200144</td>\n",
       "<td>0.8099567</td>\n",
       "<td>5.9309091</td>\n",
       "<td>6.0293376</td>\n",
       "<td>0.6906077</td>\n",
       "<td>0.8526814</td>\n",
       "<td>0.7020690</td>\n",
       "<td>0.9037199</td>\n",
       "<td>0.0592698</td>\n",
       "<td>0.1206733</td>\n",
       "<td>493.0909100</td>\n",
       "<td>502.9337650</td></tr>\n",
       "<tr><td></td>\n",
       "<td>3</td>\n",
       "<td>0.0300077</td>\n",
       "<td>0.7207274</td>\n",
       "<td>5.8597382</td>\n",
       "<td>5.9728565</td>\n",
       "<td>0.6823204</td>\n",
       "<td>0.7622316</td>\n",
       "<td>0.6954922</td>\n",
       "<td>0.8566005</td>\n",
       "<td>0.0585586</td>\n",
       "<td>0.1792319</td>\n",
       "<td>485.9738191</td>\n",
       "<td>497.2856505</td></tr>\n",
       "<tr><td></td>\n",
       "<td>4</td>\n",
       "<td>0.0400011</td>\n",
       "<td>0.6325346</td>\n",
       "<td>5.6699491</td>\n",
       "<td>5.8971819</td>\n",
       "<td>0.6602210</td>\n",
       "<td>0.6758306</td>\n",
       "<td>0.6866805</td>\n",
       "<td>0.8114392</td>\n",
       "<td>0.0566619</td>\n",
       "<td>0.2358938</td>\n",
       "<td>466.9949100</td>\n",
       "<td>489.7181915</td></tr>\n",
       "<tr><td></td>\n",
       "<td>5</td>\n",
       "<td>0.0500221</td>\n",
       "<td>0.5615671</td>\n",
       "<td>4.9918975</td>\n",
       "<td>5.7158253</td>\n",
       "<td>0.5812672</td>\n",
       "<td>0.5949416</td>\n",
       "<td>0.6655629</td>\n",
       "<td>0.7680680</td>\n",
       "<td>0.0500237</td>\n",
       "<td>0.2859175</td>\n",
       "<td>399.1897509</td>\n",
       "<td>471.5825271</td></tr>\n",
       "<tr><td></td>\n",
       "<td>6</td>\n",
       "<td>0.1000166</td>\n",
       "<td>0.3163073</td>\n",
       "<td>4.3579966</td>\n",
       "<td>5.0370983</td>\n",
       "<td>0.5074544</td>\n",
       "<td>0.4241396</td>\n",
       "<td>0.5865305</td>\n",
       "<td>0.5961513</td>\n",
       "<td>0.2178758</td>\n",
       "<td>0.5037933</td>\n",
       "<td>335.7996638</td>\n",
       "<td>403.7098344</td></tr>\n",
       "<tr><td></td>\n",
       "<td>7</td>\n",
       "<td>0.1500110</td>\n",
       "<td>0.2066819</td>\n",
       "<td>3.0634013</td>\n",
       "<td>4.3793204</td>\n",
       "<td>0.3567090</td>\n",
       "<td>0.2558440</td>\n",
       "<td>0.5099374</td>\n",
       "<td>0.4827364</td>\n",
       "<td>0.1531532</td>\n",
       "<td>0.6569464</td>\n",
       "<td>206.3401336</td>\n",
       "<td>337.9320413</td></tr>\n",
       "<tr><td></td>\n",
       "<td>8</td>\n",
       "<td>0.2000055</td>\n",
       "<td>0.1467397</td>\n",
       "<td>2.2619852</td>\n",
       "<td>3.8500597</td>\n",
       "<td>0.2633904</td>\n",
       "<td>0.1729920</td>\n",
       "<td>0.4483092</td>\n",
       "<td>0.4053110</td>\n",
       "<td>0.1130868</td>\n",
       "<td>0.7700332</td>\n",
       "<td>126.1985197</td>\n",
       "<td>285.0059671</td></tr>\n",
       "<tr><td></td>\n",
       "<td>9</td>\n",
       "<td>0.2999945</td>\n",
       "<td>0.0880610</td>\n",
       "<td>1.2353190</td>\n",
       "<td>2.9785596</td>\n",
       "<td>0.1438432</td>\n",
       "<td>0.1133180</td>\n",
       "<td>0.3468299</td>\n",
       "<td>0.3079889</td>\n",
       "<td>0.1235183</td>\n",
       "<td>0.8935514</td>\n",
       "<td>23.5318960</td>\n",
       "<td>197.8559638</td></tr>\n",
       "<tr><td></td>\n",
       "<td>10</td>\n",
       "<td>0.4000110</td>\n",
       "<td>0.0616198</td>\n",
       "<td>0.4930430</td>\n",
       "<td>2.3570947</td>\n",
       "<td>0.0574110</td>\n",
       "<td>0.0732211</td>\n",
       "<td>0.2744651</td>\n",
       "<td>0.2492889</td>\n",
       "<td>0.0493125</td>\n",
       "<td>0.9428639</td>\n",
       "<td>-50.6956962</td>\n",
       "<td>135.7094721</td></tr>\n",
       "<tr><td></td>\n",
       "<td>11</td>\n",
       "<td>0.5</td>\n",
       "<td>0.0463588</td>\n",
       "<td>0.2584448</td>\n",
       "<td>1.9374111</td>\n",
       "<td>0.0300939</td>\n",
       "<td>0.0534209</td>\n",
       "<td>0.2255963</td>\n",
       "<td>0.2101196</td>\n",
       "<td>0.0258416</td>\n",
       "<td>0.9687055</td>\n",
       "<td>-74.1555150</td>\n",
       "<td>93.7411095</td></tr>\n",
       "<tr><td></td>\n",
       "<td>12</td>\n",
       "<td>0.5999890</td>\n",
       "<td>0.0350418</td>\n",
       "<td>0.1470053</td>\n",
       "<td>1.6390376</td>\n",
       "<td>0.0171176</td>\n",
       "<td>0.0405770</td>\n",
       "<td>0.1908530</td>\n",
       "<td>0.1818651</td>\n",
       "<td>0.0146989</td>\n",
       "<td>0.9834045</td>\n",
       "<td>-85.2994673</td>\n",
       "<td>63.9037593</td></tr>\n",
       "<tr><td></td>\n",
       "<td>13</td>\n",
       "<td>0.7000055</td>\n",
       "<td>0.0259352</td>\n",
       "<td>0.0853344</td>\n",
       "<td>1.4170450</td>\n",
       "<td>0.0099365</td>\n",
       "<td>0.0303479</td>\n",
       "<td>0.1650037</td>\n",
       "<td>0.1602164</td>\n",
       "<td>0.0085349</td>\n",
       "<td>0.9919393</td>\n",
       "<td>-91.4665628</td>\n",
       "<td>41.7044977</td></tr>\n",
       "<tr><td></td>\n",
       "<td>14</td>\n",
       "<td>0.7999945</td>\n",
       "<td>0.0176356</td>\n",
       "<td>0.0284526</td>\n",
       "<td>1.2434889</td>\n",
       "<td>0.0033131</td>\n",
       "<td>0.0217306</td>\n",
       "<td>0.1447945</td>\n",
       "<td>0.1429074</td>\n",
       "<td>0.0028450</td>\n",
       "<td>0.9947843</td>\n",
       "<td>-97.1547356</td>\n",
       "<td>24.3488904</td></tr>\n",
       "<tr><td></td>\n",
       "<td>15</td>\n",
       "<td>0.8999834</td>\n",
       "<td>0.0103586</td>\n",
       "<td>0.0284526</td>\n",
       "<td>1.1084973</td>\n",
       "<td>0.0033131</td>\n",
       "<td>0.0138658</td>\n",
       "<td>0.1290758</td>\n",
       "<td>0.1285708</td>\n",
       "<td>0.0028450</td>\n",
       "<td>0.9976292</td>\n",
       "<td>-97.1547356</td>\n",
       "<td>10.8497299</td></tr>\n",
       "<tr><td></td>\n",
       "<td>16</td>\n",
       "<td>1.0</td>\n",
       "<td>0.0000520</td>\n",
       "<td>0.0237040</td>\n",
       "<td>1.0</td>\n",
       "<td>0.0027601</td>\n",
       "<td>0.0069165</td>\n",
       "<td>0.1164421</td>\n",
       "<td>0.1164034</td>\n",
       "<td>0.0023708</td>\n",
       "<td>1.0</td>\n",
       "<td>-97.6296008</td>\n",
       "<td>0.0</td></tr></table></div>"
      ],
      "text/plain": [
       "    group    cumulative_data_fraction    lower_threshold    lift       cumulative_lift    response_rate    score       cumulative_response_rate    cumulative_score    capture_rate    cumulative_capture_rate    gain      cumulative_gain\n",
       "--  -------  --------------------------  -----------------  ---------  -----------------  ---------------  ----------  --------------------------  ------------------  --------------  -------------------------  --------  -----------------\n",
       "    1        0.010021                    0.90246            6.1275     6.1275             0.713499         0.954618    0.713499                    0.954618            0.0614035       0.0614035                  512.75    512.75\n",
       "    2        0.0200144                   0.809957           5.93091    6.02934            0.690608         0.852681    0.702069                    0.90372             0.0592698       0.120673                   493.091   502.934\n",
       "    3        0.0300077                   0.720727           5.85974    5.97286            0.68232          0.762232    0.695492                    0.856601            0.0585586       0.179232                   485.974   497.286\n",
       "    4        0.0400011                   0.632535           5.66995    5.89718            0.660221         0.675831    0.68668                     0.811439            0.0566619       0.235894                   466.995   489.718\n",
       "    5        0.0500221                   0.561567           4.9919     5.71583            0.581267         0.594942    0.665563                    0.768068            0.0500237       0.285917                   399.19    471.583\n",
       "    6        0.100017                    0.316307           4.358      5.0371             0.507454         0.42414     0.58653                     0.596151            0.217876        0.503793                   335.8     403.71\n",
       "    7        0.150011                    0.206682           3.0634     4.37932            0.356709         0.255844    0.509937                    0.482736            0.153153        0.656946                   206.34    337.932\n",
       "    8        0.200006                    0.14674            2.26199    3.85006            0.26339          0.172992    0.448309                    0.405311            0.113087        0.770033                   126.199   285.006\n",
       "    9        0.299994                    0.088061           1.23532    2.97856            0.143843         0.113318    0.34683                     0.307989            0.123518        0.893551                   23.5319   197.856\n",
       "    10       0.400011                    0.0616198          0.493043   2.35709            0.057411         0.0732211   0.274465                    0.249289            0.0493125       0.942864                   -50.6957  135.709\n",
       "    11       0.5                         0.0463588          0.258445   1.93741            0.0300939        0.0534209   0.225596                    0.21012             0.0258416       0.968706                   -74.1555  93.7411\n",
       "    12       0.599989                    0.0350418          0.147005   1.63904            0.0171176        0.040577    0.190853                    0.181865            0.0146989       0.983404                   -85.2995  63.9038\n",
       "    13       0.700006                    0.0259352          0.0853344  1.41704            0.00993652       0.0303479   0.165004                    0.160216            0.00853485      0.991939                   -91.4666  41.7045\n",
       "    14       0.799994                    0.0176356          0.0284526  1.24349            0.00331309       0.0217306   0.144795                    0.142907            0.00284495      0.994784                   -97.1547  24.3489\n",
       "    15       0.899983                    0.0103586          0.0284526  1.1085             0.00331309       0.0138658   0.129076                    0.128571            0.00284495      0.997629                   -97.1547  10.8497\n",
       "    16       1                           5.20281e-05        0.023704   1                  0.00276014       0.00691653  0.116442                    0.116403            0.00237079      1                          -97.6296  0"
      ]
     },
     "metadata": {
      "tags": []
     },
     "output_type": "display_data"
    },
    {
     "name": "stdout",
     "output_type": "stream",
     "text": [
      "\n",
      "\n",
      "ModelMetricsBinomialGLM: glm\n",
      "** Reported on validation data. **\n",
      "\n",
      "MSE: 0.0706300616089855\n",
      "RMSE: 0.2657631682701452\n",
      "LogLoss: 0.23828595057289353\n",
      "Null degrees of freedom: 4594\n",
      "Residual degrees of freedom: 4553\n",
      "Null deviance: 3362.8735995876823\n",
      "Residual deviance: 2189.847885764891\n",
      "AIC: 2273.847885764891\n",
      "AUC: 0.9126833311273722\n",
      "pr_auc: 0.5596829193662611\n",
      "Gini: 0.8253666622547444\n",
      "Confusion Matrix (Act/Pred) for max f1 @ threshold = 0.20746383675718202: \n"
     ]
    },
    {
     "data": {
      "text/html": [
       "<div style=\"overflow:auto\"><table style=\"width:50%\"><tr><td><b></b></td>\n",
       "<td><b>no</b></td>\n",
       "<td><b>yes</b></td>\n",
       "<td><b>Error</b></td>\n",
       "<td><b>Rate</b></td></tr>\n",
       "<tr><td>no</td>\n",
       "<td>3702.0</td>\n",
       "<td>344.0</td>\n",
       "<td>0.085</td>\n",
       "<td> (344.0/4046.0)</td></tr>\n",
       "<tr><td>yes</td>\n",
       "<td>169.0</td>\n",
       "<td>380.0</td>\n",
       "<td>0.3078</td>\n",
       "<td> (169.0/549.0)</td></tr>\n",
       "<tr><td>Total</td>\n",
       "<td>3871.0</td>\n",
       "<td>724.0</td>\n",
       "<td>0.1116</td>\n",
       "<td> (513.0/4595.0)</td></tr></table></div>"
      ],
      "text/plain": [
       "       no    yes    Error    Rate\n",
       "-----  ----  -----  -------  --------------\n",
       "no     3702  344    0.085    (344.0/4046.0)\n",
       "yes    169   380    0.3078   (169.0/549.0)\n",
       "Total  3871  724    0.1116   (513.0/4595.0)"
      ]
     },
     "metadata": {
      "tags": []
     },
     "output_type": "display_data"
    },
    {
     "name": "stdout",
     "output_type": "stream",
     "text": [
      "Maximum Metrics: Maximum metrics at their respective thresholds\n",
      "\n"
     ]
    },
    {
     "data": {
      "text/html": [
       "<div style=\"overflow:auto\"><table style=\"width:50%\"><tr><td><b>metric</b></td>\n",
       "<td><b>threshold</b></td>\n",
       "<td><b>value</b></td>\n",
       "<td><b>idx</b></td></tr>\n",
       "<tr><td>max f1</td>\n",
       "<td>0.2074638</td>\n",
       "<td>0.5970149</td>\n",
       "<td>214.0</td></tr>\n",
       "<tr><td>max f2</td>\n",
       "<td>0.1251457</td>\n",
       "<td>0.7086012</td>\n",
       "<td>264.0</td></tr>\n",
       "<tr><td>max f0point5</td>\n",
       "<td>0.3305971</td>\n",
       "<td>0.6057577</td>\n",
       "<td>164.0</td></tr>\n",
       "<tr><td>max accuracy</td>\n",
       "<td>0.3454317</td>\n",
       "<td>0.9062024</td>\n",
       "<td>159.0</td></tr>\n",
       "<tr><td>max precision</td>\n",
       "<td>0.9860435</td>\n",
       "<td>0.7333333</td>\n",
       "<td>3.0</td></tr>\n",
       "<tr><td>max recall</td>\n",
       "<td>0.0183376</td>\n",
       "<td>1.0</td>\n",
       "<td>376.0</td></tr>\n",
       "<tr><td>max specificity</td>\n",
       "<td>0.9991153</td>\n",
       "<td>0.9995057</td>\n",
       "<td>0.0</td></tr>\n",
       "<tr><td>max absolute_mcc</td>\n",
       "<td>0.1594383</td>\n",
       "<td>0.5439642</td>\n",
       "<td>241.0</td></tr>\n",
       "<tr><td>max min_per_class_accuracy</td>\n",
       "<td>0.1251457</td>\n",
       "<td>0.8433515</td>\n",
       "<td>264.0</td></tr>\n",
       "<tr><td>max mean_per_class_accuracy</td>\n",
       "<td>0.1038340</td>\n",
       "<td>0.8468037</td>\n",
       "<td>280.0</td></tr></table></div>"
      ],
      "text/plain": [
       "metric                       threshold    value     idx\n",
       "---------------------------  -----------  --------  -----\n",
       "max f1                       0.207464     0.597015  214\n",
       "max f2                       0.125146     0.708601  264\n",
       "max f0point5                 0.330597     0.605758  164\n",
       "max accuracy                 0.345432     0.906202  159\n",
       "max precision                0.986044     0.733333  3\n",
       "max recall                   0.0183376    1         376\n",
       "max specificity              0.999115     0.999506  0\n",
       "max absolute_mcc             0.159438     0.543964  241\n",
       "max min_per_class_accuracy   0.125146     0.843352  264\n",
       "max mean_per_class_accuracy  0.103834     0.846804  280"
      ]
     },
     "metadata": {
      "tags": []
     },
     "output_type": "display_data"
    },
    {
     "name": "stdout",
     "output_type": "stream",
     "text": [
      "Gains/Lift Table: Avg response rate: 11.95 %, avg score: 12.19 %\n",
      "\n"
     ]
    },
    {
     "data": {
      "text/html": [
       "<div style=\"overflow:auto\"><table style=\"width:50%\"><tr><td><b></b></td>\n",
       "<td><b>group</b></td>\n",
       "<td><b>cumulative_data_fraction</b></td>\n",
       "<td><b>lower_threshold</b></td>\n",
       "<td><b>lift</b></td>\n",
       "<td><b>cumulative_lift</b></td>\n",
       "<td><b>response_rate</b></td>\n",
       "<td><b>score</b></td>\n",
       "<td><b>cumulative_response_rate</b></td>\n",
       "<td><b>cumulative_score</b></td>\n",
       "<td><b>capture_rate</b></td>\n",
       "<td><b>cumulative_capture_rate</b></td>\n",
       "<td><b>gain</b></td>\n",
       "<td><b>cumulative_gain</b></td></tr>\n",
       "<tr><td></td>\n",
       "<td>1</td>\n",
       "<td>0.0100109</td>\n",
       "<td>0.9071555</td>\n",
       "<td>5.6404926</td>\n",
       "<td>5.6404926</td>\n",
       "<td>0.6739130</td>\n",
       "<td>0.9646750</td>\n",
       "<td>0.6739130</td>\n",
       "<td>0.9646750</td>\n",
       "<td>0.0564663</td>\n",
       "<td>0.0564663</td>\n",
       "<td>464.0492595</td>\n",
       "<td>464.0492595</td></tr>\n",
       "<tr><td></td>\n",
       "<td>2</td>\n",
       "<td>0.0200218</td>\n",
       "<td>0.8277024</td>\n",
       "<td>5.0946385</td>\n",
       "<td>5.3675655</td>\n",
       "<td>0.6086957</td>\n",
       "<td>0.8720386</td>\n",
       "<td>0.6413043</td>\n",
       "<td>0.9183568</td>\n",
       "<td>0.0510018</td>\n",
       "<td>0.1074681</td>\n",
       "<td>409.4638473</td>\n",
       "<td>436.7565534</td></tr>\n",
       "<tr><td></td>\n",
       "<td>3</td>\n",
       "<td>0.0300326</td>\n",
       "<td>0.7449510</td>\n",
       "<td>5.6404926</td>\n",
       "<td>5.4585412</td>\n",
       "<td>0.6739130</td>\n",
       "<td>0.7837556</td>\n",
       "<td>0.6521739</td>\n",
       "<td>0.8734897</td>\n",
       "<td>0.0564663</td>\n",
       "<td>0.1639344</td>\n",
       "<td>464.0492595</td>\n",
       "<td>445.8541221</td></tr>\n",
       "<tr><td></td>\n",
       "<td>4</td>\n",
       "<td>0.0400435</td>\n",
       "<td>0.6694433</td>\n",
       "<td>6.7322008</td>\n",
       "<td>5.7769561</td>\n",
       "<td>0.8043478</td>\n",
       "<td>0.7130213</td>\n",
       "<td>0.6902174</td>\n",
       "<td>0.8333726</td>\n",
       "<td>0.0673953</td>\n",
       "<td>0.2313297</td>\n",
       "<td>573.2200839</td>\n",
       "<td>477.6956126</td></tr>\n",
       "<tr><td></td>\n",
       "<td>5</td>\n",
       "<td>0.0500544</td>\n",
       "<td>0.6134350</td>\n",
       "<td>5.6404926</td>\n",
       "<td>5.7496634</td>\n",
       "<td>0.6739130</td>\n",
       "<td>0.6396067</td>\n",
       "<td>0.6869565</td>\n",
       "<td>0.7946194</td>\n",
       "<td>0.0564663</td>\n",
       "<td>0.2877960</td>\n",
       "<td>464.0492595</td>\n",
       "<td>474.9663420</td></tr>\n",
       "<tr><td></td>\n",
       "<td>6</td>\n",
       "<td>0.1001088</td>\n",
       "<td>0.3502584</td>\n",
       "<td>4.7307357</td>\n",
       "<td>5.2401996</td>\n",
       "<td>0.5652174</td>\n",
       "<td>0.4642480</td>\n",
       "<td>0.6260870</td>\n",
       "<td>0.6294337</td>\n",
       "<td>0.2367942</td>\n",
       "<td>0.5245902</td>\n",
       "<td>373.0735725</td>\n",
       "<td>424.0199572</td></tr>\n",
       "<tr><td></td>\n",
       "<td>7</td>\n",
       "<td>0.1501632</td>\n",
       "<td>0.2182733</td>\n",
       "<td>2.8384414</td>\n",
       "<td>4.4396135</td>\n",
       "<td>0.3391304</td>\n",
       "<td>0.2736415</td>\n",
       "<td>0.5304348</td>\n",
       "<td>0.5108363</td>\n",
       "<td>0.1420765</td>\n",
       "<td>0.6666667</td>\n",
       "<td>183.8441435</td>\n",
       "<td>343.9613527</td></tr>\n",
       "<tr><td></td>\n",
       "<td>8</td>\n",
       "<td>0.2</td>\n",
       "<td>0.1530650</td>\n",
       "<td>2.4487953</td>\n",
       "<td>3.9435337</td>\n",
       "<td>0.2925764</td>\n",
       "<td>0.1832102</td>\n",
       "<td>0.4711643</td>\n",
       "<td>0.4291971</td>\n",
       "<td>0.1220401</td>\n",
       "<td>0.7887067</td>\n",
       "<td>144.8795348</td>\n",
       "<td>294.3533698</td></tr>\n",
       "<tr><td></td>\n",
       "<td>9</td>\n",
       "<td>0.3001088</td>\n",
       "<td>0.0904129</td>\n",
       "<td>1.1280985</td>\n",
       "<td>3.0043748</td>\n",
       "<td>0.1347826</td>\n",
       "<td>0.1169328</td>\n",
       "<td>0.3589558</td>\n",
       "<td>0.3250335</td>\n",
       "<td>0.1129326</td>\n",
       "<td>0.9016393</td>\n",
       "<td>12.8098519</td>\n",
       "<td>200.4374755</td></tr>\n",
       "<tr><td></td>\n",
       "<td>10</td>\n",
       "<td>0.4</td>\n",
       "<td>0.0628949</td>\n",
       "<td>0.4376347</td>\n",
       "<td>2.3633880</td>\n",
       "<td>0.0522876</td>\n",
       "<td>0.0751264</td>\n",
       "<td>0.2823721</td>\n",
       "<td>0.2626247</td>\n",
       "<td>0.0437158</td>\n",
       "<td>0.9453552</td>\n",
       "<td>-56.2365323</td>\n",
       "<td>136.3387978</td></tr>\n",
       "<tr><td></td>\n",
       "<td>11</td>\n",
       "<td>0.5001088</td>\n",
       "<td>0.0465250</td>\n",
       "<td>0.1819514</td>\n",
       "<td>1.9267209</td>\n",
       "<td>0.0217391</td>\n",
       "<td>0.0540121</td>\n",
       "<td>0.2302002</td>\n",
       "<td>0.2208659</td>\n",
       "<td>0.0182149</td>\n",
       "<td>0.9635701</td>\n",
       "<td>-81.8048626</td>\n",
       "<td>92.6720947</td></tr>\n",
       "<tr><td></td>\n",
       "<td>12</td>\n",
       "<td>0.6</td>\n",
       "<td>0.0347454</td>\n",
       "<td>0.2188173</td>\n",
       "<td>1.6423801</td>\n",
       "<td>0.0261438</td>\n",
       "<td>0.0401877</td>\n",
       "<td>0.1962278</td>\n",
       "<td>0.1907856</td>\n",
       "<td>0.0218579</td>\n",
       "<td>0.9854281</td>\n",
       "<td>-78.1182661</td>\n",
       "<td>64.2380085</td></tr>\n",
       "<tr><td></td>\n",
       "<td>13</td>\n",
       "<td>0.6998912</td>\n",
       "<td>0.0262076</td>\n",
       "<td>0.0729391</td>\n",
       "<td>1.4183834</td>\n",
       "<td>0.0087146</td>\n",
       "<td>0.0304128</td>\n",
       "<td>0.1694652</td>\n",
       "<td>0.1678966</td>\n",
       "<td>0.0072860</td>\n",
       "<td>0.9927140</td>\n",
       "<td>-92.7060887</td>\n",
       "<td>41.8383379</td></tr>\n",
       "<tr><td></td>\n",
       "<td>14</td>\n",
       "<td>0.8</td>\n",
       "<td>0.0181864</td>\n",
       "<td>0.0727805</td>\n",
       "<td>1.25</td>\n",
       "<td>0.0086957</td>\n",
       "<td>0.0220271</td>\n",
       "<td>0.1493471</td>\n",
       "<td>0.1496431</td>\n",
       "<td>0.0072860</td>\n",
       "<td>1.0</td>\n",
       "<td>-92.7219450</td>\n",
       "<td>25.0</td></tr>\n",
       "<tr><td></td>\n",
       "<td>15</td>\n",
       "<td>0.8998912</td>\n",
       "<td>0.0106852</td>\n",
       "<td>0.0</td>\n",
       "<td>1.1112455</td>\n",
       "<td>0.0</td>\n",
       "<td>0.0143890</td>\n",
       "<td>0.1327690</td>\n",
       "<td>0.1346294</td>\n",
       "<td>0.0</td>\n",
       "<td>1.0</td>\n",
       "<td>-100.0</td>\n",
       "<td>11.1245466</td></tr>\n",
       "<tr><td></td>\n",
       "<td>16</td>\n",
       "<td>1.0</td>\n",
       "<td>0.0001615</td>\n",
       "<td>0.0</td>\n",
       "<td>1.0</td>\n",
       "<td>0.0</td>\n",
       "<td>0.0072230</td>\n",
       "<td>0.1194777</td>\n",
       "<td>0.1218749</td>\n",
       "<td>0.0</td>\n",
       "<td>1.0</td>\n",
       "<td>-100.0</td>\n",
       "<td>0.0</td></tr></table></div>"
      ],
      "text/plain": [
       "    group    cumulative_data_fraction    lower_threshold    lift       cumulative_lift    response_rate    score       cumulative_response_rate    cumulative_score    capture_rate    cumulative_capture_rate    gain      cumulative_gain\n",
       "--  -------  --------------------------  -----------------  ---------  -----------------  ---------------  ----------  --------------------------  ------------------  --------------  -------------------------  --------  -----------------\n",
       "    1        0.0100109                   0.907156           5.64049    5.64049            0.673913         0.964675    0.673913                    0.964675            0.0564663       0.0564663                  464.049   464.049\n",
       "    2        0.0200218                   0.827702           5.09464    5.36757            0.608696         0.872039    0.641304                    0.918357            0.0510018       0.107468                   409.464   436.757\n",
       "    3        0.0300326                   0.744951           5.64049    5.45854            0.673913         0.783756    0.652174                    0.87349             0.0564663       0.163934                   464.049   445.854\n",
       "    4        0.0400435                   0.669443           6.7322     5.77696            0.804348         0.713021    0.690217                    0.833373            0.0673953       0.23133                    573.22    477.696\n",
       "    5        0.0500544                   0.613435           5.64049    5.74966            0.673913         0.639607    0.686957                    0.794619            0.0564663       0.287796                   464.049   474.966\n",
       "    6        0.100109                    0.350258           4.73074    5.2402             0.565217         0.464248    0.626087                    0.629434            0.236794        0.52459                    373.074   424.02\n",
       "    7        0.150163                    0.218273           2.83844    4.43961            0.33913          0.273641    0.530435                    0.510836            0.142077        0.666667                   183.844   343.961\n",
       "    8        0.2                         0.153065           2.4488     3.94353            0.292576         0.18321     0.471164                    0.429197            0.12204         0.788707                   144.88    294.353\n",
       "    9        0.300109                    0.0904129          1.1281     3.00437            0.134783         0.116933    0.358956                    0.325034            0.112933        0.901639                   12.8099   200.437\n",
       "    10       0.4                         0.0628949          0.437635   2.36339            0.0522876        0.0751264   0.282372                    0.262625            0.0437158       0.945355                   -56.2365  136.339\n",
       "    11       0.500109                    0.046525           0.181951   1.92672            0.0217391        0.0540121   0.2302                      0.220866            0.0182149       0.96357                    -81.8049  92.6721\n",
       "    12       0.6                         0.0347454          0.218817   1.64238            0.0261438        0.0401877   0.196228                    0.190786            0.0218579       0.985428                   -78.1183  64.238\n",
       "    13       0.699891                    0.0262076          0.0729391  1.41838            0.0087146        0.0304128   0.169465                    0.167897            0.00728597      0.992714                   -92.7061  41.8383\n",
       "    14       0.8                         0.0181864          0.0727805  1.25               0.00869565       0.0220271   0.149347                    0.149643            0.00728597      1                          -92.7219  25\n",
       "    15       0.899891                    0.0106852          0          1.11125            0                0.014389    0.132769                    0.134629            0               1                          -100      11.1245\n",
       "    16       1                           0.000161535        0          1                  0                0.00722296  0.119478                    0.121875            0               1                          -100      0"
      ]
     },
     "metadata": {
      "tags": []
     },
     "output_type": "display_data"
    },
    {
     "name": "stdout",
     "output_type": "stream",
     "text": [
      "\n",
      "Scoring History: \n"
     ]
    },
    {
     "data": {
      "text/html": [
       "<div style=\"overflow:auto\"><table style=\"width:50%\"><tr><td><b></b></td>\n",
       "<td><b>timestamp</b></td>\n",
       "<td><b>duration</b></td>\n",
       "<td><b>iterations</b></td>\n",
       "<td><b>negative_log_likelihood</b></td>\n",
       "<td><b>objective</b></td></tr>\n",
       "<tr><td></td>\n",
       "<td>2019-02-05 11:15:17</td>\n",
       "<td> 0.000 sec</td>\n",
       "<td>0</td>\n",
       "<td>13032.5165630</td>\n",
       "<td>0.3597757</td></tr>\n",
       "<tr><td></td>\n",
       "<td>2019-02-05 11:15:17</td>\n",
       "<td> 0.182 sec</td>\n",
       "<td>1</td>\n",
       "<td>9798.4225565</td>\n",
       "<td>0.2745847</td></tr>\n",
       "<tr><td></td>\n",
       "<td>2019-02-05 11:15:18</td>\n",
       "<td> 0.277 sec</td>\n",
       "<td>2</td>\n",
       "<td>9056.4022792</td>\n",
       "<td>0.2521491</td></tr>\n",
       "<tr><td></td>\n",
       "<td>2019-02-05 11:15:18</td>\n",
       "<td> 0.341 sec</td>\n",
       "<td>3</td>\n",
       "<td>8696.5873987</td>\n",
       "<td>0.2429587</td></tr>\n",
       "<tr><td></td>\n",
       "<td>2019-02-05 11:15:18</td>\n",
       "<td> 0.384 sec</td>\n",
       "<td>4</td>\n",
       "<td>8688.3893951</td>\n",
       "<td>0.2428121</td></tr>\n",
       "<tr><td></td>\n",
       "<td>2019-02-05 11:15:18</td>\n",
       "<td> 0.427 sec</td>\n",
       "<td>5</td>\n",
       "<td>8687.8647697</td>\n",
       "<td>0.2428074</td></tr></table></div>"
      ],
      "text/plain": [
       "    timestamp            duration    iterations    negative_log_likelihood    objective\n",
       "--  -------------------  ----------  ------------  -------------------------  -----------\n",
       "    2019-02-05 11:15:17  0.000 sec   0             13032.5                    0.359776\n",
       "    2019-02-05 11:15:17  0.182 sec   1             9798.42                    0.274585\n",
       "    2019-02-05 11:15:18  0.277 sec   2             9056.4                     0.252149\n",
       "    2019-02-05 11:15:18  0.341 sec   3             8696.59                    0.242959\n",
       "    2019-02-05 11:15:18  0.384 sec   4             8688.39                    0.242812\n",
       "    2019-02-05 11:15:18  0.427 sec   5             8687.86                    0.242807"
      ]
     },
     "metadata": {
      "tags": []
     },
     "output_type": "display_data"
    },
    {
     "data": {
      "text/plain": []
     },
     "execution_count": 22,
     "metadata": {
      "tags": []
     },
     "output_type": "execute_result"
    }
   ],
   "source": [
    "model"
   ]
  },
  {
   "cell_type": "code",
   "execution_count": 0,
   "metadata": {
    "colab": {
     "base_uri": "https://localhost:8080/",
     "height": 52
    },
    "colab_type": "code",
    "executionInfo": {
     "elapsed": 1243,
     "status": "ok",
     "timestamp": 1549365432391,
     "user": {
      "displayName": "Fazil B. Topal",
      "photoUrl": "https://lh4.googleusercontent.com/-IxiCh57ZfZI/AAAAAAAAAAI/AAAAAAAAAGg/HpcJn-cqYZk/s64/photo.jpg",
      "userId": "06988773581943736669"
     },
     "user_tz": -60
    },
    "id": "GGM8oNNEPESX",
    "outputId": "fe1e86b1-142e-4649-a0d7-fd4df256def1",
    "scrolled": true
   },
   "outputs": [
    {
     "name": "stdout",
     "output_type": "stream",
     "text": [
      "glm Model Build progress: |███████████████████████████████████████████████| 100%\n",
      "peak memory: 151.50 MiB, increment: 1.01 MiB\n"
     ]
    }
   ],
   "source": [
    "%memit model.train(x=feature_columns, y=label, training_frame=train, validation_frame=val)"
   ]
  },
  {
   "cell_type": "code",
   "execution_count": 0,
   "metadata": {
    "colab": {
     "base_uri": "https://localhost:8080/",
     "height": 69
    },
    "colab_type": "code",
    "executionInfo": {
     "elapsed": 1382,
     "status": "ok",
     "timestamp": 1549365432984,
     "user": {
      "displayName": "Fazil B. Topal",
      "photoUrl": "https://lh4.googleusercontent.com/-IxiCh57ZfZI/AAAAAAAAAAI/AAAAAAAAAGg/HpcJn-cqYZk/s64/photo.jpg",
      "userId": "06988773581943736669"
     },
     "user_tz": -60
    },
    "id": "C1ZkEgITPESb",
    "outputId": "6b708ba9-dc7a-4833-fe50-9c223bb820d4"
   },
   "outputs": [
    {
     "name": "stdout",
     "output_type": "stream",
     "text": [
      "glm Model Build progress: |███████████████████████████████████████████████| 100%\n",
      "CPU times: user 46.4 ms, sys: 3.6 ms, total: 50 ms\n",
      "Wall time: 544 ms\n"
     ]
    }
   ],
   "source": [
    "%time model.train(x=feature_columns, y=label, training_frame=train, validation_frame=val)"
   ]
  },
  {
   "cell_type": "code",
   "execution_count": 0,
   "metadata": {
    "colab": {
     "base_uri": "https://localhost:8080/",
     "height": 52
    },
    "colab_type": "code",
    "executionInfo": {
     "elapsed": 1842,
     "status": "ok",
     "timestamp": 1549365433783,
     "user": {
      "displayName": "Fazil B. Topal",
      "photoUrl": "https://lh4.googleusercontent.com/-IxiCh57ZfZI/AAAAAAAAAAI/AAAAAAAAAGg/HpcJn-cqYZk/s64/photo.jpg",
      "userId": "06988773581943736669"
     },
     "user_tz": -60
    },
    "id": "Yvr7WlnEPESf",
    "outputId": "182cac0d-5e83-4221-ccd4-a14102ba22f3"
   },
   "outputs": [
    {
     "name": "stdout",
     "output_type": "stream",
     "text": [
      "glm Model Build progress: |███████████████████████████████████████████████| 100%\n",
      " "
     ]
    }
   ],
   "source": [
    "%prun model.train(x=feature_columns, y=label, training_frame=train, validation_frame=val)"
   ]
  },
  {
   "cell_type": "markdown",
   "metadata": {
    "colab_type": "text",
    "id": "vdYV9if_PESj"
   },
   "source": [
    "**Results**"
   ]
  },
  {
   "cell_type": "markdown",
   "metadata": {
    "colab_type": "text",
    "id": "6EQohBIUPESk"
   },
   "source": [
    "**Accuracy**: 0.9062\n",
    "**AUC**: 0.91268\n",
    "**AUC Precision Recall**: 0.5291479  \n",
    "**Average Loss**: 0.40094  \n",
    "**Loss**: 0.2657\n",
    "**Precision**: 0.9563\n",
    "**Recall**: 0.9149  \n",
    "\n",
    "\n",
    "**%time**    \n",
    "CPU times: user 46.4 ms, sys: 3.6 ms, total: 50 ms  \n",
    "Wall time: 544 ms\n",
    "\n",
    "**%prun**   \n",
    "30356 function calls (28684 primitive calls) in 0.797 seconds\n",
    "\n",
    "**%memit**   \n",
    "peak memory: 151.50 MiB, increment: 1.01 MiB"
   ]
  },
  {
   "cell_type": "markdown",
   "metadata": {
    "colab_type": "text",
    "id": "cKDA93lEPESk"
   },
   "source": [
    "## Random Forest"
   ]
  },
  {
   "cell_type": "code",
   "execution_count": 0,
   "metadata": {
    "colab": {},
    "colab_type": "code",
    "id": "bkKAI5FlYfKR"
   },
   "outputs": [],
   "source": [
    "model = H2ORandomForestEstimator(model_id=\"rd_v1\", ntrees=200)"
   ]
  },
  {
   "cell_type": "code",
   "execution_count": 0,
   "metadata": {
    "colab": {
     "base_uri": "https://localhost:8080/",
     "height": 34
    },
    "colab_type": "code",
    "executionInfo": {
     "elapsed": 30647,
     "status": "ok",
     "timestamp": 1549365817031,
     "user": {
      "displayName": "Fazil B. Topal",
      "photoUrl": "https://lh4.googleusercontent.com/-IxiCh57ZfZI/AAAAAAAAAAI/AAAAAAAAAGg/HpcJn-cqYZk/s64/photo.jpg",
      "userId": "06988773581943736669"
     },
     "user_tz": -60
    },
    "id": "-jhrJOaBZO6Z",
    "outputId": "249f15e6-cf6d-4596-a4b7-fd2d1ff0da98"
   },
   "outputs": [
    {
     "name": "stdout",
     "output_type": "stream",
     "text": [
      "drf Model Build progress: |███████████████████████████████████████████████| 100%\n"
     ]
    }
   ],
   "source": [
    "model.train(x=feature_columns, y=label, training_frame=train, validation_frame=val)"
   ]
  },
  {
   "cell_type": "code",
   "execution_count": 0,
   "metadata": {
    "colab": {
     "base_uri": "https://localhost:8080/",
     "height": 3073
    },
    "colab_type": "code",
    "executionInfo": {
     "elapsed": 835,
     "status": "ok",
     "timestamp": 1549365820517,
     "user": {
      "displayName": "Fazil B. Topal",
      "photoUrl": "https://lh4.googleusercontent.com/-IxiCh57ZfZI/AAAAAAAAAAI/AAAAAAAAAGg/HpcJn-cqYZk/s64/photo.jpg",
      "userId": "06988773581943736669"
     },
     "user_tz": -60
    },
    "id": "YVRLXBTjZcQ2",
    "outputId": "110632c8-854d-4851-f2cc-bb9cb3cc4a71"
   },
   "outputs": [
    {
     "name": "stdout",
     "output_type": "stream",
     "text": [
      "Model Details\n",
      "=============\n",
      "H2ORandomForestEstimator :  Distributed Random Forest\n",
      "Model Key:  rd_v1\n",
      "\n",
      "\n",
      "ModelMetricsBinomial: drf\n",
      "** Reported on train data. **\n",
      "\n",
      "MSE: 0.06268215294274644\n",
      "RMSE: 0.2503640408340352\n",
      "LogLoss: 0.20027416620381755\n",
      "Mean Per-Class Error: 0.1308599765566716\n",
      "AUC: 0.9315084524958824\n",
      "pr_auc: 0.6113683366816596\n",
      "Gini: 0.8630169049917649\n",
      "Confusion Matrix (Act/Pred) for max f1 @ threshold = 0.29482220603287906: \n"
     ]
    },
    {
     "data": {
      "text/html": [
       "<div style=\"overflow:auto\"><table style=\"width:50%\"><tr><td><b></b></td>\n",
       "<td><b>no</b></td>\n",
       "<td><b>yes</b></td>\n",
       "<td><b>Error</b></td>\n",
       "<td><b>Rate</b></td></tr>\n",
       "<tr><td>no</td>\n",
       "<td>29138.0</td>\n",
       "<td>2868.0</td>\n",
       "<td>0.0896</td>\n",
       "<td> (2868.0/32006.0)</td></tr>\n",
       "<tr><td>yes</td>\n",
       "<td>1019.0</td>\n",
       "<td>3199.0</td>\n",
       "<td>0.2416</td>\n",
       "<td> (1019.0/4218.0)</td></tr>\n",
       "<tr><td>Total</td>\n",
       "<td>30157.0</td>\n",
       "<td>6067.0</td>\n",
       "<td>0.1073</td>\n",
       "<td> (3887.0/36224.0)</td></tr></table></div>"
      ],
      "text/plain": [
       "       no     yes    Error    Rate\n",
       "-----  -----  -----  -------  ----------------\n",
       "no     29138  2868   0.0896   (2868.0/32006.0)\n",
       "yes    1019   3199   0.2416   (1019.0/4218.0)\n",
       "Total  30157  6067   0.1073   (3887.0/36224.0)"
      ]
     },
     "metadata": {
      "tags": []
     },
     "output_type": "display_data"
    },
    {
     "name": "stdout",
     "output_type": "stream",
     "text": [
      "Maximum Metrics: Maximum metrics at their respective thresholds\n",
      "\n"
     ]
    },
    {
     "data": {
      "text/html": [
       "<div style=\"overflow:auto\"><table style=\"width:50%\"><tr><td><b>metric</b></td>\n",
       "<td><b>threshold</b></td>\n",
       "<td><b>value</b></td>\n",
       "<td><b>idx</b></td></tr>\n",
       "<tr><td>max f1</td>\n",
       "<td>0.2948222</td>\n",
       "<td>0.6220710</td>\n",
       "<td>222.0</td></tr>\n",
       "<tr><td>max f2</td>\n",
       "<td>0.1591537</td>\n",
       "<td>0.7355085</td>\n",
       "<td>281.0</td></tr>\n",
       "<tr><td>max f0point5</td>\n",
       "<td>0.4538122</td>\n",
       "<td>0.6017792</td>\n",
       "<td>156.0</td></tr>\n",
       "<tr><td>max accuracy</td>\n",
       "<td>0.4602345</td>\n",
       "<td>0.9077683</td>\n",
       "<td>153.0</td></tr>\n",
       "<tr><td>max precision</td>\n",
       "<td>0.9696794</td>\n",
       "<td>1.0</td>\n",
       "<td>0.0</td></tr>\n",
       "<tr><td>max recall</td>\n",
       "<td>0.0000418</td>\n",
       "<td>1.0</td>\n",
       "<td>399.0</td></tr>\n",
       "<tr><td>max specificity</td>\n",
       "<td>0.9696794</td>\n",
       "<td>1.0</td>\n",
       "<td>0.0</td></tr>\n",
       "<tr><td>max absolute_mcc</td>\n",
       "<td>0.2922522</td>\n",
       "<td>0.5746827</td>\n",
       "<td>223.0</td></tr>\n",
       "<tr><td>max min_per_class_accuracy</td>\n",
       "<td>0.1814040</td>\n",
       "<td>0.8629944</td>\n",
       "<td>270.0</td></tr>\n",
       "<tr><td>max mean_per_class_accuracy</td>\n",
       "<td>0.1168431</td>\n",
       "<td>0.8691400</td>\n",
       "<td>302.0</td></tr></table></div>"
      ],
      "text/plain": [
       "metric                       threshold    value     idx\n",
       "---------------------------  -----------  --------  -----\n",
       "max f1                       0.294822     0.622071  222\n",
       "max f2                       0.159154     0.735509  281\n",
       "max f0point5                 0.453812     0.601779  156\n",
       "max accuracy                 0.460234     0.907768  153\n",
       "max precision                0.969679     1         0\n",
       "max recall                   4.18022e-05  1         399\n",
       "max specificity              0.969679     1         0\n",
       "max absolute_mcc             0.292252     0.574683  223\n",
       "max min_per_class_accuracy   0.181404     0.862994  270\n",
       "max mean_per_class_accuracy  0.116843     0.86914   302"
      ]
     },
     "metadata": {
      "tags": []
     },
     "output_type": "display_data"
    },
    {
     "name": "stdout",
     "output_type": "stream",
     "text": [
      "Gains/Lift Table: Avg response rate: 11.64 %, avg score: 11.89 %\n",
      "\n"
     ]
    },
    {
     "data": {
      "text/html": [
       "<div style=\"overflow:auto\"><table style=\"width:50%\"><tr><td><b></b></td>\n",
       "<td><b>group</b></td>\n",
       "<td><b>cumulative_data_fraction</b></td>\n",
       "<td><b>lower_threshold</b></td>\n",
       "<td><b>lift</b></td>\n",
       "<td><b>cumulative_lift</b></td>\n",
       "<td><b>response_rate</b></td>\n",
       "<td><b>score</b></td>\n",
       "<td><b>cumulative_response_rate</b></td>\n",
       "<td><b>cumulative_score</b></td>\n",
       "<td><b>capture_rate</b></td>\n",
       "<td><b>cumulative_capture_rate</b></td>\n",
       "<td><b>gain</b></td>\n",
       "<td><b>cumulative_gain</b></td></tr>\n",
       "<tr><td></td>\n",
       "<td>1</td>\n",
       "<td>0.0100210</td>\n",
       "<td>0.7989653</td>\n",
       "<td>6.8135852</td>\n",
       "<td>6.8135852</td>\n",
       "<td>0.7933884</td>\n",
       "<td>0.8543801</td>\n",
       "<td>0.7933884</td>\n",
       "<td>0.8543801</td>\n",
       "<td>0.0682788</td>\n",
       "<td>0.0682788</td>\n",
       "<td>581.3585225</td>\n",
       "<td>581.3585225</td></tr>\n",
       "<tr><td></td>\n",
       "<td>2</td>\n",
       "<td>0.0200144</td>\n",
       "<td>0.7255138</td>\n",
       "<td>6.2630400</td>\n",
       "<td>6.5386923</td>\n",
       "<td>0.7292818</td>\n",
       "<td>0.7602698</td>\n",
       "<td>0.7613793</td>\n",
       "<td>0.8073898</td>\n",
       "<td>0.0625889</td>\n",
       "<td>0.1308677</td>\n",
       "<td>526.3040010</td>\n",
       "<td>553.8692304</td></tr>\n",
       "<tr><td></td>\n",
       "<td>3</td>\n",
       "<td>0.0300077</td>\n",
       "<td>0.6799661</td>\n",
       "<td>5.8360146</td>\n",
       "<td>6.3046819</td>\n",
       "<td>0.6795580</td>\n",
       "<td>0.7023885</td>\n",
       "<td>0.7341306</td>\n",
       "<td>0.7724216</td>\n",
       "<td>0.0583215</td>\n",
       "<td>0.1891892</td>\n",
       "<td>483.6014555</td>\n",
       "<td>530.4681867</td></tr>\n",
       "<tr><td></td>\n",
       "<td>4</td>\n",
       "<td>0.0400011</td>\n",
       "<td>0.6383720</td>\n",
       "<td>5.6936727</td>\n",
       "<td>6.1520350</td>\n",
       "<td>0.6629834</td>\n",
       "<td>0.6580567</td>\n",
       "<td>0.7163561</td>\n",
       "<td>0.7438501</td>\n",
       "<td>0.0568990</td>\n",
       "<td>0.2460882</td>\n",
       "<td>469.3672736</td>\n",
       "<td>515.2035003</td></tr>\n",
       "<tr><td></td>\n",
       "<td>5</td>\n",
       "<td>0.0500221</td>\n",
       "<td>0.6040176</td>\n",
       "<td>5.4650631</td>\n",
       "<td>6.0144132</td>\n",
       "<td>0.6363636</td>\n",
       "<td>0.6206244</td>\n",
       "<td>0.7003311</td>\n",
       "<td>0.7191641</td>\n",
       "<td>0.0547653</td>\n",
       "<td>0.3008535</td>\n",
       "<td>446.5063149</td>\n",
       "<td>501.4413158</td></tr>\n",
       "<tr><td></td>\n",
       "<td>6</td>\n",
       "<td>0.1000166</td>\n",
       "<td>0.4605962</td>\n",
       "<td>4.6567494</td>\n",
       "<td>5.3357686</td>\n",
       "<td>0.5422419</td>\n",
       "<td>0.5310350</td>\n",
       "<td>0.6213083</td>\n",
       "<td>0.6251255</td>\n",
       "<td>0.2328118</td>\n",
       "<td>0.5336652</td>\n",
       "<td>365.6749400</td>\n",
       "<td>433.5768646</td></tr>\n",
       "<tr><td></td>\n",
       "<td>7</td>\n",
       "<td>0.1500110</td>\n",
       "<td>0.3360500</td>\n",
       "<td>3.4569962</td>\n",
       "<td>4.7096264</td>\n",
       "<td>0.4025400</td>\n",
       "<td>0.3973858</td>\n",
       "<td>0.5483990</td>\n",
       "<td>0.5492262</td>\n",
       "<td>0.1728307</td>\n",
       "<td>0.7064960</td>\n",
       "<td>245.6996245</td>\n",
       "<td>370.9626427</td></tr>\n",
       "<tr><td></td>\n",
       "<td>8</td>\n",
       "<td>0.2000055</td>\n",
       "<td>0.2212653</td>\n",
       "<td>2.4753800</td>\n",
       "<td>4.1511419</td>\n",
       "<td>0.2882385</td>\n",
       "<td>0.2765096</td>\n",
       "<td>0.4833678</td>\n",
       "<td>0.4810565</td>\n",
       "<td>0.1237553</td>\n",
       "<td>0.8302513</td>\n",
       "<td>147.5380027</td>\n",
       "<td>315.1141923</td></tr>\n",
       "<tr><td></td>\n",
       "<td>9</td>\n",
       "<td>0.2999945</td>\n",
       "<td>0.0811368</td>\n",
       "<td>1.1049110</td>\n",
       "<td>3.1358251</td>\n",
       "<td>0.1286582</td>\n",
       "<td>0.1408049</td>\n",
       "<td>0.3651422</td>\n",
       "<td>0.3676497</td>\n",
       "<td>0.1104789</td>\n",
       "<td>0.9407302</td>\n",
       "<td>10.4911008</td>\n",
       "<td>213.5825058</td></tr>\n",
       "<tr><td></td>\n",
       "<td>10</td>\n",
       "<td>0.4000110</td>\n",
       "<td>0.0315618</td>\n",
       "<td>0.3484487</td>\n",
       "<td>2.4388848</td>\n",
       "<td>0.0405741</td>\n",
       "<td>0.0517373</td>\n",
       "<td>0.2839890</td>\n",
       "<td>0.2886607</td>\n",
       "<td>0.0348506</td>\n",
       "<td>0.9755808</td>\n",
       "<td>-65.1551315</td>\n",
       "<td>143.8884782</td></tr>\n",
       "<tr><td></td>\n",
       "<td>11</td>\n",
       "<td>0.5</td>\n",
       "<td>0.0147186</td>\n",
       "<td>0.1138106</td>\n",
       "<td>1.9739213</td>\n",
       "<td>0.0132523</td>\n",
       "<td>0.0214470</td>\n",
       "<td>0.2298476</td>\n",
       "<td>0.2352239</td>\n",
       "<td>0.0113798</td>\n",
       "<td>0.9869606</td>\n",
       "<td>-88.6189424</td>\n",
       "<td>97.3921290</td></tr>\n",
       "<tr><td></td>\n",
       "<td>12</td>\n",
       "<td>0.5999890</td>\n",
       "<td>0.0044400</td>\n",
       "<td>0.0829869</td>\n",
       "<td>1.6587946</td>\n",
       "<td>0.0096632</td>\n",
       "<td>0.0099064</td>\n",
       "<td>0.1931536</td>\n",
       "<td>0.1976744</td>\n",
       "<td>0.0082978</td>\n",
       "<td>0.9952584</td>\n",
       "<td>-91.7013122</td>\n",
       "<td>65.8794556</td></tr>\n",
       "<tr><td></td>\n",
       "<td>13</td>\n",
       "<td>0.7000055</td>\n",
       "<td>0.0012801</td>\n",
       "<td>0.0213336</td>\n",
       "<td>1.4248347</td>\n",
       "<td>0.0024841</td>\n",
       "<td>0.0024408</td>\n",
       "<td>0.1659108</td>\n",
       "<td>0.1697795</td>\n",
       "<td>0.0021337</td>\n",
       "<td>0.9973921</td>\n",
       "<td>-97.8666407</td>\n",
       "<td>42.4834660</td></tr>\n",
       "<tr><td></td>\n",
       "<td>14</td>\n",
       "<td>0.7999945</td>\n",
       "<td>0.0003691</td>\n",
       "<td>0.0237105</td>\n",
       "<td>1.2497123</td>\n",
       "<td>0.0027609</td>\n",
       "<td>0.0007507</td>\n",
       "<td>0.1455192</td>\n",
       "<td>0.1486531</td>\n",
       "<td>0.0023708</td>\n",
       "<td>0.9997629</td>\n",
       "<td>-97.6289463</td>\n",
       "<td>24.9712276</td></tr>\n",
       "<tr><td></td>\n",
       "<td>15</td>\n",
       "<td>0.9000663</td>\n",
       "<td>0.0000456</td>\n",
       "<td>0.0</td>\n",
       "<td>1.1107659</td>\n",
       "<td>0.0</td>\n",
       "<td>0.0001724</td>\n",
       "<td>0.1293400</td>\n",
       "<td>0.1321446</td>\n",
       "<td>0.0</td>\n",
       "<td>0.9997629</td>\n",
       "<td>-100.0</td>\n",
       "<td>11.0765920</td></tr>\n",
       "<tr><td></td>\n",
       "<td>16</td>\n",
       "<td>1.0</td>\n",
       "<td>0.0</td>\n",
       "<td>0.0023724</td>\n",
       "<td>1.0</td>\n",
       "<td>0.0002762</td>\n",
       "<td>0.0000126</td>\n",
       "<td>0.1164421</td>\n",
       "<td>0.1189402</td>\n",
       "<td>0.0002371</td>\n",
       "<td>1.0</td>\n",
       "<td>-99.7627636</td>\n",
       "<td>0.0</td></tr></table></div>"
      ],
      "text/plain": [
       "    group    cumulative_data_fraction    lower_threshold    lift        cumulative_lift    response_rate    score        cumulative_response_rate    cumulative_score    capture_rate    cumulative_capture_rate    gain      cumulative_gain\n",
       "--  -------  --------------------------  -----------------  ----------  -----------------  ---------------  -----------  --------------------------  ------------------  --------------  -------------------------  --------  -----------------\n",
       "    1        0.010021                    0.798965           6.81359     6.81359            0.793388         0.85438      0.793388                    0.85438             0.0682788       0.0682788                  581.359   581.359\n",
       "    2        0.0200144                   0.725514           6.26304     6.53869            0.729282         0.76027      0.761379                    0.80739             0.0625889       0.130868                   526.304   553.869\n",
       "    3        0.0300077                   0.679966           5.83601     6.30468            0.679558         0.702389     0.734131                    0.772422            0.0583215       0.189189                   483.601   530.468\n",
       "    4        0.0400011                   0.638372           5.69367     6.15204            0.662983         0.658057     0.716356                    0.74385             0.056899        0.246088                   469.367   515.204\n",
       "    5        0.0500221                   0.604018           5.46506     6.01441            0.636364         0.620624     0.700331                    0.719164            0.0547653       0.300853                   446.506   501.441\n",
       "    6        0.100017                    0.460596           4.65675     5.33577            0.542242         0.531035     0.621308                    0.625126            0.232812        0.533665                   365.675   433.577\n",
       "    7        0.150011                    0.33605            3.457       4.70963            0.40254          0.397386     0.548399                    0.549226            0.172831        0.706496                   245.7     370.963\n",
       "    8        0.200006                    0.221265           2.47538     4.15114            0.288239         0.27651      0.483368                    0.481057            0.123755        0.830251                   147.538   315.114\n",
       "    9        0.299994                    0.0811368          1.10491     3.13583            0.128658         0.140805     0.365142                    0.36765             0.110479        0.94073                    10.4911   213.583\n",
       "    10       0.400011                    0.0315618          0.348449    2.43888            0.0405741        0.0517373    0.283989                    0.288661            0.0348506       0.975581                   -65.1551  143.888\n",
       "    11       0.5                         0.0147186          0.113811    1.97392            0.0132523        0.021447     0.229848                    0.235224            0.0113798       0.986961                   -88.6189  97.3921\n",
       "    12       0.599989                    0.00444001         0.0829869   1.65879            0.00966317       0.00990639   0.193154                    0.197674            0.00829777      0.995258                   -91.7013  65.8795\n",
       "    13       0.700006                    0.00128009         0.0213336   1.42483            0.00248413       0.00244081   0.165911                    0.16978             0.00213371      0.997392                   -97.8666  42.4835\n",
       "    14       0.799994                    0.000369089        0.0237105   1.24971            0.00276091       0.000750691  0.145519                    0.148653            0.00237079      0.999763                   -97.6289  24.9712\n",
       "    15       0.900066                    4.55615e-05        0           1.11077            0                0.000172366  0.12934                     0.132145            0               0.999763                   -100      11.0766\n",
       "    16       1                           0                  0.00237236  1                  0.000276243      1.26117e-05  0.116442                    0.11894             0.000237079     1                          -99.7628  0"
      ]
     },
     "metadata": {
      "tags": []
     },
     "output_type": "display_data"
    },
    {
     "name": "stdout",
     "output_type": "stream",
     "text": [
      "\n",
      "\n",
      "ModelMetricsBinomial: drf\n",
      "** Reported on validation data. **\n",
      "\n",
      "MSE: 0.06171774416418573\n",
      "RMSE: 0.2484305620574605\n",
      "LogLoss: 0.19631429532563424\n",
      "Mean Per-Class Error: 0.1270671881738874\n",
      "AUC: 0.9369707381506123\n",
      "pr_auc: 0.6309145213992088\n",
      "Gini: 0.8739414763012245\n",
      "Confusion Matrix (Act/Pred) for max f1 @ threshold = 0.3218680327013135: \n"
     ]
    },
    {
     "data": {
      "text/html": [
       "<div style=\"overflow:auto\"><table style=\"width:50%\"><tr><td><b></b></td>\n",
       "<td><b>no</b></td>\n",
       "<td><b>yes</b></td>\n",
       "<td><b>Error</b></td>\n",
       "<td><b>Rate</b></td></tr>\n",
       "<tr><td>no</td>\n",
       "<td>3726.0</td>\n",
       "<td>320.0</td>\n",
       "<td>0.0791</td>\n",
       "<td> (320.0/4046.0)</td></tr>\n",
       "<tr><td>yes</td>\n",
       "<td>128.0</td>\n",
       "<td>421.0</td>\n",
       "<td>0.2332</td>\n",
       "<td> (128.0/549.0)</td></tr>\n",
       "<tr><td>Total</td>\n",
       "<td>3854.0</td>\n",
       "<td>741.0</td>\n",
       "<td>0.0975</td>\n",
       "<td> (448.0/4595.0)</td></tr></table></div>"
      ],
      "text/plain": [
       "       no    yes    Error    Rate\n",
       "-----  ----  -----  -------  --------------\n",
       "no     3726  320    0.0791   (320.0/4046.0)\n",
       "yes    128   421    0.2332   (128.0/549.0)\n",
       "Total  3854  741    0.0975   (448.0/4595.0)"
      ]
     },
     "metadata": {
      "tags": []
     },
     "output_type": "display_data"
    },
    {
     "name": "stdout",
     "output_type": "stream",
     "text": [
      "Maximum Metrics: Maximum metrics at their respective thresholds\n",
      "\n"
     ]
    },
    {
     "data": {
      "text/html": [
       "<div style=\"overflow:auto\"><table style=\"width:50%\"><tr><td><b>metric</b></td>\n",
       "<td><b>threshold</b></td>\n",
       "<td><b>value</b></td>\n",
       "<td><b>idx</b></td></tr>\n",
       "<tr><td>max f1</td>\n",
       "<td>0.3218680</td>\n",
       "<td>0.6527132</td>\n",
       "<td>193.0</td></tr>\n",
       "<tr><td>max f2</td>\n",
       "<td>0.1591111</td>\n",
       "<td>0.7453886</td>\n",
       "<td>267.0</td></tr>\n",
       "<tr><td>max f0point5</td>\n",
       "<td>0.4327916</td>\n",
       "<td>0.6407840</td>\n",
       "<td>146.0</td></tr>\n",
       "<tr><td>max accuracy</td>\n",
       "<td>0.4327916</td>\n",
       "<td>0.9140370</td>\n",
       "<td>146.0</td></tr>\n",
       "<tr><td>max precision</td>\n",
       "<td>0.9384309</td>\n",
       "<td>1.0</td>\n",
       "<td>0.0</td></tr>\n",
       "<tr><td>max recall</td>\n",
       "<td>0.0009231</td>\n",
       "<td>1.0</td>\n",
       "<td>395.0</td></tr>\n",
       "<tr><td>max specificity</td>\n",
       "<td>0.9384309</td>\n",
       "<td>1.0</td>\n",
       "<td>0.0</td></tr>\n",
       "<tr><td>max absolute_mcc</td>\n",
       "<td>0.3218680</td>\n",
       "<td>0.6065548</td>\n",
       "<td>193.0</td></tr>\n",
       "<tr><td>max min_per_class_accuracy</td>\n",
       "<td>0.1875453</td>\n",
       "<td>0.8645576</td>\n",
       "<td>251.0</td></tr>\n",
       "<tr><td>max mean_per_class_accuracy</td>\n",
       "<td>0.1473537</td>\n",
       "<td>0.8729328</td>\n",
       "<td>272.0</td></tr></table></div>"
      ],
      "text/plain": [
       "metric                       threshold    value     idx\n",
       "---------------------------  -----------  --------  -----\n",
       "max f1                       0.321868     0.652713  193\n",
       "max f2                       0.159111     0.745389  267\n",
       "max f0point5                 0.432792     0.640784  146\n",
       "max accuracy                 0.432792     0.914037  146\n",
       "max precision                0.938431     1         0\n",
       "max recall                   0.000923078  1         395\n",
       "max specificity              0.938431     1         0\n",
       "max absolute_mcc             0.321868     0.606555  193\n",
       "max min_per_class_accuracy   0.187545     0.864558  251\n",
       "max mean_per_class_accuracy  0.147354     0.872933  272"
      ]
     },
     "metadata": {
      "tags": []
     },
     "output_type": "display_data"
    },
    {
     "name": "stdout",
     "output_type": "stream",
     "text": [
      "Gains/Lift Table: Avg response rate: 11.95 %, avg score: 12.16 %\n",
      "\n"
     ]
    },
    {
     "data": {
      "text/html": [
       "<div style=\"overflow:auto\"><table style=\"width:50%\"><tr><td><b></b></td>\n",
       "<td><b>group</b></td>\n",
       "<td><b>cumulative_data_fraction</b></td>\n",
       "<td><b>lower_threshold</b></td>\n",
       "<td><b>lift</b></td>\n",
       "<td><b>cumulative_lift</b></td>\n",
       "<td><b>response_rate</b></td>\n",
       "<td><b>score</b></td>\n",
       "<td><b>cumulative_response_rate</b></td>\n",
       "<td><b>cumulative_score</b></td>\n",
       "<td><b>capture_rate</b></td>\n",
       "<td><b>cumulative_capture_rate</b></td>\n",
       "<td><b>gain</b></td>\n",
       "<td><b>cumulative_gain</b></td></tr>\n",
       "<tr><td></td>\n",
       "<td>1</td>\n",
       "<td>0.0100109</td>\n",
       "<td>0.7914781</td>\n",
       "<td>6.5502495</td>\n",
       "<td>6.5502495</td>\n",
       "<td>0.7826087</td>\n",
       "<td>0.8401354</td>\n",
       "<td>0.7826087</td>\n",
       "<td>0.8401354</td>\n",
       "<td>0.0655738</td>\n",
       "<td>0.0655738</td>\n",
       "<td>555.0249465</td>\n",
       "<td>555.0249465</td></tr>\n",
       "<tr><td></td>\n",
       "<td>2</td>\n",
       "<td>0.0200218</td>\n",
       "<td>0.7245978</td>\n",
       "<td>6.0043953</td>\n",
       "<td>6.2773224</td>\n",
       "<td>0.7173913</td>\n",
       "<td>0.7550527</td>\n",
       "<td>0.75</td>\n",
       "<td>0.7975940</td>\n",
       "<td>0.0601093</td>\n",
       "<td>0.1256831</td>\n",
       "<td>500.4395343</td>\n",
       "<td>527.7322404</td></tr>\n",
       "<tr><td></td>\n",
       "<td>3</td>\n",
       "<td>0.0300326</td>\n",
       "<td>0.6737543</td>\n",
       "<td>5.4585412</td>\n",
       "<td>6.0043953</td>\n",
       "<td>0.6521739</td>\n",
       "<td>0.6958352</td>\n",
       "<td>0.7173913</td>\n",
       "<td>0.7636744</td>\n",
       "<td>0.0546448</td>\n",
       "<td>0.1803279</td>\n",
       "<td>445.8541221</td>\n",
       "<td>500.4395343</td></tr>\n",
       "<tr><td></td>\n",
       "<td>4</td>\n",
       "<td>0.0400435</td>\n",
       "<td>0.6370252</td>\n",
       "<td>5.8224440</td>\n",
       "<td>5.9589075</td>\n",
       "<td>0.6956522</td>\n",
       "<td>0.6554225</td>\n",
       "<td>0.7119565</td>\n",
       "<td>0.7366115</td>\n",
       "<td>0.0582878</td>\n",
       "<td>0.2386157</td>\n",
       "<td>482.2443969</td>\n",
       "<td>495.8907500</td></tr>\n",
       "<tr><td></td>\n",
       "<td>5</td>\n",
       "<td>0.0500544</td>\n",
       "<td>0.6082129</td>\n",
       "<td>5.6404926</td>\n",
       "<td>5.8952245</td>\n",
       "<td>0.6739130</td>\n",
       "<td>0.6241383</td>\n",
       "<td>0.7043478</td>\n",
       "<td>0.7141168</td>\n",
       "<td>0.0564663</td>\n",
       "<td>0.2950820</td>\n",
       "<td>464.0492595</td>\n",
       "<td>489.5224519</td></tr>\n",
       "<tr><td></td>\n",
       "<td>6</td>\n",
       "<td>0.1001088</td>\n",
       "<td>0.4703972</td>\n",
       "<td>5.0582482</td>\n",
       "<td>5.4767364</td>\n",
       "<td>0.6043478</td>\n",
       "<td>0.5373779</td>\n",
       "<td>0.6543478</td>\n",
       "<td>0.6257474</td>\n",
       "<td>0.2531876</td>\n",
       "<td>0.5482696</td>\n",
       "<td>405.8248198</td>\n",
       "<td>447.6736359</td></tr>\n",
       "<tr><td></td>\n",
       "<td>7</td>\n",
       "<td>0.1501632</td>\n",
       "<td>0.3488107</td>\n",
       "<td>3.5662469</td>\n",
       "<td>4.8399065</td>\n",
       "<td>0.4260870</td>\n",
       "<td>0.4062760</td>\n",
       "<td>0.5782609</td>\n",
       "<td>0.5525903</td>\n",
       "<td>0.1785064</td>\n",
       "<td>0.7267760</td>\n",
       "<td>256.6246931</td>\n",
       "<td>383.9906549</td></tr>\n",
       "<tr><td></td>\n",
       "<td>8</td>\n",
       "<td>0.2</td>\n",
       "<td>0.2268075</td>\n",
       "<td>2.0833035</td>\n",
       "<td>4.1530055</td>\n",
       "<td>0.2489083</td>\n",
       "<td>0.2885490</td>\n",
       "<td>0.4961915</td>\n",
       "<td>0.4867954</td>\n",
       "<td>0.1038251</td>\n",
       "<td>0.8306011</td>\n",
       "<td>108.3303505</td>\n",
       "<td>315.3005464</td></tr>\n",
       "<tr><td></td>\n",
       "<td>9</td>\n",
       "<td>0.3001088</td>\n",
       "<td>0.0854710</td>\n",
       "<td>1.1280985</td>\n",
       "<td>3.1439720</td>\n",
       "<td>0.1347826</td>\n",
       "<td>0.1479669</td>\n",
       "<td>0.3756345</td>\n",
       "<td>0.3737707</td>\n",
       "<td>0.1129326</td>\n",
       "<td>0.9435337</td>\n",
       "<td>12.8098519</td>\n",
       "<td>214.3971966</td></tr>\n",
       "<tr><td></td>\n",
       "<td>10</td>\n",
       "<td>0.4</td>\n",
       "<td>0.0336135</td>\n",
       "<td>0.4558695</td>\n",
       "<td>2.4726776</td>\n",
       "<td>0.0544662</td>\n",
       "<td>0.0544704</td>\n",
       "<td>0.2954298</td>\n",
       "<td>0.2940325</td>\n",
       "<td>0.0455373</td>\n",
       "<td>0.9890710</td>\n",
       "<td>-54.4130544</td>\n",
       "<td>147.2677596</td></tr>\n",
       "<tr><td></td>\n",
       "<td>11</td>\n",
       "<td>0.5001088</td>\n",
       "<td>0.0151002</td>\n",
       "<td>0.0181951</td>\n",
       "<td>1.9813539</td>\n",
       "<td>0.0021739</td>\n",
       "<td>0.0226331</td>\n",
       "<td>0.2367276</td>\n",
       "<td>0.2397053</td>\n",
       "<td>0.0018215</td>\n",
       "<td>0.9908925</td>\n",
       "<td>-98.1804863</td>\n",
       "<td>98.1353866</td></tr>\n",
       "<tr><td></td>\n",
       "<td>12</td>\n",
       "<td>0.6</td>\n",
       "<td>0.0066708</td>\n",
       "<td>0.0182348</td>\n",
       "<td>1.6545234</td>\n",
       "<td>0.0021786</td>\n",
       "<td>0.0104558</td>\n",
       "<td>0.1976786</td>\n",
       "<td>0.2015387</td>\n",
       "<td>0.0018215</td>\n",
       "<td>0.9927140</td>\n",
       "<td>-98.1765222</td>\n",
       "<td>65.4523376</td></tr>\n",
       "<tr><td></td>\n",
       "<td>13</td>\n",
       "<td>0.6998912</td>\n",
       "<td>0.0030316</td>\n",
       "<td>0.0364696</td>\n",
       "<td>1.4235885</td>\n",
       "<td>0.0043573</td>\n",
       "<td>0.0050390</td>\n",
       "<td>0.1700871</td>\n",
       "<td>0.1734935</td>\n",
       "<td>0.0036430</td>\n",
       "<td>0.9963570</td>\n",
       "<td>-96.3530444</td>\n",
       "<td>42.3588456</td></tr>\n",
       "<tr><td></td>\n",
       "<td>14</td>\n",
       "<td>0.8</td>\n",
       "<td>0.0008330</td>\n",
       "<td>0.0363903</td>\n",
       "<td>1.25</td>\n",
       "<td>0.0043478</td>\n",
       "<td>0.0016683</td>\n",
       "<td>0.1493471</td>\n",
       "<td>0.1519920</td>\n",
       "<td>0.0036430</td>\n",
       "<td>1.0</td>\n",
       "<td>-96.3609725</td>\n",
       "<td>25.0</td></tr>\n",
       "<tr><td></td>\n",
       "<td>15</td>\n",
       "<td>0.8998912</td>\n",
       "<td>0.0001972</td>\n",
       "<td>0.0</td>\n",
       "<td>1.1112455</td>\n",
       "<td>0.0</td>\n",
       "<td>0.0004727</td>\n",
       "<td>0.1327690</td>\n",
       "<td>0.1351728</td>\n",
       "<td>0.0</td>\n",
       "<td>1.0</td>\n",
       "<td>-100.0</td>\n",
       "<td>11.1245466</td></tr>\n",
       "<tr><td></td>\n",
       "<td>16</td>\n",
       "<td>1.0</td>\n",
       "<td>0.0</td>\n",
       "<td>0.0</td>\n",
       "<td>1.0</td>\n",
       "<td>0.0</td>\n",
       "<td>0.0000707</td>\n",
       "<td>0.1194777</td>\n",
       "<td>0.1216479</td>\n",
       "<td>0.0</td>\n",
       "<td>1.0</td>\n",
       "<td>-100.0</td>\n",
       "<td>0.0</td></tr></table></div>"
      ],
      "text/plain": [
       "    group    cumulative_data_fraction    lower_threshold    lift       cumulative_lift    response_rate    score        cumulative_response_rate    cumulative_score    capture_rate    cumulative_capture_rate    gain      cumulative_gain\n",
       "--  -------  --------------------------  -----------------  ---------  -----------------  ---------------  -----------  --------------------------  ------------------  --------------  -------------------------  --------  -----------------\n",
       "    1        0.0100109                   0.791478           6.55025    6.55025            0.782609         0.840135     0.782609                    0.840135            0.0655738       0.0655738                  555.025   555.025\n",
       "    2        0.0200218                   0.724598           6.0044     6.27732            0.717391         0.755053     0.75                        0.797594            0.0601093       0.125683                   500.44    527.732\n",
       "    3        0.0300326                   0.673754           5.45854    6.0044             0.652174         0.695835     0.717391                    0.763674            0.0546448       0.180328                   445.854   500.44\n",
       "    4        0.0400435                   0.637025           5.82244    5.95891            0.695652         0.655423     0.711957                    0.736611            0.0582878       0.238616                   482.244   495.891\n",
       "    5        0.0500544                   0.608213           5.64049    5.89522            0.673913         0.624138     0.704348                    0.714117            0.0564663       0.295082                   464.049   489.522\n",
       "    6        0.100109                    0.470397           5.05825    5.47674            0.604348         0.537378     0.654348                    0.625747            0.253188        0.54827                    405.825   447.674\n",
       "    7        0.150163                    0.348811           3.56625    4.83991            0.426087         0.406276     0.578261                    0.55259             0.178506        0.726776                   256.625   383.991\n",
       "    8        0.2                         0.226807           2.0833     4.15301            0.248908         0.288549     0.496192                    0.486795            0.103825        0.830601                   108.33    315.301\n",
       "    9        0.300109                    0.085471           1.1281     3.14397            0.134783         0.147967     0.375635                    0.373771            0.112933        0.943534                   12.8099   214.397\n",
       "    10       0.4                         0.0336135          0.455869   2.47268            0.0544662        0.0544704    0.29543                     0.294032            0.0455373       0.989071                   -54.4131  147.268\n",
       "    11       0.500109                    0.0151002          0.0181951  1.98135            0.00217391       0.0226331    0.236728                    0.239705            0.00182149      0.990893                   -98.1805  98.1354\n",
       "    12       0.6                         0.00667083         0.0182348  1.65452            0.00217865       0.0104558    0.197679                    0.201539            0.00182149      0.992714                   -98.1765  65.4523\n",
       "    13       0.699891                    0.0030316          0.0364696  1.42359            0.0043573        0.00503904   0.170087                    0.173493            0.00364299      0.996357                   -96.353   42.3588\n",
       "    14       0.8                         0.000832978        0.0363903  1.25               0.00434783       0.00166828   0.149347                    0.151992            0.00364299      1                          -96.361   25\n",
       "    15       0.899891                    0.000197159        0          1.11125            0                0.000472716  0.132769                    0.135173            0               1                          -100      11.1245\n",
       "    16       1                           0                  0          1                  0                7.07426e-05  0.119478                    0.121648            0               1                          -100      0"
      ]
     },
     "metadata": {
      "tags": []
     },
     "output_type": "display_data"
    },
    {
     "name": "stdout",
     "output_type": "stream",
     "text": [
      "\n",
      "Scoring History: \n"
     ]
    },
    {
     "data": {
      "text/html": [
       "<div style=\"overflow:auto\"><table style=\"width:50%\"><tr><td><b></b></td>\n",
       "<td><b>timestamp</b></td>\n",
       "<td><b>duration</b></td>\n",
       "<td><b>number_of_trees</b></td>\n",
       "<td><b>training_rmse</b></td>\n",
       "<td><b>training_logloss</b></td>\n",
       "<td><b>training_auc</b></td>\n",
       "<td><b>training_pr_auc</b></td>\n",
       "<td><b>training_lift</b></td>\n",
       "<td><b>training_classification_error</b></td>\n",
       "<td><b>validation_rmse</b></td>\n",
       "<td><b>validation_logloss</b></td>\n",
       "<td><b>validation_auc</b></td>\n",
       "<td><b>validation_pr_auc</b></td>\n",
       "<td><b>validation_lift</b></td>\n",
       "<td><b>validation_classification_error</b></td></tr>\n",
       "<tr><td></td>\n",
       "<td>2019-02-05 11:23:06</td>\n",
       "<td> 0.032 sec</td>\n",
       "<td>0.0</td>\n",
       "<td>nan</td>\n",
       "<td>nan</td>\n",
       "<td>nan</td>\n",
       "<td>nan</td>\n",
       "<td>nan</td>\n",
       "<td>nan</td>\n",
       "<td>nan</td>\n",
       "<td>nan</td>\n",
       "<td>nan</td>\n",
       "<td>nan</td>\n",
       "<td>nan</td>\n",
       "<td>nan</td></tr>\n",
       "<tr><td></td>\n",
       "<td>2019-02-05 11:23:07</td>\n",
       "<td> 0.780 sec</td>\n",
       "<td>1.0</td>\n",
       "<td>0.3391352</td>\n",
       "<td>3.6377265</td>\n",
       "<td>0.6850405</td>\n",
       "<td>0.1183961</td>\n",
       "<td>4.3067389</td>\n",
       "<td>0.1195578</td>\n",
       "<td>0.3393706</td>\n",
       "<td>3.6266722</td>\n",
       "<td>0.7035260</td>\n",
       "<td>0.1215133</td>\n",
       "<td>4.2775047</td>\n",
       "<td>0.1194777</td></tr>\n",
       "<tr><td></td>\n",
       "<td>2019-02-05 11:23:07</td>\n",
       "<td> 1.255 sec</td>\n",
       "<td>2.0</td>\n",
       "<td>0.3295028</td>\n",
       "<td>3.2763331</td>\n",
       "<td>0.7168626</td>\n",
       "<td>0.1651809</td>\n",
       "<td>4.3773138</td>\n",
       "<td>0.1200530</td>\n",
       "<td>0.3050297</td>\n",
       "<td>1.9767677</td>\n",
       "<td>0.7853255</td>\n",
       "<td>0.2695527</td>\n",
       "<td>4.9959052</td>\n",
       "<td>0.1388466</td></tr>\n",
       "<tr><td></td>\n",
       "<td>2019-02-05 11:23:08</td>\n",
       "<td> 1.639 sec</td>\n",
       "<td>3.0</td>\n",
       "<td>0.3248134</td>\n",
       "<td>2.9949378</td>\n",
       "<td>0.7334451</td>\n",
       "<td>0.1983478</td>\n",
       "<td>4.3884378</td>\n",
       "<td>0.1295817</td>\n",
       "<td>0.2873014</td>\n",
       "<td>1.1052341</td>\n",
       "<td>0.8347026</td>\n",
       "<td>0.3731574</td>\n",
       "<td>5.8520296</td>\n",
       "<td>0.1434168</td></tr>\n",
       "<tr><td></td>\n",
       "<td>2019-02-05 11:23:08</td>\n",
       "<td> 2.088 sec</td>\n",
       "<td>4.0</td>\n",
       "<td>0.3164099</td>\n",
       "<td>2.6330350</td>\n",
       "<td>0.7557639</td>\n",
       "<td>0.2322225</td>\n",
       "<td>4.5356655</td>\n",
       "<td>0.1297722</td>\n",
       "<td>0.2799211</td>\n",
       "<td>0.7733529</td>\n",
       "<td>0.8656727</td>\n",
       "<td>0.4334579</td>\n",
       "<td>5.8270503</td>\n",
       "<td>0.1170838</td></tr>\n",
       "<tr><td></td>\n",
       "<td>2019-02-05 11:23:09</td>\n",
       "<td> 2.591 sec</td>\n",
       "<td>5.0</td>\n",
       "<td>0.3088143</td>\n",
       "<td>2.2592981</td>\n",
       "<td>0.7749824</td>\n",
       "<td>0.2663090</td>\n",
       "<td>4.6270353</td>\n",
       "<td>0.1340904</td>\n",
       "<td>0.2748885</td>\n",
       "<td>0.5894898</td>\n",
       "<td>0.8785387</td>\n",
       "<td>0.4682451</td>\n",
       "<td>6.3200253</td>\n",
       "<td>0.1149075</td></tr>\n",
       "<tr><td></td>\n",
       "<td>2019-02-05 11:23:09</td>\n",
       "<td> 3.132 sec</td>\n",
       "<td>6.0</td>\n",
       "<td>0.3028205</td>\n",
       "<td>1.9712183</td>\n",
       "<td>0.7922002</td>\n",
       "<td>0.2973885</td>\n",
       "<td>4.7420017</td>\n",
       "<td>0.1381870</td>\n",
       "<td>0.2700190</td>\n",
       "<td>0.4926860</td>\n",
       "<td>0.8913918</td>\n",
       "<td>0.5047294</td>\n",
       "<td>6.1863467</td>\n",
       "<td>0.1186072</td></tr>\n",
       "<tr><td></td>\n",
       "<td>2019-02-05 11:23:10</td>\n",
       "<td> 3.658 sec</td>\n",
       "<td>7.0</td>\n",
       "<td>0.2968943</td>\n",
       "<td>1.6954449</td>\n",
       "<td>0.8101700</td>\n",
       "<td>0.3267194</td>\n",
       "<td>4.7819959</td>\n",
       "<td>0.1387644</td>\n",
       "<td>0.2674707</td>\n",
       "<td>0.4013613</td>\n",
       "<td>0.9005280</td>\n",
       "<td>0.5231048</td>\n",
       "<td>5.8588342</td>\n",
       "<td>0.1244831</td></tr>\n",
       "<tr><td></td>\n",
       "<td>2019-02-05 11:23:14</td>\n",
       "<td> 7.776 sec</td>\n",
       "<td>23.0</td>\n",
       "<td>0.2625469</td>\n",
       "<td>0.3814623</td>\n",
       "<td>0.9031747</td>\n",
       "<td>0.5290447</td>\n",
       "<td>5.9438811</td>\n",
       "<td>0.1147306</td>\n",
       "<td>0.2534593</td>\n",
       "<td>0.2454233</td>\n",
       "<td>0.9252031</td>\n",
       "<td>0.6084349</td>\n",
       "<td>6.5992364</td>\n",
       "<td>0.1022851</td></tr>\n",
       "<tr><td></td>\n",
       "<td>2019-02-05 11:23:18</td>\n",
       "<td>11.881 sec</td>\n",
       "<td>51.0</td>\n",
       "<td>0.2548641</td>\n",
       "<td>0.2404262</td>\n",
       "<td>0.9221655</td>\n",
       "<td>0.5847982</td>\n",
       "<td>6.5060276</td>\n",
       "<td>0.1134883</td>\n",
       "<td>0.2511470</td>\n",
       "<td>0.2076011</td>\n",
       "<td>0.9324010</td>\n",
       "<td>0.6158515</td>\n",
       "<td>6.1029523</td>\n",
       "<td>0.0977149</td></tr>\n",
       "<tr><td></td>\n",
       "<td>2019-02-05 11:23:22</td>\n",
       "<td>15.885 sec</td>\n",
       "<td>86.0</td>\n",
       "<td>0.2523777</td>\n",
       "<td>0.2150774</td>\n",
       "<td>0.9277428</td>\n",
       "<td>0.6005393</td>\n",
       "<td>6.7291932</td>\n",
       "<td>0.1121356</td>\n",
       "<td>0.2494163</td>\n",
       "<td>0.2045015</td>\n",
       "<td>0.9349016</td>\n",
       "<td>0.6272176</td>\n",
       "<td>7.0961036</td>\n",
       "<td>0.0981502</td></tr>\n",
       "<tr><td></td>\n",
       "<td>2019-02-05 11:23:26</td>\n",
       "<td>19.902 sec</td>\n",
       "<td>122.0</td>\n",
       "<td>0.2513350</td>\n",
       "<td>0.2026734</td>\n",
       "<td>0.9303917</td>\n",
       "<td>0.6041866</td>\n",
       "<td>6.6243190</td>\n",
       "<td>0.1090437</td>\n",
       "<td>0.2492148</td>\n",
       "<td>0.1982285</td>\n",
       "<td>0.9355225</td>\n",
       "<td>0.6301922</td>\n",
       "<td>6.7322008</td>\n",
       "<td>0.0968444</td></tr>\n",
       "<tr><td></td>\n",
       "<td>2019-02-05 11:23:31</td>\n",
       "<td>24.392 sec</td>\n",
       "<td>158.0</td>\n",
       "<td>0.2506723</td>\n",
       "<td>0.2007890</td>\n",
       "<td>0.9312663</td>\n",
       "<td>0.6083262</td>\n",
       "<td>6.7189521</td>\n",
       "<td>0.1115559</td>\n",
       "<td>0.2487877</td>\n",
       "<td>0.1973401</td>\n",
       "<td>0.9362534</td>\n",
       "<td>0.6305266</td>\n",
       "<td>6.5502495</td>\n",
       "<td>0.0935800</td></tr>\n",
       "<tr><td></td>\n",
       "<td>2019-02-05 11:23:35</td>\n",
       "<td>29.377 sec</td>\n",
       "<td>200.0</td>\n",
       "<td>0.2503640</td>\n",
       "<td>0.2002742</td>\n",
       "<td>0.9315085</td>\n",
       "<td>0.6113683</td>\n",
       "<td>6.8135852</td>\n",
       "<td>0.1073045</td>\n",
       "<td>0.2484306</td>\n",
       "<td>0.1963143</td>\n",
       "<td>0.9369707</td>\n",
       "<td>0.6309145</td>\n",
       "<td>6.5502495</td>\n",
       "<td>0.0974973</td></tr></table></div>"
      ],
      "text/plain": [
       "    timestamp            duration    number_of_trees    training_rmse    training_logloss    training_auc    training_pr_auc    training_lift    training_classification_error    validation_rmse    validation_logloss    validation_auc    validation_pr_auc    validation_lift    validation_classification_error\n",
       "--  -------------------  ----------  -----------------  ---------------  ------------------  --------------  -----------------  ---------------  -------------------------------  -----------------  --------------------  ----------------  -------------------  -----------------  ---------------------------------\n",
       "    2019-02-05 11:23:06  0.032 sec   0                  nan              nan                 nan             nan                nan              nan                              nan                nan                   nan               nan                  nan                nan\n",
       "    2019-02-05 11:23:07  0.780 sec   1                  0.339135         3.63773             0.68504         0.118396           4.30674          0.119558                         0.339371           3.62667               0.703526          0.121513             4.2775             0.119478\n",
       "    2019-02-05 11:23:07  1.255 sec   2                  0.329503         3.27633             0.716863        0.165181           4.37731          0.120053                         0.30503            1.97677               0.785326          0.269553             4.99591            0.138847\n",
       "    2019-02-05 11:23:08  1.639 sec   3                  0.324813         2.99494             0.733445        0.198348           4.38844          0.129582                         0.287301           1.10523               0.834703          0.373157             5.85203            0.143417\n",
       "    2019-02-05 11:23:08  2.088 sec   4                  0.31641          2.63304             0.755764        0.232222           4.53567          0.129772                         0.279921           0.773353              0.865673          0.433458             5.82705            0.117084\n",
       "    2019-02-05 11:23:09  2.591 sec   5                  0.308814         2.2593              0.774982        0.266309           4.62704          0.13409                          0.274888           0.58949               0.878539          0.468245             6.32003            0.114908\n",
       "    2019-02-05 11:23:09  3.132 sec   6                  0.302821         1.97122             0.7922          0.297388           4.742            0.138187                         0.270019           0.492686              0.891392          0.504729             6.18635            0.118607\n",
       "    2019-02-05 11:23:10  3.658 sec   7                  0.296894         1.69544             0.81017         0.326719           4.782            0.138764                         0.267471           0.401361              0.900528          0.523105             5.85883            0.124483\n",
       "    2019-02-05 11:23:14  7.776 sec   23                 0.262547         0.381462            0.903175        0.529045           5.94388          0.114731                         0.253459           0.245423              0.925203          0.608435             6.59924            0.102285\n",
       "    2019-02-05 11:23:18  11.881 sec  51                 0.254864         0.240426            0.922165        0.584798           6.50603          0.113488                         0.251147           0.207601              0.932401          0.615852             6.10295            0.0977149\n",
       "    2019-02-05 11:23:22  15.885 sec  86                 0.252378         0.215077            0.927743        0.600539           6.72919          0.112136                         0.249416           0.204502              0.934902          0.627218             7.0961             0.0981502\n",
       "    2019-02-05 11:23:26  19.902 sec  122                0.251335         0.202673            0.930392        0.604187           6.62432          0.109044                         0.249215           0.198229              0.935522          0.630192             6.7322             0.0968444\n",
       "    2019-02-05 11:23:31  24.392 sec  158                0.250672         0.200789            0.931266        0.608326           6.71895          0.111556                         0.248788           0.19734               0.936253          0.630527             6.55025            0.09358\n",
       "    2019-02-05 11:23:35  29.377 sec  200                0.250364         0.200274            0.931508        0.611368           6.81359          0.107305                         0.248431           0.196314              0.936971          0.630915             6.55025            0.0974973"
      ]
     },
     "metadata": {
      "tags": []
     },
     "output_type": "display_data"
    },
    {
     "name": "stdout",
     "output_type": "stream",
     "text": [
      "Variable Importances: \n"
     ]
    },
    {
     "data": {
      "text/html": [
       "<div style=\"overflow:auto\"><table style=\"width:50%\"><tr><td><b>variable</b></td>\n",
       "<td><b>relative_importance</b></td>\n",
       "<td><b>scaled_importance</b></td>\n",
       "<td><b>percentage</b></td></tr>\n",
       "<tr><td>duration</td>\n",
       "<td>130268.2265625</td>\n",
       "<td>1.0</td>\n",
       "<td>0.2879407</td></tr>\n",
       "<tr><td>month</td>\n",
       "<td>59591.1875000</td>\n",
       "<td>0.4574499</td>\n",
       "<td>0.1317184</td></tr>\n",
       "<tr><td>age</td>\n",
       "<td>41046.8476562</td>\n",
       "<td>0.3150949</td>\n",
       "<td>0.0907286</td></tr>\n",
       "<tr><td>day</td>\n",
       "<td>38325.8359375</td>\n",
       "<td>0.2942071</td>\n",
       "<td>0.0847142</td></tr>\n",
       "<tr><td>poutcome</td>\n",
       "<td>35658.2382812</td>\n",
       "<td>0.2737294</td>\n",
       "<td>0.0788178</td></tr>\n",
       "<tr><td>job</td>\n",
       "<td>33843.3164062</td>\n",
       "<td>0.2597972</td>\n",
       "<td>0.0748062</td></tr>\n",
       "<tr><td>balance</td>\n",
       "<td>24444.8984375</td>\n",
       "<td>0.1876505</td>\n",
       "<td>0.0540322</td></tr>\n",
       "<tr><td>pdays</td>\n",
       "<td>19133.8300781</td>\n",
       "<td>0.1468803</td>\n",
       "<td>0.0422928</td></tr>\n",
       "<tr><td>campaign</td>\n",
       "<td>14689.5419922</td>\n",
       "<td>0.1127638</td>\n",
       "<td>0.0324693</td></tr>\n",
       "<tr><td>education</td>\n",
       "<td>13098.4746094</td>\n",
       "<td>0.1005500</td>\n",
       "<td>0.0289524</td></tr>\n",
       "<tr><td>marital</td>\n",
       "<td>9867.9853516</td>\n",
       "<td>0.0757513</td>\n",
       "<td>0.0218119</td></tr>\n",
       "<tr><td>housing</td>\n",
       "<td>9584.5966797</td>\n",
       "<td>0.0735759</td>\n",
       "<td>0.0211855</td></tr>\n",
       "<tr><td>contact</td>\n",
       "<td>9506.2197266</td>\n",
       "<td>0.0729742</td>\n",
       "<td>0.0210122</td></tr>\n",
       "<tr><td>previous</td>\n",
       "<td>8011.1479492</td>\n",
       "<td>0.0614973</td>\n",
       "<td>0.0177076</td></tr>\n",
       "<tr><td>loan</td>\n",
       "<td>4361.4492188</td>\n",
       "<td>0.0334805</td>\n",
       "<td>0.0096404</td></tr>\n",
       "<tr><td>default</td>\n",
       "<td>981.5935669</td>\n",
       "<td>0.0075352</td>\n",
       "<td>0.0021697</td></tr></table></div>"
      ],
      "text/plain": [
       "variable    relative_importance    scaled_importance    percentage\n",
       "----------  ---------------------  -------------------  ------------\n",
       "duration    130268                 1                    0.287941\n",
       "month       59591.2                0.45745              0.131718\n",
       "age         41046.8                0.315095             0.0907286\n",
       "day         38325.8                0.294207             0.0847142\n",
       "poutcome    35658.2                0.273729             0.0788178\n",
       "job         33843.3                0.259797             0.0748062\n",
       "balance     24444.9                0.187651             0.0540322\n",
       "pdays       19133.8                0.14688              0.0422928\n",
       "campaign    14689.5                0.112764             0.0324693\n",
       "education   13098.5                0.10055              0.0289524\n",
       "marital     9867.99                0.0757513            0.0218119\n",
       "housing     9584.6                 0.0735759            0.0211855\n",
       "contact     9506.22                0.0729742            0.0210122\n",
       "previous    8011.15                0.0614973            0.0177076\n",
       "loan        4361.45                0.0334805            0.00964041\n",
       "default     981.594                0.00753517           0.00216968"
      ]
     },
     "metadata": {
      "tags": []
     },
     "output_type": "display_data"
    },
    {
     "data": {
      "text/plain": []
     },
     "execution_count": 28,
     "metadata": {
      "tags": []
     },
     "output_type": "execute_result"
    }
   ],
   "source": [
    "model"
   ]
  },
  {
   "cell_type": "code",
   "execution_count": 0,
   "metadata": {
    "colab": {
     "base_uri": "https://localhost:8080/",
     "height": 52
    },
    "colab_type": "code",
    "executionInfo": {
     "elapsed": 25235,
     "status": "ok",
     "timestamp": 1549365939936,
     "user": {
      "displayName": "Fazil B. Topal",
      "photoUrl": "https://lh4.googleusercontent.com/-IxiCh57ZfZI/AAAAAAAAAAI/AAAAAAAAAGg/HpcJn-cqYZk/s64/photo.jpg",
      "userId": "06988773581943736669"
     },
     "user_tz": -60
    },
    "id": "uJIqErWoPESr",
    "outputId": "ce2d14d5-ca50-4f0d-ebd0-2a133984ab36"
   },
   "outputs": [
    {
     "name": "stdout",
     "output_type": "stream",
     "text": [
      "drf Model Build progress: |███████████████████████████████████████████████| 100%\n",
      "peak memory: 152.40 MiB, increment: 0.38 MiB\n"
     ]
    }
   ],
   "source": [
    "%memit model.train(x=feature_columns, y=label, training_frame=train, validation_frame=val)"
   ]
  },
  {
   "cell_type": "code",
   "execution_count": 0,
   "metadata": {
    "colab": {
     "base_uri": "https://localhost:8080/",
     "height": 69
    },
    "colab_type": "code",
    "executionInfo": {
     "elapsed": 49353,
     "status": "ok",
     "timestamp": 1549365964398,
     "user": {
      "displayName": "Fazil B. Topal",
      "photoUrl": "https://lh4.googleusercontent.com/-IxiCh57ZfZI/AAAAAAAAAAI/AAAAAAAAAGg/HpcJn-cqYZk/s64/photo.jpg",
      "userId": "06988773581943736669"
     },
     "user_tz": -60
    },
    "id": "OSEErIOsPESv",
    "outputId": "6de3e8ec-beab-4c6b-cf24-65489a77ddd2"
   },
   "outputs": [
    {
     "name": "stdout",
     "output_type": "stream",
     "text": [
      "drf Model Build progress: |███████████████████████████████████████████████| 100%\n",
      "CPU times: user 331 ms, sys: 47.6 ms, total: 379 ms\n",
      "Wall time: 24.4 s\n"
     ]
    }
   ],
   "source": [
    "%time model.train(x=feature_columns, y=label, training_frame=train, validation_frame=val)"
   ]
  },
  {
   "cell_type": "code",
   "execution_count": 0,
   "metadata": {
    "colab": {
     "base_uri": "https://localhost:8080/",
     "height": 52
    },
    "colab_type": "code",
    "executionInfo": {
     "elapsed": 73135,
     "status": "ok",
     "timestamp": 1549365988517,
     "user": {
      "displayName": "Fazil B. Topal",
      "photoUrl": "https://lh4.googleusercontent.com/-IxiCh57ZfZI/AAAAAAAAAAI/AAAAAAAAAGg/HpcJn-cqYZk/s64/photo.jpg",
      "userId": "06988773581943736669"
     },
     "user_tz": -60
    },
    "id": "LRelLjHCPETJ",
    "outputId": "91002bb3-3dd2-40c5-e8d7-ff43413a9e82"
   },
   "outputs": [
    {
     "name": "stdout",
     "output_type": "stream",
     "text": [
      "drf Model Build progress: |███████████████████████████████████████████████| 100%\n",
      " "
     ]
    }
   ],
   "source": [
    "%prun model.train(x=feature_columns, y=label, training_frame=train, validation_frame=val)"
   ]
  },
  {
   "cell_type": "markdown",
   "metadata": {
    "colab_type": "text",
    "id": "IrIU7VnNPETP"
   },
   "source": [
    "**Results**"
   ]
  },
  {
   "cell_type": "markdown",
   "metadata": {
    "colab_type": "text",
    "id": "4Br_GiXHPETQ"
   },
   "source": [
    "**Train Loss (RMSE)**: 0.161641  \n",
    "**Validation Loss(RMSE)**: 0.162671 \n",
    "\n",
    "**%time**    \n",
    "CPU times: user 331 ms, sys: 47.6 ms, total: 379 ms   \n",
    "Wall time: 24.4 s\n",
    "\n",
    "**%prun**   \n",
    "211981 function calls (206241 primitive calls) in 24.111 seconds \n",
    "\n",
    "**%memit**   \n",
    "peak memory: 152.40 MiB, increment: 0.38 MiB"
   ]
  }
 ],
 "metadata": {
  "colab": {
   "collapsed_sections": [
    "S91aJR0HPEPE",
    "nnzxn-JYPEPZ",
    "ScdGGNEEPEQ2",
    "FIHOzgUIPESF",
    "rDojoWTFPESJ",
    "vdYV9if_PESj",
    "cKDA93lEPESk",
    "IxS6jscpawLL",
    "IrIU7VnNPETP"
   ],
   "name": "H2O-Classification.ipynb",
   "provenance": [],
   "version": "0.3.2"
  },
  "kernelspec": {
   "display_name": "Python 3",
   "language": "python",
   "name": "python3"
  },
  "language_info": {
   "codemirror_mode": {
    "name": "ipython",
    "version": 3
   },
   "file_extension": ".py",
   "mimetype": "text/x-python",
   "name": "python",
   "nbconvert_exporter": "python",
   "pygments_lexer": "ipython3",
   "version": "3.6.8"
  }
 },
 "nbformat": 4,
 "nbformat_minor": 1
}
