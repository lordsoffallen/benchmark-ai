{
 "cells": [
  {
   "cell_type": "markdown",
   "metadata": {
    "colab_type": "text",
    "id": "u2cPPYqcG9D3"
   },
   "source": [
    "# Regression TensorFlow"
   ]
  },
  {
   "cell_type": "markdown",
   "metadata": {
    "colab_type": "text",
    "heading_collapsed": true,
    "id": "r8_8lCmkm8sG"
   },
   "source": [
    "### Install Requirements"
   ]
  },
  {
   "cell_type": "code",
   "execution_count": 1,
   "metadata": {
    "colab": {
     "base_uri": "https://localhost:8080/",
     "height": 191
    },
    "colab_type": "code",
    "executionInfo": {
     "elapsed": 8614,
     "status": "ok",
     "timestamp": 1548931897751,
     "user": {
      "displayName": "Fazil B. Topal",
      "photoUrl": "https://lh4.googleusercontent.com/-IxiCh57ZfZI/AAAAAAAAAAI/AAAAAAAAAGg/HpcJn-cqYZk/s64/photo.jpg",
      "userId": "06988773581943736669"
     },
     "user_tz": -60
    },
    "hidden": true,
    "id": "6EQPZa9ACKqV",
    "outputId": "b43f919e-8913-4b0c-a768-a8d149481f0f"
   },
   "outputs": [
    {
     "name": "stdout",
     "output_type": "stream",
     "text": [
      "Collecting memory_profiler\n",
      "\u001b[?25l  Downloading https://files.pythonhosted.org/packages/9f/fe/1fca7273dd111108f204a686b12a12b6422d405fe4614087aa7d5a66ea87/memory_profiler-0.55.0.tar.gz (40kB)\n",
      "\u001b[K    100% |████████████████████████████████| 40kB 5.1MB/s \n",
      "\u001b[?25hRequirement already satisfied: psutil in /usr/local/lib/python3.6/dist-packages (from memory_profiler) (5.4.8)\n",
      "Building wheels for collected packages: memory-profiler\n",
      "  Building wheel for memory-profiler (setup.py) ... \u001b[?25ldone\n",
      "\u001b[?25h  Stored in directory: /root/.cache/pip/wheels/f0/ff/63/fdbff3f1e1b76ad4eae491dd5b190902906b093e93eb86dd5a\n",
      "Successfully built memory-profiler\n",
      "Installing collected packages: memory-profiler\n",
      "Successfully installed memory-profiler-0.55.0\n"
     ]
    }
   ],
   "source": [
    "! pip install memory_profiler"
   ]
  },
  {
   "cell_type": "code",
   "execution_count": 0,
   "metadata": {
    "colab": {},
    "colab_type": "code",
    "hidden": true,
    "id": "GYO8FhfADF_c"
   },
   "outputs": [],
   "source": [
    "%load_ext memory_profiler"
   ]
  },
  {
   "cell_type": "markdown",
   "metadata": {
    "colab_type": "text",
    "heading_collapsed": true,
    "id": "0dn7lq94nBA8"
   },
   "source": [
    "### Import Libraries"
   ]
  },
  {
   "cell_type": "code",
   "execution_count": 0,
   "metadata": {
    "colab": {},
    "colab_type": "code",
    "hidden": true,
    "id": "jHJmjJWIHGUA"
   },
   "outputs": [],
   "source": [
    "from IPython import display\n",
    "from matplotlib import pyplot as plt\n",
    "import numpy as np\n",
    "import pandas as pd\n",
    "import seaborn as sns\n",
    "import tensorflow as tf\n",
    "from tensorflow.python.data import Dataset\n",
    "from tensorflow.estimator.inputs import numpy_input_fn, pandas_input_fn\n",
    "from tensorflow.feature_column import numeric_column\n",
    "from sklearn.preprocessing import MinMaxScaler\n",
    "\n",
    "tf.logging.set_verbosity(tf.logging.WARN)\n",
    "pd.options.display.max_rows = 10\n",
    "pd.options.display.float_format = '{:.2f}'.format\n",
    "\n",
    "# Pretty Display of Variables\n",
    "from IPython.core.interactiveshell import InteractiveShell\n",
    "InteractiveShell.ast_node_interactivity = \"all\""
   ]
  },
  {
   "cell_type": "markdown",
   "metadata": {
    "colab_type": "text",
    "id": "ldmE-Nc0nFVO"
   },
   "source": [
    "### Necessary Functions"
   ]
  },
  {
   "cell_type": "code",
   "execution_count": 0,
   "metadata": {
    "code_folding": [
     0
    ],
    "colab": {},
    "colab_type": "code",
    "id": "V8zWbNn8pM0-"
   },
   "outputs": [],
   "source": [
    "def numeric_features(feature_columns):\n",
    "    \"\"\"Construct the TensorFlow Feature Columns.\n",
    "\n",
    "    Args:\n",
    "        data(List): The names of the numerical input features to use.\n",
    "    ....\n",
    "    Returns:\n",
    "        A set of feature columns\n",
    "    \"\"\" \n",
    "  \n",
    "    return set([numeric_column(feature) for feature in feature_columns])"
   ]
  },
  {
   "cell_type": "code",
   "execution_count": 0,
   "metadata": {
    "code_folding": [
     0
    ],
    "colab": {},
    "colab_type": "code",
    "id": "DFNxFRAMpI6b"
   },
   "outputs": [],
   "source": [
    "def pandas_fn(X, Y, features=None, batch_size=1, shuffle=True, num_epochs=None):\n",
    "    \"\"\" Creates a input function that constructs the input function\n",
    "    for the model. You can pass the data after splitting the training and \n",
    "    test data. Function selects features while preparing the data.\n",
    "  \n",
    "    Args:\n",
    "        X: Pandas DataFrame containing the training data.\n",
    "        Y: Pandas Series containing the labels\n",
    "        features: A List containing the names of the features. Default to None\n",
    "        batch_size: Size of each features to fetch. Default value `1`\n",
    "        shuffle: Shuffle the data. Default value `True`\n",
    "        num_epochs: Iteration to fetch the data. `None` for infinity.\n",
    "\n",
    "    Returns:\n",
    "        pandas input function\n",
    "    \"\"\"\n",
    "    if features is not None:\n",
    "        return pandas_input_fn(X[features], Y, batch_size=batch_size, shuffle=shuffle, num_epochs=num_epochs)\n",
    "    else:\n",
    "        return pandas_input_fn(X, Y, batch_size=batch_size, shuffle=shuffle, num_epochs=num_epochs)"
   ]
  },
  {
   "cell_type": "code",
   "execution_count": 0,
   "metadata": {
    "code_folding": [
     0
    ],
    "colab": {},
    "colab_type": "code",
    "id": "ngEgup7EpKyX"
   },
   "outputs": [],
   "source": [
    "def numpy_fn(X, Y, features=None, batch_size=1, shuffle=True, num_epochs=None):\n",
    "    \"\"\" Creates a input function that constructs the input function\n",
    "    for the model. You can pass the data after splitting the training and \n",
    "    test data. Function selects features while preparing the data.\n",
    "\n",
    "    Args:\n",
    "        X: Pandas DataFrame containing the training data.\n",
    "        Y: Pandas Series or DataFrame containing the labels\n",
    "        features: A List containing the names of the features. Default to None.\n",
    "        batch_size: Size of each features to fetch. Default value `1`\n",
    "        shuffle: Shuffle the data. Default value `True`\n",
    "        num_epochs: Iteration to fetch the data. `None` for infinity.\n",
    "    \"\"\"\n",
    "  \n",
    "    if features is not None:\n",
    "        return numpy_input_fn(x={key:np.array(value) for key,value in dict(X[features]).items()},\n",
    "                        y=Y.values, batch_size=batch_size, shuffle=shuffle, num_epochs=num_epochs)\n",
    "    else:\n",
    "        return numpy_input_fn(x={key:np.array(value) for key,value in dict(X).items()},\n",
    "                        y=Y.values, batch_size=batch_size, shuffle=shuffle, num_epochs=num_epochs)"
   ]
  },
  {
   "cell_type": "code",
   "execution_count": 0,
   "metadata": {
    "code_folding": [
     0
    ],
    "colab": {},
    "colab_type": "code",
    "id": "BqTUOzNH4VKE"
   },
   "outputs": [],
   "source": [
    "def compute_predictions(model, predict_fn):\n",
    "    \"\"\" A Function that produces resuts for the given model.\n",
    "\n",
    "    Args:\n",
    "        model: A model data was train on. tf.estimator object\n",
    "        predict_fn: A function used to predict the output\n",
    "\n",
    "    Returns:\n",
    "        np.array containing prediction results\n",
    "    \"\"\"\n",
    "    predictions = model.predict(input_fn=predict_fn)\n",
    "    return np.array([item['predictions'][0] for item in predictions])"
   ]
  },
  {
   "cell_type": "code",
   "execution_count": 0,
   "metadata": {
    "code_folding": [
     0
    ],
    "colab": {},
    "colab_type": "code",
    "id": "yWOzy0RG0O6M"
   },
   "outputs": [],
   "source": [
    "def loss(predictions, y):\n",
    "    \"\"\" Loss function to find the error value of our model. Mean squared error.\n",
    "  \n",
    "    Args:\n",
    "        predictions: Predicted values\n",
    "        y: Actual values\n",
    "  \n",
    "    Returns:\n",
    "        A Tensor object to containing the error value.\n",
    "  \n",
    "    \"\"\"\n",
    "    return tf.reduce_mean(tf.squared_difference(predictions, y.values))"
   ]
  },
  {
   "cell_type": "code",
   "execution_count": 0,
   "metadata": {
    "code_folding": [
     0
    ],
    "colab": {},
    "colab_type": "code",
    "id": "9SD7NZBr41SA"
   },
   "outputs": [],
   "source": [
    "def loss2(predictions, y):\n",
    "    \"\"\" Loss function to find the error value of our model\n",
    "  \n",
    "    Args:\n",
    "        predictions: Predicted values\n",
    "        y: Actual values\n",
    "  \n",
    "    Returns:\n",
    "        A Tensor object to containing the error value.\n",
    "  \n",
    "  \"\"\"\n",
    "    return tf.reduce_mean(tf.squared_difference(predictions, y))"
   ]
  },
  {
   "cell_type": "code",
   "execution_count": null,
   "metadata": {
    "code_folding": [
     0
    ]
   },
   "outputs": [],
   "source": [
    "def process_california_data(ratio=0.8):\n",
    "    \"\"\" Downloads the california housing dataset, preprocess the data and splits it.\n",
    "    Args:\n",
    "        ratio: Split ratio. Default is 0.8\n",
    "    \n",
    "    \"\"\"\n",
    "\n",
    "    print('Downloading data from web..')\n",
    "    # Load training & test data set.\n",
    "    train_df = pd.read_csv(\"https://download.mlcc.google.com/mledu-datasets/california_housing_train.csv\", sep=\",\")\n",
    "    test_df = pd.read_csv(\"https://download.mlcc.google.com/mledu-datasets/california_housing_test.csv\", sep=\",\")\n",
    "\n",
    "    print('Merging data..')\n",
    "    # Merge data\n",
    "    df = pd.concat([train_df, test_df])\n",
    "    \n",
    "    # Drop NA values\n",
    "    df.dropna(inplace=True)\n",
    "    \n",
    "    print('Creating a synthetic feature..')\n",
    "    # Create a synthetic feature.\n",
    "    df[\"rooms_per_person\"] = df[\"total_rooms\"] / df[\"population\"]\n",
    "    \n",
    "    # Scale the huge value columns\n",
    "    df[\"median_house_value\"] = df[\"median_house_value\"] / 1000 \n",
    "\n",
    "    print('Shuffling the data..')\n",
    "    # Shuffle\n",
    "    df = df.reindex(np.random.permutation(df.index))\n",
    "\n",
    "    print('Heatmap of our data..')\n",
    "    sample = df.sample(n=500)\n",
    "    sns.heatmap(\n",
    "        sample.corr(), \n",
    "        xticklabels=sample.columns.values,\n",
    "        yticklabels=sample.columns.values,\n",
    "        fmt=\".2f\",\n",
    "        annot=True\n",
    "    )\n",
    "\n",
    "    print('Scaling the data between 0-1..')\n",
    "    # Scale the data between 0-1\n",
    "    scaler = MinMaxScaler(feature_range=(0,1))\n",
    "    scale_columns = list(df.columns[2:])\n",
    "    scaled = df.copy()\n",
    "    scaled[scale_columns] = scaler.fit_transform(df[scale_columns])\n",
    "    print(\"Data was multiplied by {:.6f} and added {:.4f}\".format(scaler.scale_[0], scaler.min_[0]))\n",
    "\n",
    "\n",
    "    print('Splitting train & test frames..')\n",
    "    # Split\n",
    "    \n",
    "    split_size_head = round(ratio*scaled.shape[0])\n",
    "    split_size_tail = scaled.shape[0] - split_size_head\n",
    "    train = scaled.head(split_size_head)\n",
    "    test = scaled.tail(split_size_tail)\n",
    "\n",
    "    return train, test, scaler"
   ]
  },
  {
   "cell_type": "code",
   "execution_count": null,
   "metadata": {},
   "outputs": [],
   "source": [
    "train, test, scaler = process_california_data()"
   ]
  },
  {
   "cell_type": "markdown",
   "metadata": {
    "colab_type": "text",
    "heading_collapsed": true,
    "id": "WoQPpKdpoQVy"
   },
   "source": [
    "### Model Functions"
   ]
  },
  {
   "cell_type": "markdown",
   "metadata": {
    "colab_type": "text",
    "heading_collapsed": true,
    "hidden": true,
    "id": "zOr3KCHSOG8E"
   },
   "source": [
    "#### Estimator Functions"
   ]
  },
  {
   "cell_type": "code",
   "execution_count": 0,
   "metadata": {
    "code_folding": [
     0
    ],
    "colab": {},
    "colab_type": "code",
    "hidden": true,
    "id": "dfITUfQWJln_"
   },
   "outputs": [],
   "source": [
    "def linear_estimator(labels, funcs, feature_columns, learning_rate, steps, quiet=False):\n",
    "    \"\"\" Linear Regression using high level Estimator API\n",
    "  \n",
    "    Args:\n",
    "        labels: A dictionary contains labels as pandas Series for training and testing. \n",
    "                {train: y_train, test: y_test}\n",
    "        funcs: A dictionary contains training/test/predict function to hook up with model.\n",
    "                {train: train_fn, test: test_fn, predict: predict_fn}\n",
    "        feature_columns: Feature columns as list\n",
    "        learning_rate: Learning rate of the model as float\n",
    "        steps: Number of steps required to run the model with parameters as integer\n",
    "        quiet: Selects whether to print results or not.\n",
    "    \n",
    "    \"\"\"\n",
    "    Y_train, Y_test = labels['train'], labels['test']\n",
    "    train_fn, test_fn, predict_fn = funcs['train'], funcs['test'], funcs['predict']\n",
    "    \n",
    "    # Model parameters\n",
    "    model = tf.estimator.LinearRegressor(feature_columns=numeric_features(feature_columns), \n",
    "                                         optimizer=tf.train.AdamOptimizer(learning_rate))\n",
    "      \n",
    "    # Train the model, starting from the prior state.\n",
    "    model.train(input_fn=train_fn, max_steps=steps)\n",
    "\n",
    "    # Evalute model\n",
    "    eval_result = model.evaluate(input_fn=test_fn)\n",
    "    \n",
    "    if quiet is False:\n",
    "        print(\"Printing Eval Results....\\n\", eval_result)\n",
    "\n",
    "    # Get the loss value\n",
    "    mse = eval_result[\"average_loss\"]\n",
    "\n",
    "    # Compute predictions.\n",
    "    predictions = compute_predictions(model, predict_fn)     \n",
    "\n",
    "    # Compute loss.\n",
    "    test_loss = loss(predictions, Y_test)\n",
    "    \n",
    "    with tf.Session() as sess:\n",
    "        test_mse = test_loss.eval()\n",
    "\n",
    "    if quiet is False:\n",
    "        # Print the current loss.\n",
    "        print(\"  Loss for Train: %0.6f\" % (mse**0.5))\n",
    "        print(\"  Loss for Test: %0.6f\" % (test_mse**0.5))"
   ]
  },
  {
   "cell_type": "code",
   "execution_count": 0,
   "metadata": {
    "code_folding": [
     0
    ],
    "colab": {},
    "colab_type": "code",
    "hidden": true,
    "id": "W9C4L78GE2BT"
   },
   "outputs": [],
   "source": [
    "def neural_estimator(labels, funcs, feature_columns, learning_rate, steps, hidden_units, quiet=False):\n",
    "    \"\"\" Deep Neural Networks\n",
    "  \n",
    "    Args:\n",
    "        labels: A dictionary contains labels as pandas Series for training and testing. \n",
    "                {train: y_train, test: y_test}\n",
    "        funcs: A dictionary contains training/test/predict function to hook up with model.\n",
    "                {train: train_fn, test: test_fn, predict: predict_fn}\n",
    "        feature_columns: Feature columns as list\n",
    "        learning_rate: Learning rate of the model as float\n",
    "        steps: Number of steps required to run the model with parameters as integer\n",
    "        hidden_units: DNN layer sizes\n",
    "        quiet: Selects whether to print results or not.\n",
    "        \n",
    "    \"\"\"\n",
    "    Y_train, Y_test = labels['train'], labels['test']\n",
    "    train_fn, test_fn, predict_fn = funcs['train'], funcs['test'], funcs['predict']\n",
    " \n",
    "    # Create a DNNRegressor object\n",
    "    model = tf.estimator.DNNRegressor(\n",
    "          feature_columns=numeric_features(feature_columns),\n",
    "          hidden_units=hidden_units,\n",
    "          optimizer=tf.train.AdamOptimizer(learning_rate)\n",
    "    )\n",
    "      \n",
    "    # Train the model, starting from the prior state.\n",
    "    model.train(input_fn=train_fn, max_steps=steps)\n",
    "  \n",
    "    # Evalute model\n",
    "    eval_result = model.evaluate(input_fn=test_fn)\n",
    "  \n",
    "    if quiet is False:\n",
    "        print(\"Printing Eval Results....\\n\", eval_result)\n",
    "  \n",
    "    # Get the loss value\n",
    "    mse = eval_result[\"average_loss\"]\n",
    "\n",
    "    # Compute predictions.\n",
    "    predictions = compute_predictions(model, predict_fn)     \n",
    "\n",
    "    # Compute loss\n",
    "    test_loss = loss(predictions, Y_test)\n",
    "\n",
    "    with tf.Session() as sess:\n",
    "        test_mse = test_loss.eval()\n",
    "\n",
    "    if quiet is False:\n",
    "        # Print the current loss.\n",
    "        print(\"  Loss for Train: %0.6f\" % (mse**0.5))\n",
    "        print(\"  Loss for Test: %0.6f\" % (test_mse**0.5))"
   ]
  },
  {
   "cell_type": "markdown",
   "metadata": {
    "colab_type": "text",
    "heading_collapsed": true,
    "hidden": true,
    "id": "-uLjGbuQMoeY"
   },
   "source": [
    "#### Low Level Functions"
   ]
  },
  {
   "cell_type": "code",
   "execution_count": 0,
   "metadata": {
    "code_folding": [
     0
    ],
    "colab": {},
    "colab_type": "code",
    "hidden": true,
    "id": "7jqL0IpZMuI8"
   },
   "outputs": [],
   "source": [
    "def linear_reg(train, test, feature_size, epochs=500, learning_rate=0.1):\n",
    "    \"\"\" Linear Regression with one feature using low level API \n",
    "  \n",
    "    Args:\n",
    "        train: A dictionary contains train features and labels as np.arrays\n",
    "                {x: X_train, y: Y_train}\n",
    "        test: A dictionary contains train features and labels as np.arrays\n",
    "                {x: X_test, y: Y_test}\n",
    "        feature_size: Indicates how many feature will be used in model\n",
    "        epochs: How many times should neural network run\n",
    "        learning_rate: Learning rate of the model\n",
    "  \n",
    "    \"\"\"\n",
    "    X_train, Y_train = train['x'], train['y'] \n",
    "    X_test, Y_test = test['x'], test['y']\n",
    "  \n",
    "    # Input layer\n",
    "    with tf.variable_scope(\"input\"):\n",
    "        X = tf.placeholder(tf.float32, shape=(None, feature_size))\n",
    "        w = tf.Variable(tf.random_normal([feature_size, 1]))\n",
    "        b = tf.Variable(tf.random_normal([]))\n",
    "    \n",
    "    # Linear Model\n",
    "    if feature_size == 1: \n",
    "        with tf.variable_scope(\"linear_model\"):\n",
    "            model = w * X + b\n",
    "    else: \n",
    "        with tf.variable_scope(\"linear_model\"):\n",
    "            model = tf.add(tf.matmul(X, w), b)\n",
    "  \n",
    "    # Cost Function\n",
    "    with tf.variable_scope(\"cost\"):\n",
    "        Y = tf.placeholder(tf.float32, shape=(None, 1))\n",
    "        cost = tf.losses.mean_squared_error(Y, model)\n",
    "  \n",
    "    # Optimizer Function\n",
    "    with tf.variable_scope(\"train\"):\n",
    "        opt = tf.train.AdamOptimizer(learning_rate).minimize(cost)\n",
    "    \n",
    "    \n",
    "    with tf.Session() as sess:\n",
    "        sess.run(tf.global_variables_initializer())\n",
    "    \n",
    "        for epoch in range(epochs):\n",
    "        # Feed in the training data and do one step of neural network training\n",
    "            sess.run(opt, feed_dict={X:X_train, Y:Y_train})\n",
    "      \n",
    "        mse = sess.run(cost, feed_dict={X: X_train, Y: Y_train})\n",
    "        test_mse = sess.run(cost, feed_dict={X: X_test, Y: Y_test})\n",
    "        \n",
    "        # Print the current loss.\n",
    "        print(\"  Loss for Train: %0.6f\" % (mse**0.5))\n",
    "        print(\"  Loss for Test: %0.6f\" % (test_mse**0.5))"
   ]
  },
  {
   "cell_type": "code",
   "execution_count": 0,
   "metadata": {
    "code_folding": [
     0
    ],
    "colab": {},
    "colab_type": "code",
    "hidden": true,
    "id": "zueB8H-oohGa"
   },
   "outputs": [],
   "source": [
    "def neural_network(train, test, feature_size, layer_sizes, epochs=500, output_size=1, learning_rate=0.1):\n",
    "    \"\"\" Neural network using low level API\n",
    "  \n",
    "    Args:\n",
    "        train: A dictionary contains train features and labels as np.arrays\n",
    "                {x: X_train, y: Y_train}\n",
    "        test: A dictionary contains train features and labels as np.arrays\n",
    "                {x: X_test, y: Y_test}\n",
    "        feature_size: Size of the features\n",
    "        output_size: Neural network output size.\n",
    "        epochs: How many times should neural network run\n",
    "        learning_rate: Learning rate of the model\n",
    "        layer_sizes: A list containing layer sizes. [l1, l2, l3] \n",
    "  \n",
    "    \"\"\"\n",
    "    X_train, Y_train = train['x'], train['y'] \n",
    "    X_test, Y_test = test['x'], test['y']\n",
    "  \n",
    "    layer_1_nodes = layer_sizes[0]\n",
    "    layer_2_nodes = layer_sizes[1]\n",
    "    layer_3_nodes = layer_sizes[2]\n",
    "  \n",
    "    with tf.variable_scope(\"input\"):   # Input layer\n",
    "        X = tf.placeholder(tf.float32, shape=(None, feature_size))\n",
    "    \n",
    "    with tf.variable_scope(\"layer_1\"):  # Layer 1\n",
    "        weights = tf.get_variable(name=\"weights1\", shape=(feature_size, layer_1_nodes), \n",
    "                              initializer=tf.contrib.layers.xavier_initializer())\n",
    "        biases = tf.get_variable(name=\"biases1\", shape=(layer_1_nodes),\n",
    "                            initializer=tf.zeros_initializer())\n",
    "        layer_1_output = tf.nn.relu_layer(X, weights, biases)\n",
    "  \n",
    "    \n",
    "    with tf.variable_scope(\"layer_2\"):   # Layer 2\n",
    "        weights = tf.get_variable(name=\"weights2\", shape=(layer_1_nodes, layer_2_nodes), \n",
    "                              initializer=tf.contrib.layers.xavier_initializer())\n",
    "    \n",
    "        biases = tf.get_variable(name=\"biases2\", shape=(layer_2_nodes),\n",
    "                            initializer=tf.zeros_initializer())\n",
    "    \n",
    "        layer_2_output = tf.nn.relu_layer(layer_1_output, weights, biases)\n",
    "    \n",
    "    with tf.variable_scope(\"layer_3\"):   # Layer 3\n",
    "        weights = tf.get_variable(name=\"weights3\", shape=(layer_2_nodes, layer_3_nodes), \n",
    "                              initializer=tf.contrib.layers.xavier_initializer())\n",
    "        biases = tf.get_variable(name=\"biases3\", shape=(layer_3_nodes),\n",
    "                            initializer=tf.zeros_initializer())\n",
    "        layer_3_output = tf.nn.relu_layer(layer_2_output, weights, biases)\n",
    "  \n",
    "  \n",
    "    with tf.variable_scope(\"output\"):   # Output Layer\n",
    "        weights = tf.get_variable(name=\"weights\", shape=(layer_3_nodes, output_size), \n",
    "                              initializer=tf.contrib.layers.xavier_initializer())  \n",
    "        biases = tf.get_variable(name=\"biases\", shape=(output_size),\n",
    "                            initializer=tf.zeros_initializer())\n",
    "        predictions = tf.nn.relu_layer(layer_3_output, weights, biases)\n",
    "  \n",
    "  \n",
    "    with tf.variable_scope(\"cost\"):\n",
    "        Y = tf.placeholder(tf.float32, shape=(None, 1))\n",
    "        cost = loss2(predictions, Y)\n",
    "    \n",
    "    with tf.variable_scope(\"train\"):\n",
    "        opt = tf.train.AdamOptimizer(learning_rate).minimize(cost)\n",
    "    \n",
    "    \n",
    "    with tf.Session() as sess:\n",
    "        sess.run(tf.global_variables_initializer())\n",
    "    \n",
    "        for epoch in range(epochs):\n",
    "            # Feed in the training data and do one step of neural network training\n",
    "            sess.run(opt, feed_dict={X:X_train, Y:Y_train})\n",
    "      \n",
    "            mse = sess.run(cost, feed_dict={X: X_train, Y: Y_train})\n",
    "            test_mse = sess.run(cost, feed_dict={X: X_test, Y: Y_test})\n",
    "\n",
    "            # Print the current loss.\n",
    "            print(\"  Loss for Train: %0.6f\" % (mse**0.5))\n",
    "            print(\"  Loss for Test: %0.6f\" % (test_mse**0.5))"
   ]
  },
  {
   "cell_type": "markdown",
   "metadata": {
    "colab_type": "text",
    "heading_collapsed": true,
    "id": "4WfPKCkkEfm2"
   },
   "source": [
    "### Linear Regression High Level API"
   ]
  },
  {
   "cell_type": "markdown",
   "metadata": {
    "colab_type": "text",
    "hidden": true,
    "id": "6no9vwrdRd9p"
   },
   "source": [
    "**Model Parameters for Linear Model**"
   ]
  },
  {
   "cell_type": "code",
   "execution_count": 0,
   "metadata": {
    "colab": {},
    "colab_type": "code",
    "hidden": true,
    "id": "bY_XT7tTJvoj"
   },
   "outputs": [],
   "source": [
    "# Model Parameters\n",
    "learning_rate = 0.02\n",
    "steps = 200\n",
    "batch_size = 100"
   ]
  },
  {
   "cell_type": "markdown",
   "metadata": {
    "colab_type": "text",
    "hidden": true,
    "id": "9GPQb6GSGTcA"
   },
   "source": [
    "**Linear Regression with One Variable**"
   ]
  },
  {
   "cell_type": "code",
   "execution_count": 0,
   "metadata": {
    "colab": {},
    "colab_type": "code",
    "hidden": true,
    "id": "6zNc6fy7xaCV"
   },
   "outputs": [],
   "source": [
    "feature_columns = [\"median_income\"]\n",
    "label = \"median_house_value\"\n",
    "\n",
    "# Input functions\n",
    "train_input = pandas_fn(train, train[label], features=feature_columns, batch_size=batch_size)\n",
    "test_input = pandas_fn(train, train[label], features=feature_columns, batch_size=1, shuffle=False, num_epochs=1)\n",
    "predict_input = pandas_fn(test, test[label], features=feature_columns, batch_size=1, shuffle=False, num_epochs=1)\n",
    "\n",
    "fns = {'train': train_input, 'test': test_input, 'predict': predict_input}\n",
    "fn_labels = {'train': train[label], 'test': test[label]}"
   ]
  },
  {
   "cell_type": "code",
   "execution_count": 26,
   "metadata": {
    "colab": {
     "base_uri": "https://localhost:8080/",
     "height": 104
    },
    "colab_type": "code",
    "executionInfo": {
     "elapsed": 44153,
     "status": "ok",
     "timestamp": 1548932819409,
     "user": {
      "displayName": "Fazil B. Topal",
      "photoUrl": "https://lh4.googleusercontent.com/-IxiCh57ZfZI/AAAAAAAAAAI/AAAAAAAAAGg/HpcJn-cqYZk/s64/photo.jpg",
      "userId": "06988773581943736669"
     },
     "user_tz": -60
    },
    "hidden": true,
    "id": "pZanPZP2jWEE",
    "outputId": "43fbb18b-e508-498a-8604-3dc3fed37f66"
   },
   "outputs": [
    {
     "name": "stdout",
     "output_type": "stream",
     "text": [
      "WARNING:tensorflow:Using temporary folder as model directory: /tmp/tmp1dt2kpy6\n",
      "Printing Eval Results....\n",
      " {'average_loss': 0.030024657, 'label/mean': 0.3967738, 'loss': 0.030024657, 'prediction/mean': 0.39747584, 'global_step': 200}\n",
      "  Loss for Train: 0.173276\n",
      "  Loss for Test: 0.174853\n"
     ]
    }
   ],
   "source": [
    "linear_estimator(fn_labels, fns, feature_columns, learning_rate, steps)"
   ]
  },
  {
   "cell_type": "code",
   "execution_count": 28,
   "metadata": {
    "colab": {
     "base_uri": "https://localhost:8080/",
     "height": 121
    },
    "colab_type": "code",
    "executionInfo": {
     "elapsed": 44477,
     "status": "ok",
     "timestamp": 1548933109426,
     "user": {
      "displayName": "Fazil B. Topal",
      "photoUrl": "https://lh4.googleusercontent.com/-IxiCh57ZfZI/AAAAAAAAAAI/AAAAAAAAAGg/HpcJn-cqYZk/s64/photo.jpg",
      "userId": "06988773581943736669"
     },
     "user_tz": -60
    },
    "hidden": true,
    "id": "jgiy8SuQNyGW",
    "outputId": "2898a1ec-7985-46b2-f8c4-024595764cd5"
   },
   "outputs": [
    {
     "name": "stdout",
     "output_type": "stream",
     "text": [
      "WARNING:tensorflow:Using temporary folder as model directory: /tmp/tmpnh_p_vn_\n",
      "Printing Eval Results....\n",
      " {'average_loss': 0.029991103, 'label/mean': 0.3967738, 'loss': 0.029991103, 'prediction/mean': 0.3928956, 'global_step': 200}\n",
      "  Loss for Train: 0.173179\n",
      "  Loss for Test: 0.174810\n",
      "peak memory: 886.41 MiB, increment: 2.91 MiB\n"
     ]
    }
   ],
   "source": [
    "%memit linear_estimator(fn_labels, fns, feature_columns, learning_rate, steps, quiet=True)"
   ]
  },
  {
   "cell_type": "code",
   "execution_count": 29,
   "metadata": {
    "colab": {
     "base_uri": "https://localhost:8080/",
     "height": 139
    },
    "colab_type": "code",
    "executionInfo": {
     "elapsed": 44236,
     "status": "ok",
     "timestamp": 1548933155564,
     "user": {
      "displayName": "Fazil B. Topal",
      "photoUrl": "https://lh4.googleusercontent.com/-IxiCh57ZfZI/AAAAAAAAAAI/AAAAAAAAAGg/HpcJn-cqYZk/s64/photo.jpg",
      "userId": "06988773581943736669"
     },
     "user_tz": -60
    },
    "hidden": true,
    "id": "62IueCZ88-1s",
    "outputId": "a4713a45-83be-4b71-d1a6-9f28ef0f1e3b"
   },
   "outputs": [
    {
     "name": "stdout",
     "output_type": "stream",
     "text": [
      "WARNING:tensorflow:Using temporary folder as model directory: /tmp/tmp545okor9\n",
      "Printing Eval Results....\n",
      " {'average_loss': 0.030032124, 'label/mean': 0.3967738, 'loss': 0.030032124, 'prediction/mean': 0.39253742, 'global_step': 200}\n",
      "  Loss for Train: 0.173298\n",
      "  Loss for Test: 0.174899\n",
      "CPU times: user 1min 3s, sys: 8.69 s, total: 1min 12s\n",
      "Wall time: 43.6 s\n"
     ]
    }
   ],
   "source": [
    "%time linear_estimator(fn_labels, fns, feature_columns, learning_rate, steps, quiet=True)"
   ]
  },
  {
   "cell_type": "code",
   "execution_count": 30,
   "metadata": {
    "colab": {
     "base_uri": "https://localhost:8080/",
     "height": 121
    },
    "colab_type": "code",
    "executionInfo": {
     "elapsed": 48339,
     "status": "ok",
     "timestamp": 1548933207371,
     "user": {
      "displayName": "Fazil B. Topal",
      "photoUrl": "https://lh4.googleusercontent.com/-IxiCh57ZfZI/AAAAAAAAAAI/AAAAAAAAAGg/HpcJn-cqYZk/s64/photo.jpg",
      "userId": "06988773581943736669"
     },
     "user_tz": -60
    },
    "hidden": true,
    "id": "_Or9J68fPfwf",
    "outputId": "8fae1070-da8c-4fac-a3fd-82620992cb3d",
    "scrolled": true
   },
   "outputs": [
    {
     "name": "stdout",
     "output_type": "stream",
     "text": [
      "WARNING:tensorflow:Using temporary folder as model directory: /tmp/tmph0sncvbe\n",
      "Printing Eval Results....\n",
      " {'average_loss': 0.030006127, 'label/mean': 0.3967738, 'loss': 0.030006127, 'prediction/mean': 0.39616334, 'global_step': 200}\n",
      "  Loss for Train: 0.173223\n",
      "  Loss for Test: 0.174818\n",
      " "
     ]
    }
   ],
   "source": [
    "%prun linear_estimator(fn_labels, fns, feature_columns, learning_rate, steps, quiet=True)"
   ]
  },
  {
   "cell_type": "markdown",
   "metadata": {
    "colab_type": "text",
    "hidden": true,
    "id": "5ppMIdeh6-tN"
   },
   "source": [
    "**Results**"
   ]
  },
  {
   "cell_type": "markdown",
   "metadata": {
    "colab_type": "text",
    "hidden": true,
    "id": "dO-LKX8m7J7Z"
   },
   "source": [
    "**Train Loss (RMSE)**: 0.173223  \n",
    "**Validation Loss(RMSE)**: 0.174818\n",
    "\n",
    "\n",
    "**%time**    \n",
    "CPU times: user 1min 3s, sys: 8.69 s, total: 1min 12s\n",
    "Wall time: 43.6 s\n",
    "\n",
    "**%prun**   \n",
    "6534300 function calls (6256122 primitive calls) in 47.238 seconds\n",
    "\n",
    "**%memit**   \n",
    "peak memory: 886.41 MiB, increment: 2.91 MiB\n",
    "\n",
    "\n",
    "**Model Parameters**  \n",
    "learning_rate =  0.02\n",
    "steps = 200\n",
    "batch_size = 100 \n",
    "periods = 10  \n"
   ]
  },
  {
   "cell_type": "markdown",
   "metadata": {
    "colab_type": "text",
    "hidden": true,
    "id": "vt4sHMwDTCyP"
   },
   "source": [
    "**Linear Regression with Multiple Variables**"
   ]
  },
  {
   "cell_type": "code",
   "execution_count": 0,
   "metadata": {
    "colab": {},
    "colab_type": "code",
    "hidden": true,
    "id": "7KE8-juqTNXA"
   },
   "outputs": [],
   "source": [
    "feature_columns = [\"median_income\", \"rooms_per_person\", \"total_rooms\", \"housing_median_age\"]\n",
    "label = \"median_house_value\"\n",
    "\n",
    "# Input functions\n",
    "train_input = pandas_fn(train, train[label], features=feature_columns, batch_size=batch_size)\n",
    "test_input = pandas_fn(train, train[label], features=feature_columns, batch_size=1, shuffle=False, num_epochs=1)\n",
    "predict_input = pandas_fn(test, test[label], features=feature_columns, batch_size=1, shuffle=False, num_epochs=1)\n",
    "\n",
    "fns = {'train': train_input, 'test': test_input, 'predict': predict_input}\n",
    "fn_labels = {'train': train[label], 'test': test[label]}"
   ]
  },
  {
   "cell_type": "code",
   "execution_count": null,
   "metadata": {
    "hidden": true
   },
   "outputs": [],
   "source": [
    "linear_estimator(fn_labels, fns, feature_columns, learning_rate, steps)"
   ]
  },
  {
   "cell_type": "code",
   "execution_count": 32,
   "metadata": {
    "colab": {
     "base_uri": "https://localhost:8080/",
     "height": 121
    },
    "colab_type": "code",
    "executionInfo": {
     "elapsed": 55761,
     "status": "ok",
     "timestamp": 1548933497579,
     "user": {
      "displayName": "Fazil B. Topal",
      "photoUrl": "https://lh4.googleusercontent.com/-IxiCh57ZfZI/AAAAAAAAAAI/AAAAAAAAAGg/HpcJn-cqYZk/s64/photo.jpg",
      "userId": "06988773581943736669"
     },
     "user_tz": -60
    },
    "hidden": true,
    "id": "GM8_o9gRTTCh",
    "outputId": "7654ff4f-46f0-437d-a888-2e15ace2c902",
    "scrolled": true
   },
   "outputs": [
    {
     "name": "stdout",
     "output_type": "stream",
     "text": [
      "WARNING:tensorflow:Using temporary folder as model directory: /tmp/tmpkhr9uvbx\n",
      "Printing Eval Results....\n",
      " {'average_loss': 0.027768757, 'label/mean': 0.3967738, 'loss': 0.027768757, 'prediction/mean': 0.38962597, 'global_step': 200}\n",
      "  Loss for Train: 0.166640\n",
      "  Loss for Test: 0.167832\n",
      "peak memory: 895.79 MiB, increment: 7.20 MiB\n"
     ]
    }
   ],
   "source": [
    "%memit linear_estimator(fn_labels, fns, feature_columns, learning_rate, steps, quiet=True)"
   ]
  },
  {
   "cell_type": "code",
   "execution_count": 33,
   "metadata": {
    "colab": {
     "base_uri": "https://localhost:8080/",
     "height": 139
    },
    "colab_type": "code",
    "executionInfo": {
     "elapsed": 55728,
     "status": "ok",
     "timestamp": 1548933558010,
     "user": {
      "displayName": "Fazil B. Topal",
      "photoUrl": "https://lh4.googleusercontent.com/-IxiCh57ZfZI/AAAAAAAAAAI/AAAAAAAAAGg/HpcJn-cqYZk/s64/photo.jpg",
      "userId": "06988773581943736669"
     },
     "user_tz": -60
    },
    "hidden": true,
    "id": "CeBWAa4HUXX6",
    "outputId": "11ff0b28-fc06-4639-b1af-eacaf67aee59"
   },
   "outputs": [
    {
     "name": "stdout",
     "output_type": "stream",
     "text": [
      "WARNING:tensorflow:Using temporary folder as model directory: /tmp/tmp2dip790g\n",
      "Printing Eval Results....\n",
      " {'average_loss': 0.02755624, 'label/mean': 0.3967738, 'loss': 0.02755624, 'prediction/mean': 0.3990464, 'global_step': 200}\n",
      "  Loss for Train: 0.166001\n",
      "  Loss for Test: 0.167204\n",
      "CPU times: user 1min 20s, sys: 11.1 s, total: 1min 31s\n",
      "Wall time: 55.2 s\n"
     ]
    }
   ],
   "source": [
    "%time linear_estimator(fn_labels, fns, feature_columns, learning_rate, steps, quiet=True)"
   ]
  },
  {
   "cell_type": "code",
   "execution_count": 34,
   "metadata": {
    "colab": {
     "base_uri": "https://localhost:8080/",
     "height": 121
    },
    "colab_type": "code",
    "executionInfo": {
     "elapsed": 59172,
     "status": "ok",
     "timestamp": 1548933626116,
     "user": {
      "displayName": "Fazil B. Topal",
      "photoUrl": "https://lh4.googleusercontent.com/-IxiCh57ZfZI/AAAAAAAAAAI/AAAAAAAAAGg/HpcJn-cqYZk/s64/photo.jpg",
      "userId": "06988773581943736669"
     },
     "user_tz": -60
    },
    "hidden": true,
    "id": "dyLZM8NaUXFI",
    "outputId": "54ffe001-63cf-4cd3-95d0-028a01f0c78f"
   },
   "outputs": [
    {
     "name": "stdout",
     "output_type": "stream",
     "text": [
      "WARNING:tensorflow:Using temporary folder as model directory: /tmp/tmp9s_qi6_7\n",
      "Printing Eval Results....\n",
      " {'average_loss': 0.027723497, 'label/mean': 0.3967738, 'loss': 0.027723497, 'prediction/mean': 0.38969576, 'global_step': 200}\n",
      "  Loss for Train: 0.166504\n",
      "  Loss for Test: 0.167672\n",
      " "
     ]
    }
   ],
   "source": [
    "%prun linear_estimator(fn_labels, fns, feature_columns, learning_rate, steps, quiet=True)"
   ]
  },
  {
   "cell_type": "markdown",
   "metadata": {
    "colab_type": "text",
    "hidden": true,
    "id": "65wdm7lB7GWK"
   },
   "source": [
    "**Results**"
   ]
  },
  {
   "cell_type": "markdown",
   "metadata": {
    "colab_type": "text",
    "hidden": true,
    "id": "GQYt_40l7qLs"
   },
   "source": [
    "**Train Loss (RMSE)**: 0.166640  \n",
    "**Validation Loss(RMSE)**: 0.167832\n",
    "\n",
    "**%time**    \n",
    "CPU times: user 1min 20s, sys: 11.1 s, total: 1min 31s\n",
    "Wall time: 55.2 s\n",
    "\n",
    "**%prun**   \n",
    "7201219 function calls (6898102 primitive calls) in 58.285 seconds\n",
    "\n",
    "**%memit**   \n",
    "peak memory: 895.79 MiB, increment: 7.20 MiB\n",
    "\n",
    "**Model Parameters**  \n",
    "learning_rate = 0.02\n",
    "steps = 200  \n",
    "batch_size = 100  \n",
    "periods = 10  \n",
    "\n"
   ]
  },
  {
   "cell_type": "markdown",
   "metadata": {
    "colab_type": "text",
    "heading_collapsed": true,
    "id": "3zADf50fKLuI"
   },
   "source": [
    "### Linear Regression Low Level API"
   ]
  },
  {
   "cell_type": "markdown",
   "metadata": {
    "colab_type": "text",
    "hidden": true,
    "id": "ksaTYJr5fxof"
   },
   "source": [
    "**Model Parameters for Linear Model**"
   ]
  },
  {
   "cell_type": "code",
   "execution_count": 0,
   "metadata": {
    "colab": {},
    "colab_type": "code",
    "hidden": true,
    "id": "gkWM9Yu5KOxG"
   },
   "outputs": [],
   "source": [
    "# Model Parameters\n",
    "learning_rate = 0.02\n",
    "steps = 200\n",
    "# batch_size = 100"
   ]
  },
  {
   "cell_type": "markdown",
   "metadata": {
    "colab_type": "text",
    "hidden": true,
    "id": "j5zHCPrNf3Lg"
   },
   "source": [
    "**Linear Regression with One Variable**"
   ]
  },
  {
   "cell_type": "code",
   "execution_count": 0,
   "metadata": {
    "colab": {},
    "colab_type": "code",
    "hidden": true,
    "id": "sxBP-VTypPaq"
   },
   "outputs": [],
   "source": [
    "feature_columns = \"median_income\"\n",
    "label = \"median_house_value\""
   ]
  },
  {
   "cell_type": "code",
   "execution_count": 0,
   "metadata": {
    "colab": {},
    "colab_type": "code",
    "hidden": true,
    "id": "-C3X67mfpSEZ"
   },
   "outputs": [],
   "source": [
    "X_train = train[feature_columns].values.reshape(-1,1)\n",
    "Y_train = train[label].values.reshape(-1,1)\n",
    "X_test = test[feature_columns].values.reshape(-1,1)\n",
    "Y_test = test[label].values.reshape(-1,1)\n",
    "\n",
    "_train = {'x': X_train, 'y': Y_train}\n",
    "_test = {'x': X_test, 'y': Y_test}"
   ]
  },
  {
   "cell_type": "code",
   "execution_count": null,
   "metadata": {
    "hidden": true
   },
   "outputs": [],
   "source": [
    "linear_reg(_train, _test, feature_size=1, epochs=steps, learning_rate=learning_rate)"
   ]
  },
  {
   "cell_type": "code",
   "execution_count": 44,
   "metadata": {
    "colab": {
     "base_uri": "https://localhost:8080/",
     "height": 52
    },
    "colab_type": "code",
    "executionInfo": {
     "elapsed": 1501,
     "status": "ok",
     "timestamp": 1548934116289,
     "user": {
      "displayName": "Fazil B. Topal",
      "photoUrl": "https://lh4.googleusercontent.com/-IxiCh57ZfZI/AAAAAAAAAAI/AAAAAAAAAGg/HpcJn-cqYZk/s64/photo.jpg",
      "userId": "06988773581943736669"
     },
     "user_tz": -60
    },
    "hidden": true,
    "id": "8ihBOMlAqrMr",
    "outputId": "632ea225-f879-47b1-bf07-d83ebe4b17f7"
   },
   "outputs": [
    {
     "name": "stdout",
     "output_type": "stream",
     "text": [
      "Training Cost Final: 0.17803674695014315  Testing Cost Final: 0.18174758961087978\n",
      "peak memory: 912.58 MiB, increment: 0.41 MiB\n"
     ]
    }
   ],
   "source": [
    "%memit linear_reg(_train, _test, feature_size=1, epochs=steps, learning_rate=learning_rate)"
   ]
  },
  {
   "cell_type": "code",
   "execution_count": 45,
   "metadata": {
    "colab": {
     "base_uri": "https://localhost:8080/",
     "height": 69
    },
    "colab_type": "code",
    "executionInfo": {
     "elapsed": 1120,
     "status": "ok",
     "timestamp": 1548934119201,
     "user": {
      "displayName": "Fazil B. Topal",
      "photoUrl": "https://lh4.googleusercontent.com/-IxiCh57ZfZI/AAAAAAAAAAI/AAAAAAAAAGg/HpcJn-cqYZk/s64/photo.jpg",
      "userId": "06988773581943736669"
     },
     "user_tz": -60
    },
    "hidden": true,
    "id": "K05wzbipf72H",
    "outputId": "1d3756fc-23a8-45ce-cf84-6f3eff19e78b"
   },
   "outputs": [
    {
     "name": "stdout",
     "output_type": "stream",
     "text": [
      "Training Cost Final: 0.17281952792806496  Testing Cost Final: 0.1745345569816395\n",
      "CPU times: user 570 ms, sys: 43 ms, total: 613 ms\n",
      "Wall time: 533 ms\n"
     ]
    }
   ],
   "source": [
    "%time linear_reg(_train, _test, feature_size=1, epochs=steps, learning_rate=learning_rate)"
   ]
  },
  {
   "cell_type": "code",
   "execution_count": 46,
   "metadata": {
    "colab": {
     "base_uri": "https://localhost:8080/",
     "height": 52
    },
    "colab_type": "code",
    "executionInfo": {
     "elapsed": 1293,
     "status": "ok",
     "timestamp": 1548934122573,
     "user": {
      "displayName": "Fazil B. Topal",
      "photoUrl": "https://lh4.googleusercontent.com/-IxiCh57ZfZI/AAAAAAAAAAI/AAAAAAAAAGg/HpcJn-cqYZk/s64/photo.jpg",
      "userId": "06988773581943736669"
     },
     "user_tz": -60
    },
    "hidden": true,
    "id": "i3moSV8hqqZZ",
    "outputId": "b99af2e9-2110-412e-ec37-14b7c708580f"
   },
   "outputs": [
    {
     "name": "stdout",
     "output_type": "stream",
     "text": [
      "Training Cost Final: 0.17222949879687607  Testing Cost Final: 0.17438799993362555\n",
      " "
     ]
    }
   ],
   "source": [
    "%prun linear_reg(_train, _test, feature_size=1, epochs=steps, learning_rate=learning_rate)"
   ]
  },
  {
   "cell_type": "markdown",
   "metadata": {
    "colab_type": "text",
    "hidden": true,
    "id": "BB5-uGOCgBJx"
   },
   "source": [
    "**Results**"
   ]
  },
  {
   "cell_type": "markdown",
   "metadata": {
    "colab_type": "text",
    "hidden": true,
    "id": "_QQ7TbhIgEAe"
   },
   "source": [
    "**Train Loss (RMSE)**: 0.172229  \n",
    "**Validation Loss(RMSE)**: 0.174387\n",
    "\n",
    "**%time**    \n",
    "CPU times: user 570 ms, sys: 43 ms, total: 613 ms\n",
    "Wall time: 533 ms\n",
    "\n",
    "**%prun**   \n",
    "258450 function calls (252521 primitive calls) in 0.645 seconds\n",
    "\n",
    "**%memit**   \n",
    "peak memory: 912.58 MiB, increment: 0.41 MiB\n",
    "\n",
    "**Model Parameters**  \n",
    "learning_rate = 0.02\n",
    "steps = 200  "
   ]
  },
  {
   "cell_type": "markdown",
   "metadata": {
    "colab_type": "text",
    "hidden": true,
    "id": "wh46kJZLf8Oy"
   },
   "source": [
    "**Linear Regression with Multiple Variable**"
   ]
  },
  {
   "cell_type": "code",
   "execution_count": 0,
   "metadata": {
    "colab": {},
    "colab_type": "code",
    "hidden": true,
    "id": "yzZ1o8Xlf-oS"
   },
   "outputs": [],
   "source": [
    "feature_columns = [\"households\", \"median_income\", \"rooms_per_person\", \"total_rooms\", \"housing_median_age\"]\n",
    "label = \"median_house_value\""
   ]
  },
  {
   "cell_type": "code",
   "execution_count": 0,
   "metadata": {
    "colab": {},
    "colab_type": "code",
    "hidden": true,
    "id": "l4i9er3MpeWs"
   },
   "outputs": [],
   "source": [
    "X_train = train[feature_columns].values\n",
    "Y_train = train[label].values.reshape(-1,1)\n",
    "X_test = test[feature_columns].values\n",
    "Y_test = test[label].values.reshape(-1,1)\n",
    "\n",
    "_train = {'x': X_train, 'y': Y_train}\n",
    "_test = {'x': X_test, 'y': Y_test}"
   ]
  },
  {
   "cell_type": "code",
   "execution_count": null,
   "metadata": {
    "hidden": true
   },
   "outputs": [],
   "source": [
    "linear_reg(_train, _test, feature_size=5, epochs=steps, learning_rate=learning_rate)"
   ]
  },
  {
   "cell_type": "code",
   "execution_count": 53,
   "metadata": {
    "colab": {
     "base_uri": "https://localhost:8080/",
     "height": 52
    },
    "colab_type": "code",
    "executionInfo": {
     "elapsed": 1565,
     "status": "ok",
     "timestamp": 1548934378529,
     "user": {
      "displayName": "Fazil B. Topal",
      "photoUrl": "https://lh4.googleusercontent.com/-IxiCh57ZfZI/AAAAAAAAAAI/AAAAAAAAAGg/HpcJn-cqYZk/s64/photo.jpg",
      "userId": "06988773581943736669"
     },
     "user_tz": -60
    },
    "hidden": true,
    "id": "2L981GIHrrmx",
    "outputId": "a5d6d4e1-b1d4-4c8e-ce36-a68e02f292ee",
    "scrolled": true
   },
   "outputs": [
    {
     "name": "stdout",
     "output_type": "stream",
     "text": [
      "Training Cost Final: 0.16296034105465065  Testing Cost Final: 0.1645281065761031\n",
      "peak memory: 912.59 MiB, increment: 0.01 MiB\n"
     ]
    }
   ],
   "source": [
    "%memit linear_reg(_train, _test, feature_size=5, epochs=steps, learning_rate=learning_rate)"
   ]
  },
  {
   "cell_type": "code",
   "execution_count": 54,
   "metadata": {
    "colab": {
     "base_uri": "https://localhost:8080/",
     "height": 69
    },
    "colab_type": "code",
    "executionInfo": {
     "elapsed": 1238,
     "status": "ok",
     "timestamp": 1548934380657,
     "user": {
      "displayName": "Fazil B. Topal",
      "photoUrl": "https://lh4.googleusercontent.com/-IxiCh57ZfZI/AAAAAAAAAAI/AAAAAAAAAGg/HpcJn-cqYZk/s64/photo.jpg",
      "userId": "06988773581943736669"
     },
     "user_tz": -60
    },
    "hidden": true,
    "id": "3U8rDM0WpfvQ",
    "outputId": "358f61c9-0413-453c-a5fe-e4e40b467f7c"
   },
   "outputs": [
    {
     "name": "stdout",
     "output_type": "stream",
     "text": [
      "Training Cost Final: 0.17375238247136757  Testing Cost Final: 0.17382207602788013\n",
      "CPU times: user 678 ms, sys: 65.6 ms, total: 744 ms\n",
      "Wall time: 673 ms\n"
     ]
    }
   ],
   "source": [
    "%time linear_reg(_train, _test, feature_size=5, epochs=steps, learning_rate=learning_rate)"
   ]
  },
  {
   "cell_type": "code",
   "execution_count": 55,
   "metadata": {
    "colab": {
     "base_uri": "https://localhost:8080/",
     "height": 52
    },
    "colab_type": "code",
    "executionInfo": {
     "elapsed": 1441,
     "status": "ok",
     "timestamp": 1548934383141,
     "user": {
      "displayName": "Fazil B. Topal",
      "photoUrl": "https://lh4.googleusercontent.com/-IxiCh57ZfZI/AAAAAAAAAAI/AAAAAAAAAGg/HpcJn-cqYZk/s64/photo.jpg",
      "userId": "06988773581943736669"
     },
     "user_tz": -60
    },
    "hidden": true,
    "id": "A5EtI6_LrrWZ",
    "outputId": "a57603ea-e9f7-4b3d-d588-81c620005511"
   },
   "outputs": [
    {
     "name": "stdout",
     "output_type": "stream",
     "text": [
      "Training Cost Final: 0.16307964427021374  Testing Cost Final: 0.16496588986564548\n",
      " "
     ]
    }
   ],
   "source": [
    "%prun linear_reg(_train, _test, feature_size=5, epochs=steps, learning_rate=learning_rate)"
   ]
  },
  {
   "cell_type": "markdown",
   "metadata": {
    "colab_type": "text",
    "hidden": true,
    "id": "ioBH5oYPgFJc"
   },
   "source": [
    "**Results** "
   ]
  },
  {
   "cell_type": "markdown",
   "metadata": {
    "colab_type": "text",
    "hidden": true,
    "id": "cXqNWqDagJ-6"
   },
   "source": [
    "**Train Loss (RMSE)**: 0.163079  \n",
    "**Validation Loss(RMSE)**: 0.164965\n",
    "\n",
    "**%time**    \n",
    "CPU times: user 678 ms, sys: 65.6 ms, total: 744 ms\n",
    "Wall time: 673 ms\n",
    "\n",
    "**%prun**   \n",
    " 267016 function calls (261206 primitive calls) in 0.796 seconds\n",
    "\n",
    "**%memit**   \n",
    "peak memory: 912.59 MiB, increment: 0.01 MiB\n",
    "\n",
    "**Model Parameters**  \n",
    "learning_rate = 0.02\n",
    "steps = 200  "
   ]
  },
  {
   "cell_type": "markdown",
   "metadata": {
    "colab_type": "text",
    "heading_collapsed": true,
    "id": "vxnnJx0YKMKo"
   },
   "source": [
    "### Neural Network High Level API"
   ]
  },
  {
   "cell_type": "markdown",
   "metadata": {
    "colab_type": "text",
    "hidden": true,
    "id": "dLmRW0s3KUiJ"
   },
   "source": [
    "**Model Parameters for NN**"
   ]
  },
  {
   "cell_type": "code",
   "execution_count": 0,
   "metadata": {
    "colab": {},
    "colab_type": "code",
    "hidden": true,
    "id": "zxw41kRyKQSr"
   },
   "outputs": [],
   "source": [
    "# Model Parameters\n",
    "learning_rate = 0.02\n",
    "steps = 200\n",
    "batch_size = 100\n",
    "hidden_units = [50,100,50]"
   ]
  },
  {
   "cell_type": "markdown",
   "metadata": {
    "colab_type": "text",
    "hidden": true,
    "id": "REEBIEXDKtDq"
   },
   "source": [
    "**Neural Networks** "
   ]
  },
  {
   "cell_type": "code",
   "execution_count": 0,
   "metadata": {
    "colab": {},
    "colab_type": "code",
    "hidden": true,
    "id": "DEhMZweZKuxm"
   },
   "outputs": [],
   "source": [
    "feature_columns = [\"households\", \"median_income\", \"rooms_per_person\", \"total_rooms\", \"housing_median_age\"]\n",
    "label = \"median_house_value\"\n",
    "\n",
    "# Input functions\n",
    "train_input = pandas_fn(train, train[label], features=feature_columns, batch_size=batch_size)\n",
    "test_input = pandas_fn(train, train[label], features=feature_columns, batch_size=1, shuffle=False, num_epochs=1)\n",
    "predict_input = pandas_fn(test, test[label], features=feature_columns, batch_size=1, shuffle=False, num_epochs=1)\n",
    "\n",
    "fns = {'train': train_input, 'test': test_input, 'predict': predict_input}\n",
    "fn_labels = {'train': train[label], 'test': test[label]}"
   ]
  },
  {
   "cell_type": "code",
   "execution_count": null,
   "metadata": {
    "hidden": true
   },
   "outputs": [],
   "source": [
    "neural_estimator(fn_labels, fns, feature_columns, learning_rate, steps, hidden_units=hidden_units)"
   ]
  },
  {
   "cell_type": "code",
   "execution_count": 59,
   "metadata": {
    "colab": {
     "base_uri": "https://localhost:8080/",
     "height": 121
    },
    "colab_type": "code",
    "executionInfo": {
     "elapsed": 62305,
     "status": "ok",
     "timestamp": 1548934875669,
     "user": {
      "displayName": "Fazil B. Topal",
      "photoUrl": "https://lh4.googleusercontent.com/-IxiCh57ZfZI/AAAAAAAAAAI/AAAAAAAAAGg/HpcJn-cqYZk/s64/photo.jpg",
      "userId": "06988773581943736669"
     },
     "user_tz": -60
    },
    "hidden": true,
    "id": "bYb60eZvLQ4F",
    "outputId": "79d8aba7-600c-4d08-bc6e-fef8673e82d0"
   },
   "outputs": [
    {
     "name": "stdout",
     "output_type": "stream",
     "text": [
      "WARNING:tensorflow:Using temporary folder as model directory: /tmp/tmpi7b41kk8\n",
      "Printing Eval Results....\n",
      " {'average_loss': 0.02612773, 'label/mean': 0.3967738, 'loss': 0.02612773, 'prediction/mean': 0.44244486, 'global_step': 200}\n",
      "  Loss for Train: 0.161641\n",
      "  Loss for Test: 0.162671\n",
      "peak memory: 942.11 MiB, increment: 10.61 MiB\n"
     ]
    }
   ],
   "source": [
    "%memit neural_estimator(fn_labels, fns, feature_columns, learning_rate, steps, hidden_units=hidden_units, quiet=True)"
   ]
  },
  {
   "cell_type": "code",
   "execution_count": 60,
   "metadata": {
    "colab": {
     "base_uri": "https://localhost:8080/",
     "height": 139
    },
    "colab_type": "code",
    "executionInfo": {
     "elapsed": 62573,
     "status": "ok",
     "timestamp": 1548934943213,
     "user": {
      "displayName": "Fazil B. Topal",
      "photoUrl": "https://lh4.googleusercontent.com/-IxiCh57ZfZI/AAAAAAAAAAI/AAAAAAAAAGg/HpcJn-cqYZk/s64/photo.jpg",
      "userId": "06988773581943736669"
     },
     "user_tz": -60
    },
    "hidden": true,
    "id": "1zUZsMElLmxH",
    "outputId": "8993e3b0-7021-402f-c701-b822dbb0c79b"
   },
   "outputs": [
    {
     "name": "stdout",
     "output_type": "stream",
     "text": [
      "WARNING:tensorflow:Using temporary folder as model directory: /tmp/tmp3at44c05\n",
      "Printing Eval Results....\n",
      " {'average_loss': 0.023642309, 'label/mean': 0.3967738, 'loss': 0.023642309, 'prediction/mean': 0.39691144, 'global_step': 200}\n",
      "  Loss for Train: 0.153761\n",
      "  Loss for Test: 0.155472\n",
      "CPU times: user 1min 31s, sys: 11.4 s, total: 1min 42s\n",
      "Wall time: 1min 1s\n"
     ]
    }
   ],
   "source": [
    "%time neural_estimator(fn_labels, fns, feature_columns, learning_rate, steps, hidden_units=hidden_units, quiet=True)"
   ]
  },
  {
   "cell_type": "code",
   "execution_count": 61,
   "metadata": {
    "colab": {
     "base_uri": "https://localhost:8080/",
     "height": 121
    },
    "colab_type": "code",
    "executionInfo": {
     "elapsed": 66152,
     "status": "ok",
     "timestamp": 1548935014390,
     "user": {
      "displayName": "Fazil B. Topal",
      "photoUrl": "https://lh4.googleusercontent.com/-IxiCh57ZfZI/AAAAAAAAAAI/AAAAAAAAAGg/HpcJn-cqYZk/s64/photo.jpg",
      "userId": "06988773581943736669"
     },
     "user_tz": -60
    },
    "hidden": true,
    "id": "hX6MBAydLckU",
    "outputId": "99c76d79-35da-4611-d075-8409b4c7c5e8"
   },
   "outputs": [
    {
     "name": "stdout",
     "output_type": "stream",
     "text": [
      "WARNING:tensorflow:Using temporary folder as model directory: /tmp/tmp5p3luc4d\n",
      "Printing Eval Results....\n",
      " {'average_loss': 0.027109774, 'label/mean': 0.3967738, 'loss': 0.027109774, 'prediction/mean': 0.3498774, 'global_step': 200}\n",
      "  Loss for Train: 0.164650\n",
      "  Loss for Test: 0.165201\n",
      " "
     ]
    }
   ],
   "source": [
    "%prun neural_estimator(fn_labels, fns, feature_columns, learning_rate, steps, hidden_units=hidden_units, quiet=True)"
   ]
  },
  {
   "cell_type": "markdown",
   "metadata": {
    "colab_type": "text",
    "hidden": true,
    "id": "_bRBwIEqKvVb"
   },
   "source": [
    "**Results**"
   ]
  },
  {
   "cell_type": "markdown",
   "metadata": {
    "colab_type": "text",
    "hidden": true,
    "id": "0so6R-aWL-dX"
   },
   "source": [
    "**Train Loss (RMSE)**: 0.161641  \n",
    "**Validation Loss(RMSE)**: 0.162671 \n",
    "\n",
    "**%time**    \n",
    "CPU times: user 1min 31s, sys: 11.4 s, total: 1min 42s\n",
    "Wall time: 1min 1s\n",
    "\n",
    "**%prun**   \n",
    "7805976 function calls (7479011 primitive calls) in 65.189 seconds\n",
    "\n",
    "**%memit**   \n",
    "peak memory: 942.11 MiB, increment: 10.61 MiB\n",
    "\n",
    "**Model Parameters**  \n",
    "learning_rate = 0.02  \n",
    "steps = 100  \n",
    "batch_size = 100\n",
    "hidden_units = (50,100,50)"
   ]
  },
  {
   "cell_type": "markdown",
   "metadata": {
    "colab_type": "text",
    "heading_collapsed": true,
    "id": "5MVDOnbjEnSr"
   },
   "source": [
    "### Neural Networks Low Level API"
   ]
  },
  {
   "cell_type": "markdown",
   "metadata": {
    "colab_type": "text",
    "hidden": true,
    "id": "gNl7qMm54BuP"
   },
   "source": [
    "**Model Parameters for Neural Networks**"
   ]
  },
  {
   "cell_type": "code",
   "execution_count": 0,
   "metadata": {
    "colab": {},
    "colab_type": "code",
    "hidden": true,
    "id": "2sj9714w4IkV"
   },
   "outputs": [],
   "source": [
    "# Model Parameters\n",
    "learning_rate = 0.02\n",
    "steps = 200\n",
    "hidden_units=[50,100,50]"
   ]
  },
  {
   "cell_type": "markdown",
   "metadata": {
    "colab_type": "text",
    "hidden": true,
    "id": "J-qLhT3_BJmN"
   },
   "source": [
    "**Deep Neural Networks**"
   ]
  },
  {
   "cell_type": "code",
   "execution_count": 0,
   "metadata": {
    "colab": {},
    "colab_type": "code",
    "hidden": true,
    "id": "DPaGLau9SXwf"
   },
   "outputs": [],
   "source": [
    "# tf.reset_default_graph()"
   ]
  },
  {
   "cell_type": "code",
   "execution_count": 0,
   "metadata": {
    "colab": {},
    "colab_type": "code",
    "hidden": true,
    "id": "BPeUgBziBOBv"
   },
   "outputs": [],
   "source": [
    "feature_columns = [\"households\", \"median_income\", \"rooms_per_person\", \"total_rooms\", \"housing_median_age\"]\n",
    "label = \"median_house_value\""
   ]
  },
  {
   "cell_type": "code",
   "execution_count": 0,
   "metadata": {
    "colab": {},
    "colab_type": "code",
    "hidden": true,
    "id": "ynLU-WbMGFKu"
   },
   "outputs": [],
   "source": [
    "X_train = train[feature_columns].values\n",
    "Y_train = train[label].values.reshape(-1,1)\n",
    "X_test = test[feature_columns].values\n",
    "Y_test = test[label].values.reshape(-1,1)\n",
    "\n",
    "_train = {'x': X_train, 'y': Y_train}\n",
    "_test = {'x': X_test, 'y': Y_test}"
   ]
  },
  {
   "cell_type": "code",
   "execution_count": null,
   "metadata": {
    "hidden": true
   },
   "outputs": [],
   "source": [
    "neural_network(_train, _test, 5, layer_sizes=hidden_units, epochs=steps, output_size=1, learning_rate=learning_rate)"
   ]
  },
  {
   "cell_type": "code",
   "execution_count": 68,
   "metadata": {
    "colab": {
     "base_uri": "https://localhost:8080/",
     "height": 52
    },
    "colab_type": "code",
    "executionInfo": {
     "elapsed": 2257,
     "status": "ok",
     "timestamp": 1548935274351,
     "user": {
      "displayName": "Fazil B. Topal",
      "photoUrl": "https://lh4.googleusercontent.com/-IxiCh57ZfZI/AAAAAAAAAAI/AAAAAAAAAGg/HpcJn-cqYZk/s64/photo.jpg",
      "userId": "06988773581943736669"
     },
     "user_tz": -60
    },
    "hidden": true,
    "id": "ytI59ODWPbD4",
    "outputId": "9ce07d5c-bd3f-47d0-b658-d0a49901b073"
   },
   "outputs": [
    {
     "name": "stdout",
     "output_type": "stream",
     "text": [
      "Training Cost Final: 0.14193529067384011  Testing Cost Final: 0.1433433936979341\n",
      "peak memory: 976.52 MiB, increment: 0.02 MiB\n"
     ]
    }
   ],
   "source": [
    "%memit neural_network(_train, _test, 5, layer_sizes=hidden_units, epochs=steps, output_size=1, learning_rate=learning_rate)"
   ]
  },
  {
   "cell_type": "code",
   "execution_count": 70,
   "metadata": {
    "colab": {
     "base_uri": "https://localhost:8080/",
     "height": 69
    },
    "colab_type": "code",
    "executionInfo": {
     "elapsed": 1901,
     "status": "ok",
     "timestamp": 1548935282378,
     "user": {
      "displayName": "Fazil B. Topal",
      "photoUrl": "https://lh4.googleusercontent.com/-IxiCh57ZfZI/AAAAAAAAAAI/AAAAAAAAAGg/HpcJn-cqYZk/s64/photo.jpg",
      "userId": "06988773581943736669"
     },
     "user_tz": -60
    },
    "hidden": true,
    "id": "XbCj1xbkBWtD",
    "outputId": "1b71a7f8-b22a-443f-afc6-66554c97f679"
   },
   "outputs": [
    {
     "name": "stdout",
     "output_type": "stream",
     "text": [
      "Training Cost Final: 0.14091385209487187  Testing Cost Final: 0.14319152048295128\n",
      "CPU times: user 1.09 s, sys: 239 ms, total: 1.33 s\n",
      "Wall time: 1.31 s\n"
     ]
    }
   ],
   "source": [
    "%time neural_network(_train, _test, 5, layer_sizes=hidden_units, epochs=steps, output_size=1, learning_rate=learning_rate)"
   ]
  },
  {
   "cell_type": "code",
   "execution_count": 72,
   "metadata": {
    "colab": {
     "base_uri": "https://localhost:8080/",
     "height": 52
    },
    "colab_type": "code",
    "executionInfo": {
     "elapsed": 2071,
     "status": "ok",
     "timestamp": 1548935321696,
     "user": {
      "displayName": "Fazil B. Topal",
      "photoUrl": "https://lh4.googleusercontent.com/-IxiCh57ZfZI/AAAAAAAAAAI/AAAAAAAAAGg/HpcJn-cqYZk/s64/photo.jpg",
      "userId": "06988773581943736669"
     },
     "user_tz": -60
    },
    "hidden": true,
    "id": "wdcDdUJlBXCm",
    "outputId": "528a0972-2023-49fb-9cb9-8c2f83f10b09"
   },
   "outputs": [
    {
     "name": "stdout",
     "output_type": "stream",
     "text": [
      "Training Cost Final: 0.14604747467717816  Testing Cost Final: 0.14767921158209849\n",
      " "
     ]
    }
   ],
   "source": [
    "%prun neural_network(_train, _test, 5, layer_sizes=hidden_units, epochs=steps, output_size=1, learning_rate=learning_rate)"
   ]
  },
  {
   "cell_type": "markdown",
   "metadata": {
    "colab_type": "text",
    "hidden": true,
    "id": "ab5gFtXC57g0"
   },
   "source": [
    "**Neural Networks Results**"
   ]
  },
  {
   "cell_type": "markdown",
   "metadata": {
    "colab_type": "text",
    "hidden": true,
    "id": "gHf4MTmV61RM"
   },
   "source": [
    "**Train Loss (RMSE)**: 0.146047  \n",
    "**Validation Loss(RMSE)**: 0.146792 \n",
    "\n",
    "**%time**    \n",
    "CPU times: user 1.09 s, sys: 239 ms, total: 1.33 s\n",
    "Wall time: 1.31 s\n",
    "\n",
    "**%prun**   \n",
    " 366335 function calls (355564 primitive calls) in 1.328 seconds\n",
    "\n",
    "**%memit**   \n",
    "peak memory: 976.52 MiB, increment: 0.02 MiB\n",
    "\n",
    "**Model Parameters**  \n",
    "learning_rate = 0.02  \n",
    "steps = 100  \n",
    "batch_size = 100\n",
    "hidden_units = (50,100,50)"
   ]
  }
 ],
 "metadata": {
  "accelerator": "GPU",
  "colab": {
   "collapsed_sections": [
    "r8_8lCmkm8sG",
    "0dn7lq94nBA8",
    "ldmE-Nc0nFVO",
    "DER15wQQnOb5",
    "WoQPpKdpoQVy",
    "zOr3KCHSOG8E",
    "-uLjGbuQMoeY",
    "nu_5hqN7dffr",
    "dp17nep4EwM1",
    "ptujZnR3OKUe",
    "4WfPKCkkEfm2",
    "6no9vwrdRd9p",
    "9GPQb6GSGTcA",
    "5ppMIdeh6-tN",
    "vt4sHMwDTCyP",
    "65wdm7lB7GWK",
    "3zADf50fKLuI",
    "ksaTYJr5fxof",
    "j5zHCPrNf3Lg",
    "BB5-uGOCgBJx",
    "wh46kJZLf8Oy",
    "ioBH5oYPgFJc",
    "vxnnJx0YKMKo",
    "dLmRW0s3KUiJ",
    "REEBIEXDKtDq",
    "_bRBwIEqKvVb",
    "5MVDOnbjEnSr",
    "gNl7qMm54BuP",
    "J-qLhT3_BJmN",
    "ab5gFtXC57g0"
   ],
   "name": "TF-Regression.ipynb",
   "provenance": [],
   "version": "0.3.2"
  },
  "kernelspec": {
   "display_name": "Python 3",
   "language": "python",
   "name": "python3"
  },
  "language_info": {
   "codemirror_mode": {
    "name": "ipython",
    "version": 3
   },
   "file_extension": ".py",
   "mimetype": "text/x-python",
   "name": "python",
   "nbconvert_exporter": "python",
   "pygments_lexer": "ipython3",
   "version": "3.6.8"
  },
  "toc": {
   "base_numbering": 1,
   "nav_menu": {},
   "number_sections": true,
   "sideBar": true,
   "skip_h1_title": false,
   "title_cell": "Table of Contents",
   "title_sidebar": "Contents",
   "toc_cell": false,
   "toc_position": {},
   "toc_section_display": true,
   "toc_window_display": false
  },
  "varInspector": {
   "cols": {
    "lenName": 16,
    "lenType": 16,
    "lenVar": 40
   },
   "kernels_config": {
    "python": {
     "delete_cmd_postfix": "",
     "delete_cmd_prefix": "del ",
     "library": "var_list.py",
     "varRefreshCmd": "print(var_dic_list())"
    },
    "r": {
     "delete_cmd_postfix": ") ",
     "delete_cmd_prefix": "rm(",
     "library": "var_list.r",
     "varRefreshCmd": "cat(var_dic_list()) "
    }
   },
   "types_to_exclude": [
    "module",
    "function",
    "builtin_function_or_method",
    "instance",
    "_Feature"
   ],
   "window_display": false
  }
 },
 "nbformat": 4,
 "nbformat_minor": 1
}
