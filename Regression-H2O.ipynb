{
 "cells": [
  {
   "cell_type": "markdown",
   "metadata": {
    "colab_type": "text",
    "id": "YoBW67akSLYg"
   },
   "source": [
    "# California Housing Data Frame"
   ]
  },
  {
   "cell_type": "markdown",
   "metadata": {
    "colab_type": "text",
    "id": "07pVVZyaxnSM"
   },
   "source": [
    "## Import Libraries"
   ]
  },
  {
   "cell_type": "code",
   "execution_count": 0,
   "metadata": {
    "colab": {
     "base_uri": "https://localhost:8080/",
     "height": 191
    },
    "colab_type": "code",
    "executionInfo": {
     "elapsed": 12284,
     "status": "ok",
     "timestamp": 1549354363568,
     "user": {
      "displayName": "Fazil B. Topal",
      "photoUrl": "https://lh4.googleusercontent.com/-IxiCh57ZfZI/AAAAAAAAAAI/AAAAAAAAAGg/HpcJn-cqYZk/s64/photo.jpg",
      "userId": "06988773581943736669"
     },
     "user_tz": -60
    },
    "id": "BSFgruQlSAsB",
    "outputId": "ea6a711d-5f19-4e11-a060-7508e07bde84"
   },
   "outputs": [
    {
     "name": "stdout",
     "output_type": "stream",
     "text": [
      "Collecting memory_profiler\n",
      "\u001b[?25l  Downloading https://files.pythonhosted.org/packages/9f/fe/1fca7273dd111108f204a686b12a12b6422d405fe4614087aa7d5a66ea87/memory_profiler-0.55.0.tar.gz (40kB)\n",
      "\u001b[K    100% |████████████████████████████████| 40kB 3.2MB/s \n",
      "\u001b[?25hRequirement already satisfied: psutil in /usr/local/lib/python3.6/dist-packages (from memory_profiler) (5.4.8)\n",
      "Building wheels for collected packages: memory-profiler\n",
      "  Building wheel for memory-profiler (setup.py) ... \u001b[?25ldone\n",
      "\u001b[?25h  Stored in directory: /root/.cache/pip/wheels/f0/ff/63/fdbff3f1e1b76ad4eae491dd5b190902906b093e93eb86dd5a\n",
      "Successfully built memory-profiler\n",
      "Installing collected packages: memory-profiler\n",
      "Successfully installed memory-profiler-0.55.0\n"
     ]
    }
   ],
   "source": [
    "! pip install memory_profiler"
   ]
  },
  {
   "cell_type": "code",
   "execution_count": 0,
   "metadata": {
    "colab": {},
    "colab_type": "code",
    "id": "EgMK78qeSJdf"
   },
   "outputs": [],
   "source": [
    "%load_ext memory_profiler"
   ]
  },
  {
   "cell_type": "code",
   "execution_count": 0,
   "metadata": {
    "colab": {
     "base_uri": "https://localhost:8080/",
     "height": 486
    },
    "colab_type": "code",
    "executionInfo": {
     "elapsed": 40025,
     "status": "ok",
     "timestamp": 1549354391352,
     "user": {
      "displayName": "Fazil B. Topal",
      "photoUrl": "https://lh4.googleusercontent.com/-IxiCh57ZfZI/AAAAAAAAAAI/AAAAAAAAAGg/HpcJn-cqYZk/s64/photo.jpg",
      "userId": "06988773581943736669"
     },
     "user_tz": -60
    },
    "id": "KwsdoT87W0D5",
    "outputId": "88dc8705-547c-4f09-b636-270c82c95d35"
   },
   "outputs": [
    {
     "name": "stdout",
     "output_type": "stream",
     "text": [
      "Reading package lists... Done\n",
      "Building dependency tree       \n",
      "Reading state information... Done\n",
      "default-jre is already the newest version (2:1.10-63ubuntu1~02).\n",
      "default-jre set to manually installed.\n",
      "0 upgraded, 0 newly installed, 0 to remove and 4 not upgraded.\n",
      "openjdk version \"10.0.2\" 2018-07-17\n",
      "OpenJDK Runtime Environment (build 10.0.2+13-Ubuntu-1ubuntu0.18.04.4)\n",
      "OpenJDK 64-Bit Server VM (build 10.0.2+13-Ubuntu-1ubuntu0.18.04.4, mixed mode)\n",
      "Collecting h2o\n",
      "\u001b[?25l  Downloading https://files.pythonhosted.org/packages/2a/00/87db2f4c0a8797c0eddb122b7d99b6a007e59659b2eebf027ef28b75e2ce/h2o-3.22.1.3.tar.gz (120.9MB)\n",
      "\u001b[K    100% |████████████████████████████████| 120.9MB 188kB/s \n",
      "\u001b[?25hRequirement already satisfied: requests in /usr/local/lib/python3.6/dist-packages (from h2o) (2.18.4)\n",
      "Requirement already satisfied: tabulate in /usr/local/lib/python3.6/dist-packages (from h2o) (0.8.3)\n",
      "Requirement already satisfied: future in /usr/local/lib/python3.6/dist-packages (from h2o) (0.16.0)\n",
      "Collecting colorama>=0.3.8 (from h2o)\n",
      "  Downloading https://files.pythonhosted.org/packages/4f/a6/728666f39bfff1719fc94c481890b2106837da9318031f71a8424b662e12/colorama-0.4.1-py2.py3-none-any.whl\n",
      "Requirement already satisfied: idna<2.7,>=2.5 in /usr/local/lib/python3.6/dist-packages (from requests->h2o) (2.6)\n",
      "Requirement already satisfied: urllib3<1.23,>=1.21.1 in /usr/local/lib/python3.6/dist-packages (from requests->h2o) (1.22)\n",
      "Requirement already satisfied: certifi>=2017.4.17 in /usr/local/lib/python3.6/dist-packages (from requests->h2o) (2018.11.29)\n",
      "Requirement already satisfied: chardet<3.1.0,>=3.0.2 in /usr/local/lib/python3.6/dist-packages (from requests->h2o) (3.0.4)\n",
      "Building wheels for collected packages: h2o\n",
      "  Building wheel for h2o (setup.py) ... \u001b[?25ldone\n",
      "\u001b[?25h  Stored in directory: /root/.cache/pip/wheels/5e/0b/27/9eb72d708a3e7d1780ba296cf50b165d6d7a8ba6638915d7fe\n",
      "Successfully built h2o\n",
      "Installing collected packages: colorama, h2o\n",
      "Successfully installed colorama-0.4.1 h2o-3.22.1.3\n"
     ]
    }
   ],
   "source": [
    "! apt-get install default-jre\n",
    "! java -version\n",
    "! pip install h2o"
   ]
  },
  {
   "cell_type": "code",
   "execution_count": 0,
   "metadata": {
    "colab": {},
    "colab_type": "code",
    "id": "JM4QdkDxSQsF"
   },
   "outputs": [],
   "source": [
    "from IPython import display\n",
    "import h2o\n",
    "from sklearn.preprocessing import MinMaxScaler\n",
    "from h2o.estimators.glm import H2OGeneralizedLinearEstimator\n",
    "from h2o.estimators.deeplearning import H2ODeepLearningEstimator\n",
    "\n",
    "# Pretty Display of Variables\n",
    "from IPython.core.interactiveshell import InteractiveShell\n",
    "InteractiveShell.ast_node_interactivity = \"all\""
   ]
  },
  {
   "cell_type": "code",
   "execution_count": 0,
   "metadata": {
    "colab": {},
    "colab_type": "code",
    "id": "G9z1LDPLaqd7"
   },
   "outputs": [],
   "source": [
    "def process_california_data(ratios=[0.8, 0.1]):\n",
    "    \"\"\" Downloads the california housing dataset, preprocess the data and splits it.\n",
    "    Args:\n",
    "        ratio: Split ratio. Default is 0.8\n",
    "    \n",
    "    \"\"\"\n",
    "\n",
    "    print('Downloading data from web..')\n",
    "    # Load training & test data set.\n",
    "    train_df = h2o.import_file(\"https://download.mlcc.google.com/mledu-datasets/california_housing_train.csv\", sep=\",\")\n",
    "    test_df = h2o.import_file(\"https://download.mlcc.google.com/mledu-datasets/california_housing_test.csv\", sep=\",\")\n",
    "\n",
    "    print('Merging data..')\n",
    "    # Merge data\n",
    "    df = train_df.rbind(test_df)\n",
    "    \n",
    "    print('Creating a synthetic feature..')\n",
    "    # Create a synthetic feature.\n",
    "    df[\"rooms_per_person\"] = df[\"total_rooms\"] / df[\"population\"]\n",
    "    \n",
    "    # Scale the huge value columns\n",
    "    df[\"median_house_value\"] = df[\"median_house_value\"] / 1000 \n",
    "\n",
    "    # TODO heatmap and scaling\n",
    "    # print('Heatmap of our data..')\n",
    "    # sample = df.sample(n=500)\n",
    "    # sns.heatmap(\n",
    "    #     sample.corr(), \n",
    "    #     xticklabels=sample.columns.values,\n",
    "    #     yticklabels=sample.columns.values,\n",
    "    #     fmt=\".2f\",\n",
    "    #     annot=True\n",
    "    # )\n",
    "    # print('Scaling the data between 0-1..')\n",
    "    # Scale the data between 0-1\n",
    "    # scaler = MinMaxScaler(feature_range=(0,1))\n",
    "    # scale_columns = list(df.columns[2:])\n",
    "    # scaled = df.copy()\n",
    "    # scaled[scale_columns] = scaler.fit_transform(df[scale_columns])\n",
    "    # print(\"Data was multiplied by {:.6f} and added {:.4f}\".format(scaler.scale_[0], scaler.min_[0]))\n",
    "\n",
    "\n",
    "    print('Splitting train & test frames..')\n",
    "    # Split\n",
    "    train, test,val = housing_df.split_frame(ratios=ratios, seed=1234)\n",
    "\n",
    "    return train, test, val"
   ]
  },
  {
   "cell_type": "code",
   "execution_count": 3,
   "metadata": {
    "colab": {
     "base_uri": "https://localhost:8080/",
     "height": 378
    },
    "colab_type": "code",
    "executionInfo": {
     "elapsed": 584,
     "status": "ok",
     "timestamp": 1549458298679,
     "user": {
      "displayName": "Fazil B. Topal",
      "photoUrl": "https://lh4.googleusercontent.com/-IxiCh57ZfZI/AAAAAAAAAAI/AAAAAAAAAGg/HpcJn-cqYZk/s64/photo.jpg",
      "userId": "06988773581943736669"
     },
     "user_tz": -60
    },
    "id": "5vflTnFEdRTR",
    "outputId": "4a9a4a82-50ee-4005-9d3d-3329b06e7d78"
   },
   "outputs": [
    {
     "name": "stdout",
     "output_type": "stream",
     "text": [
      "Checking whether there is an H2O instance running at http://localhost:54321. connected.\n"
     ]
    },
    {
     "data": {
      "text/html": [
       "<div style=\"overflow:auto\"><table style=\"width:50%\"><tr><td>H2O cluster uptime:</td>\n",
       "<td>1 hour 11 mins</td></tr>\n",
       "<tr><td>H2O cluster timezone:</td>\n",
       "<td>Etc/UTC</td></tr>\n",
       "<tr><td>H2O data parsing timezone:</td>\n",
       "<td>UTC</td></tr>\n",
       "<tr><td>H2O cluster version:</td>\n",
       "<td>3.22.1.3</td></tr>\n",
       "<tr><td>H2O cluster version age:</td>\n",
       "<td>11 days </td></tr>\n",
       "<tr><td>H2O cluster name:</td>\n",
       "<td>H2O_from_python_unknownUser_5650ob</td></tr>\n",
       "<tr><td>H2O cluster total nodes:</td>\n",
       "<td>1</td></tr>\n",
       "<tr><td>H2O cluster free memory:</td>\n",
       "<td>3.999 Gb</td></tr>\n",
       "<tr><td>H2O cluster total cores:</td>\n",
       "<td>2</td></tr>\n",
       "<tr><td>H2O cluster allowed cores:</td>\n",
       "<td>2</td></tr>\n",
       "<tr><td>H2O cluster status:</td>\n",
       "<td>locked, healthy</td></tr>\n",
       "<tr><td>H2O connection url:</td>\n",
       "<td>http://localhost:54321</td></tr>\n",
       "<tr><td>H2O connection proxy:</td>\n",
       "<td>None</td></tr>\n",
       "<tr><td>H2O internal security:</td>\n",
       "<td>False</td></tr>\n",
       "<tr><td>H2O API Extensions:</td>\n",
       "<td>XGBoost, Algos, AutoML, Core V3, Core V4</td></tr>\n",
       "<tr><td>Python version:</td>\n",
       "<td>3.6.7 final</td></tr></table></div>"
      ],
      "text/plain": [
       "--------------------------  ----------------------------------------\n",
       "H2O cluster uptime:         1 hour 11 mins\n",
       "H2O cluster timezone:       Etc/UTC\n",
       "H2O data parsing timezone:  UTC\n",
       "H2O cluster version:        3.22.1.3\n",
       "H2O cluster version age:    11 days\n",
       "H2O cluster name:           H2O_from_python_unknownUser_5650ob\n",
       "H2O cluster total nodes:    1\n",
       "H2O cluster free memory:    3.999 Gb\n",
       "H2O cluster total cores:    2\n",
       "H2O cluster allowed cores:  2\n",
       "H2O cluster status:         locked, healthy\n",
       "H2O connection url:         http://localhost:54321\n",
       "H2O connection proxy:\n",
       "H2O internal security:      False\n",
       "H2O API Extensions:         XGBoost, Algos, AutoML, Core V3, Core V4\n",
       "Python version:             3.6.7 final\n",
       "--------------------------  ----------------------------------------"
      ]
     },
     "metadata": {
      "tags": []
     },
     "output_type": "display_data"
    }
   ],
   "source": [
    "# Init h2o\n",
    "h2o.init(max_mem_size=\"4G\")"
   ]
  },
  {
   "cell_type": "code",
   "execution_count": 0,
   "metadata": {
    "colab": {},
    "colab_type": "code",
    "id": "TmEPqhfpSSeE"
   },
   "outputs": [],
   "source": [
    "train, test, val = process_california_data()"
   ]
  },
  {
   "cell_type": "code",
   "execution_count": 7,
   "metadata": {
    "colab": {
     "base_uri": "https://localhost:8080/",
     "height": 254
    },
    "colab_type": "code",
    "executionInfo": {
     "elapsed": 608,
     "status": "ok",
     "timestamp": 1549458306773,
     "user": {
      "displayName": "Fazil B. Topal",
      "photoUrl": "https://lh4.googleusercontent.com/-IxiCh57ZfZI/AAAAAAAAAAI/AAAAAAAAAGg/HpcJn-cqYZk/s64/photo.jpg",
      "userId": "06988773581943736669"
     },
     "user_tz": -60
    },
    "id": "stzmSviSSSto",
    "outputId": "7bf1fd05-2a0a-4b51-d891-332acbb12a7b"
   },
   "outputs": [
    {
     "data": {
      "text/html": [
       "<table>\n",
       "<thead>\n",
       "<tr><th style=\"text-align: right;\">  longitude</th><th style=\"text-align: right;\">  latitude</th><th style=\"text-align: right;\">  housing_median_age</th><th style=\"text-align: right;\">  total_rooms</th><th style=\"text-align: right;\">  total_bedrooms</th><th style=\"text-align: right;\">  population</th><th style=\"text-align: right;\">  households</th><th style=\"text-align: right;\">  median_income</th><th style=\"text-align: right;\">  median_house_value</th><th style=\"text-align: right;\">  rooms_per_person</th></tr>\n",
       "</thead>\n",
       "<tbody>\n",
       "<tr><td style=\"text-align: right;\">    -114.31</td><td style=\"text-align: right;\">     34.19</td><td style=\"text-align: right;\">                  15</td><td style=\"text-align: right;\">         5612</td><td style=\"text-align: right;\">            1283</td><td style=\"text-align: right;\">        1015</td><td style=\"text-align: right;\">         472</td><td style=\"text-align: right;\">         1.4936</td><td style=\"text-align: right;\">                66.9</td><td style=\"text-align: right;\">           5.52906</td></tr>\n",
       "<tr><td style=\"text-align: right;\">    -114.47</td><td style=\"text-align: right;\">     34.4 </td><td style=\"text-align: right;\">                  19</td><td style=\"text-align: right;\">         7650</td><td style=\"text-align: right;\">            1901</td><td style=\"text-align: right;\">        1129</td><td style=\"text-align: right;\">         463</td><td style=\"text-align: right;\">         1.82  </td><td style=\"text-align: right;\">                80.1</td><td style=\"text-align: right;\">           6.77591</td></tr>\n",
       "<tr><td style=\"text-align: right;\">    -114.56</td><td style=\"text-align: right;\">     33.69</td><td style=\"text-align: right;\">                  17</td><td style=\"text-align: right;\">          720</td><td style=\"text-align: right;\">             174</td><td style=\"text-align: right;\">         333</td><td style=\"text-align: right;\">         117</td><td style=\"text-align: right;\">         1.6509</td><td style=\"text-align: right;\">                85.7</td><td style=\"text-align: right;\">           2.16216</td></tr>\n",
       "<tr><td style=\"text-align: right;\">    -114.57</td><td style=\"text-align: right;\">     33.57</td><td style=\"text-align: right;\">                  20</td><td style=\"text-align: right;\">         1454</td><td style=\"text-align: right;\">             326</td><td style=\"text-align: right;\">         624</td><td style=\"text-align: right;\">         262</td><td style=\"text-align: right;\">         1.925 </td><td style=\"text-align: right;\">                65.5</td><td style=\"text-align: right;\">           2.33013</td></tr>\n",
       "<tr><td style=\"text-align: right;\">    -114.58</td><td style=\"text-align: right;\">     33.63</td><td style=\"text-align: right;\">                  29</td><td style=\"text-align: right;\">         1387</td><td style=\"text-align: right;\">             236</td><td style=\"text-align: right;\">         671</td><td style=\"text-align: right;\">         239</td><td style=\"text-align: right;\">         3.3438</td><td style=\"text-align: right;\">                74  </td><td style=\"text-align: right;\">           2.06706</td></tr>\n",
       "<tr><td style=\"text-align: right;\">    -114.58</td><td style=\"text-align: right;\">     33.61</td><td style=\"text-align: right;\">                  25</td><td style=\"text-align: right;\">         2907</td><td style=\"text-align: right;\">             680</td><td style=\"text-align: right;\">        1841</td><td style=\"text-align: right;\">         633</td><td style=\"text-align: right;\">         2.6768</td><td style=\"text-align: right;\">                82.4</td><td style=\"text-align: right;\">           1.57903</td></tr>\n",
       "<tr><td style=\"text-align: right;\">    -114.59</td><td style=\"text-align: right;\">     34.83</td><td style=\"text-align: right;\">                  41</td><td style=\"text-align: right;\">          812</td><td style=\"text-align: right;\">             168</td><td style=\"text-align: right;\">         375</td><td style=\"text-align: right;\">         158</td><td style=\"text-align: right;\">         1.7083</td><td style=\"text-align: right;\">                48.5</td><td style=\"text-align: right;\">           2.16533</td></tr>\n",
       "<tr><td style=\"text-align: right;\">    -114.59</td><td style=\"text-align: right;\">     33.61</td><td style=\"text-align: right;\">                  34</td><td style=\"text-align: right;\">         4789</td><td style=\"text-align: right;\">            1175</td><td style=\"text-align: right;\">        3134</td><td style=\"text-align: right;\">        1056</td><td style=\"text-align: right;\">         2.1782</td><td style=\"text-align: right;\">                58.4</td><td style=\"text-align: right;\">           1.52808</td></tr>\n",
       "<tr><td style=\"text-align: right;\">    -114.6 </td><td style=\"text-align: right;\">     33.62</td><td style=\"text-align: right;\">                  16</td><td style=\"text-align: right;\">         3741</td><td style=\"text-align: right;\">             801</td><td style=\"text-align: right;\">        2434</td><td style=\"text-align: right;\">         824</td><td style=\"text-align: right;\">         2.6797</td><td style=\"text-align: right;\">                86.5</td><td style=\"text-align: right;\">           1.53698</td></tr>\n",
       "<tr><td style=\"text-align: right;\">    -114.6 </td><td style=\"text-align: right;\">     33.6 </td><td style=\"text-align: right;\">                  21</td><td style=\"text-align: right;\">         1988</td><td style=\"text-align: right;\">             483</td><td style=\"text-align: right;\">        1182</td><td style=\"text-align: right;\">         437</td><td style=\"text-align: right;\">         1.625 </td><td style=\"text-align: right;\">                62  </td><td style=\"text-align: right;\">           1.6819 </td></tr>\n",
       "</tbody>\n",
       "</table>"
      ]
     },
     "metadata": {
      "tags": []
     },
     "output_type": "display_data"
    },
    {
     "data": {
      "text/plain": []
     },
     "execution_count": 7,
     "metadata": {
      "tags": []
     },
     "output_type": "execute_result"
    }
   ],
   "source": [
    "train.head(10)"
   ]
  },
  {
   "cell_type": "code",
   "execution_count": 8,
   "metadata": {
    "colab": {
     "base_uri": "https://localhost:8080/",
     "height": 493
    },
    "colab_type": "code",
    "executionInfo": {
     "elapsed": 419,
     "status": "ok",
     "timestamp": 1549458307611,
     "user": {
      "displayName": "Fazil B. Topal",
      "photoUrl": "https://lh4.googleusercontent.com/-IxiCh57ZfZI/AAAAAAAAAAI/AAAAAAAAAGg/HpcJn-cqYZk/s64/photo.jpg",
      "userId": "06988773581943736669"
     },
     "user_tz": -60
    },
    "id": "HfsC2JtqSS9F",
    "outputId": "6a541f31-b86b-4795-a55a-4a4a0ec11c4b"
   },
   "outputs": [
    {
     "name": "stdout",
     "output_type": "stream",
     "text": [
      "Rows:13675\n",
      "Cols:10\n",
      "\n",
      "\n"
     ]
    },
    {
     "data": {
      "text/html": [
       "<table>\n",
       "<thead>\n",
       "<tr><th>       </th><th>longitude          </th><th>latitude         </th><th>housing_median_age  </th><th>total_rooms       </th><th>total_bedrooms   </th><th>population        </th><th>households        </th><th>median_income    </th><th>median_house_value  </th><th>rooms_per_person   </th></tr>\n",
       "</thead>\n",
       "<tbody>\n",
       "<tr><td>type   </td><td>real               </td><td>real             </td><td>int                 </td><td>int               </td><td>int              </td><td>int               </td><td>int               </td><td>real             </td><td>real                </td><td>real               </td></tr>\n",
       "<tr><td>mins   </td><td>-124.35            </td><td>32.54            </td><td>1.0                 </td><td>2.0               </td><td>1.0              </td><td>3.0               </td><td>1.0               </td><td>0.4999           </td><td>14.999              </td><td>0.06160540478644223</td></tr>\n",
       "<tr><td>mean   </td><td>-119.56514076782449</td><td>35.62287531992688</td><td>28.58925045703837   </td><td>2640.7539305301634</td><td>538.915831809872 </td><td>1429.366435100548 </td><td>500.90552102376597</td><td>3.885577447897624</td><td>207.52250522851926  </td><td>1.9727519004634642 </td></tr>\n",
       "<tr><td>maxs   </td><td>-114.31            </td><td>41.95            </td><td>52.0                </td><td>37937.0           </td><td>6445.0           </td><td>35682.0           </td><td>6082.0            </td><td>15.0001          </td><td>500.001             </td><td>55.22222222222222  </td></tr>\n",
       "<tr><td>sigma  </td><td>2.005470484006647  </td><td>2.134008320634275</td><td>12.540342446116682  </td><td>2184.3680094648566</td><td>422.2657120666202</td><td>1156.9706725351596</td><td>384.4741601721413 </td><td>1.910248644531606</td><td>116.19922215068665  </td><td>1.0811994347126375 </td></tr>\n",
       "<tr><td>zeros  </td><td>0                  </td><td>0                </td><td>0                   </td><td>0                 </td><td>0                </td><td>0                 </td><td>0                 </td><td>0                </td><td>0                   </td><td>0                  </td></tr>\n",
       "<tr><td>missing</td><td>0                  </td><td>0                </td><td>0                   </td><td>0                 </td><td>0                </td><td>0                 </td><td>0                 </td><td>0                </td><td>0                   </td><td>0                  </td></tr>\n",
       "<tr><td>0      </td><td>-114.31            </td><td>34.19            </td><td>15.0                </td><td>5612.0            </td><td>1283.0           </td><td>1015.0            </td><td>472.0             </td><td>1.4936           </td><td>66.9                </td><td>5.529064039408867  </td></tr>\n",
       "<tr><td>1      </td><td>-114.47            </td><td>34.4             </td><td>19.0                </td><td>7650.0            </td><td>1901.0           </td><td>1129.0            </td><td>463.0             </td><td>1.82             </td><td>80.1                </td><td>6.775907883082374  </td></tr>\n",
       "<tr><td>2      </td><td>-114.56            </td><td>33.69            </td><td>17.0                </td><td>720.0             </td><td>174.0            </td><td>333.0             </td><td>117.0             </td><td>1.6509           </td><td>85.7                </td><td>2.1621621621621623 </td></tr>\n",
       "<tr><td>3      </td><td>-114.57            </td><td>33.57            </td><td>20.0                </td><td>1454.0            </td><td>326.0            </td><td>624.0             </td><td>262.0             </td><td>1.925            </td><td>65.5                </td><td>2.3301282051282053 </td></tr>\n",
       "<tr><td>4      </td><td>-114.58            </td><td>33.63            </td><td>29.0                </td><td>1387.0            </td><td>236.0            </td><td>671.0             </td><td>239.0             </td><td>3.3438           </td><td>74.0                </td><td>2.067064083457526  </td></tr>\n",
       "<tr><td>5      </td><td>-114.58            </td><td>33.61            </td><td>25.0                </td><td>2907.0            </td><td>680.0            </td><td>1841.0            </td><td>633.0             </td><td>2.6768           </td><td>82.4                </td><td>1.579033134166214  </td></tr>\n",
       "<tr><td>6      </td><td>-114.59            </td><td>34.83            </td><td>41.0                </td><td>812.0             </td><td>168.0            </td><td>375.0             </td><td>158.0             </td><td>1.7083           </td><td>48.5                </td><td>2.1653333333333333 </td></tr>\n",
       "<tr><td>7      </td><td>-114.59            </td><td>33.61            </td><td>34.0                </td><td>4789.0            </td><td>1175.0           </td><td>3134.0            </td><td>1056.0            </td><td>2.1782           </td><td>58.4                </td><td>1.5280791320995533 </td></tr>\n",
       "<tr><td>8      </td><td>-114.6             </td><td>33.62            </td><td>16.0                </td><td>3741.0            </td><td>801.0            </td><td>2434.0            </td><td>824.0             </td><td>2.6797           </td><td>86.5                </td><td>1.5369761709120788 </td></tr>\n",
       "<tr><td>9      </td><td>-114.6             </td><td>33.6             </td><td>21.0                </td><td>1988.0            </td><td>483.0            </td><td>1182.0            </td><td>437.0             </td><td>1.625            </td><td>62.0                </td><td>1.6818950930626058 </td></tr>\n",
       "</tbody>\n",
       "</table>"
      ]
     },
     "metadata": {
      "tags": []
     },
     "output_type": "display_data"
    }
   ],
   "source": [
    "train.describe()"
   ]
  },
  {
   "cell_type": "markdown",
   "metadata": {
    "colab_type": "text",
    "id": "CXAHojUmhKc_"
   },
   "source": [
    "##  Linear Regression with One Variable"
   ]
  },
  {
   "cell_type": "code",
   "execution_count": 0,
   "metadata": {
    "colab": {},
    "colab_type": "code",
    "id": "e8YNDcqVSqEV"
   },
   "outputs": [],
   "source": [
    "feature_columns = [\"median_income\"]\n",
    "label = \"median_house_value\""
   ]
  },
  {
   "cell_type": "code",
   "execution_count": 0,
   "metadata": {
    "colab": {},
    "colab_type": "code",
    "id": "omDaGE0FSqRG"
   },
   "outputs": [],
   "source": [
    "# Model parameters\n",
    "model = H2OGeneralizedLinearEstimator(model_id=\"glm_v1\", family=\"gaussian\", solver=\"AUTO\")"
   ]
  },
  {
   "cell_type": "code",
   "execution_count": 0,
   "metadata": {
    "colab": {
     "base_uri": "https://localhost:8080/",
     "height": 34
    },
    "colab_type": "code",
    "executionInfo": {
     "elapsed": 1334,
     "status": "ok",
     "timestamp": 1549355224632,
     "user": {
      "displayName": "Fazil B. Topal",
      "photoUrl": "https://lh4.googleusercontent.com/-IxiCh57ZfZI/AAAAAAAAAAI/AAAAAAAAAGg/HpcJn-cqYZk/s64/photo.jpg",
      "userId": "06988773581943736669"
     },
     "user_tz": -60
    },
    "id": "uRiw94pEwP7P",
    "outputId": "3419c951-954c-4802-e5ae-023fd24544fd"
   },
   "outputs": [
    {
     "name": "stdout",
     "output_type": "stream",
     "text": [
      "glm Model Build progress: |███████████████████████████████████████████████| 100%\n"
     ]
    }
   ],
   "source": [
    "model.train(x=feature_columns, y=label, training_frame=train, validation_frame=val)"
   ]
  },
  {
   "cell_type": "code",
   "execution_count": 0,
   "metadata": {
    "colab": {
     "base_uri": "https://localhost:8080/",
     "height": 687
    },
    "colab_type": "code",
    "executionInfo": {
     "elapsed": 639,
     "status": "ok",
     "timestamp": 1549355233228,
     "user": {
      "displayName": "Fazil B. Topal",
      "photoUrl": "https://lh4.googleusercontent.com/-IxiCh57ZfZI/AAAAAAAAAAI/AAAAAAAAAGg/HpcJn-cqYZk/s64/photo.jpg",
      "userId": "06988773581943736669"
     },
     "user_tz": -60
    },
    "id": "OhPd7Y0HxKJt",
    "outputId": "3bf1f6aa-3ed7-4ea7-b2fc-e0ed951bc7e5",
    "scrolled": true
   },
   "outputs": [
    {
     "name": "stdout",
     "output_type": "stream",
     "text": [
      "Model Details\n",
      "=============\n",
      "H2OGeneralizedLinearEstimator :  Generalized Linear Modeling\n",
      "Model Key:  glm_v1\n",
      "\n",
      "\n",
      "ModelMetricsRegressionGLM: glm\n",
      "** Reported on train data. **\n",
      "\n",
      "MSE: 7018.543292972757\n",
      "RMSE: 83.77674673185129\n",
      "MAE: 62.99113694302462\n",
      "RMSLE: 0.42698214193133016\n",
      "R^2: 0.4801568863004617\n",
      "Mean Residual Deviance: 7018.543292972757\n",
      "Null degrees of freedom: 13674\n",
      "Residual degrees of freedom: 13673\n",
      "Null deviance: 184629895.06267542\n",
      "Residual deviance: 95978579.53140245\n",
      "AIC: 159924.02136184403\n",
      "\n",
      "ModelMetricsRegressionGLM: glm\n",
      "** Reported on validation data. **\n",
      "\n",
      "MSE: 7163.14474386002\n",
      "RMSE: 84.63536343550501\n",
      "MAE: 64.18785312737468\n",
      "RMSLE: 0.44132681824748626\n",
      "R^2: 0.4665983600889778\n",
      "Mean Residual Deviance: 7163.14474386002\n",
      "Null degrees of freedom: 1687\n",
      "Residual degrees of freedom: 1686\n",
      "Null deviance: 22668706.748815075\n",
      "Residual deviance: 12091388.327635713\n",
      "AIC: 19780.213470679246\n",
      "Scoring History: \n"
     ]
    },
    {
     "data": {
      "text/html": [
       "<div style=\"overflow:auto\"><table style=\"width:50%\"><tr><td><b></b></td>\n",
       "<td><b>timestamp</b></td>\n",
       "<td><b>duration</b></td>\n",
       "<td><b>iterations</b></td>\n",
       "<td><b>negative_log_likelihood</b></td>\n",
       "<td><b>objective</b></td></tr>\n",
       "<tr><td></td>\n",
       "<td>2019-02-05 08:27:03</td>\n",
       "<td> 0.000 sec</td>\n",
       "<td>0</td>\n",
       "<td>184629892.6894789</td>\n",
       "<td>13501.2718603</td></tr></table></div>"
      ],
      "text/plain": [
       "    timestamp            duration    iterations    negative_log_likelihood    objective\n",
       "--  -------------------  ----------  ------------  -------------------------  -----------\n",
       "    2019-02-05 08:27:03  0.000 sec   0             1.8463e+08                 13501.3"
      ]
     },
     "metadata": {
      "tags": []
     },
     "output_type": "display_data"
    },
    {
     "data": {
      "text/plain": []
     },
     "execution_count": 16,
     "metadata": {
      "tags": []
     },
     "output_type": "execute_result"
    }
   ],
   "source": [
    "model"
   ]
  },
  {
   "cell_type": "code",
   "execution_count": 0,
   "metadata": {
    "colab": {
     "base_uri": "https://localhost:8080/",
     "height": 52
    },
    "colab_type": "code",
    "executionInfo": {
     "elapsed": 908,
     "status": "ok",
     "timestamp": 1549356608809,
     "user": {
      "displayName": "Fazil B. Topal",
      "photoUrl": "https://lh4.googleusercontent.com/-IxiCh57ZfZI/AAAAAAAAAAI/AAAAAAAAAGg/HpcJn-cqYZk/s64/photo.jpg",
      "userId": "06988773581943736669"
     },
     "user_tz": -60
    },
    "id": "Kts9T0OASq0o",
    "outputId": "34884292-677c-4587-f5d3-c715b4a3dcae"
   },
   "outputs": [
    {
     "name": "stdout",
     "output_type": "stream",
     "text": [
      "glm Model Build progress: |███████████████████████████████████████████████| 100%\n",
      "peak memory: 152.80 MiB, increment: 0.01 MiB\n"
     ]
    }
   ],
   "source": [
    "%memit model.train(x=feature_columns, y=label, training_frame=train, validation_frame=val)"
   ]
  },
  {
   "cell_type": "code",
   "execution_count": 0,
   "metadata": {
    "colab": {
     "base_uri": "https://localhost:8080/",
     "height": 69
    },
    "colab_type": "code",
    "executionInfo": {
     "elapsed": 609,
     "status": "ok",
     "timestamp": 1549356618191,
     "user": {
      "displayName": "Fazil B. Topal",
      "photoUrl": "https://lh4.googleusercontent.com/-IxiCh57ZfZI/AAAAAAAAAAI/AAAAAAAAAGg/HpcJn-cqYZk/s64/photo.jpg",
      "userId": "06988773581943736669"
     },
     "user_tz": -60
    },
    "id": "5ImlZ1rESq_u",
    "outputId": "395d4a2c-3ddf-4318-c1bb-bbadaf539f47"
   },
   "outputs": [
    {
     "name": "stdout",
     "output_type": "stream",
     "text": [
      "glm Model Build progress: |███████████████████████████████████████████████| 100%\n",
      "CPU times: user 17.7 ms, sys: 4.34 ms, total: 22 ms\n",
      "Wall time: 258 ms\n"
     ]
    }
   ],
   "source": [
    "%time model.train(x=feature_columns, y=label, training_frame=train, validation_frame=val)"
   ]
  },
  {
   "cell_type": "code",
   "execution_count": 0,
   "metadata": {
    "colab": {
     "base_uri": "https://localhost:8080/",
     "height": 52
    },
    "colab_type": "code",
    "executionInfo": {
     "elapsed": 871,
     "status": "ok",
     "timestamp": 1549356622769,
     "user": {
      "displayName": "Fazil B. Topal",
      "photoUrl": "https://lh4.googleusercontent.com/-IxiCh57ZfZI/AAAAAAAAAAI/AAAAAAAAAGg/HpcJn-cqYZk/s64/photo.jpg",
      "userId": "06988773581943736669"
     },
     "user_tz": -60
    },
    "id": "WZofPcnL2Pmi",
    "outputId": "fce65657-90eb-4401-d39c-e012b8ab6e2b"
   },
   "outputs": [
    {
     "name": "stdout",
     "output_type": "stream",
     "text": [
      "glm Model Build progress: |███████████████████████████████████████████████| 100%\n",
      " "
     ]
    }
   ],
   "source": [
    "%prun model.train(x=feature_columns, y=label, training_frame=train, validation_frame=val)"
   ]
  },
  {
   "cell_type": "markdown",
   "metadata": {
    "colab_type": "text",
    "id": "r622OJiu2RnD"
   },
   "source": [
    "**Results**"
   ]
  },
  {
   "cell_type": "markdown",
   "metadata": {
    "colab_type": "text",
    "id": "UB3IZGI32YPe"
   },
   "source": [
    "\n",
    "**%memit**  \n",
    "peak memory: 152.80 MiB, increment: 0.01 MiB\n",
    "\n",
    "  \n",
    "**%time**  \n",
    "CPU times: user 17.7 ms, sys: 4.34 ms, total: 22 ms\n",
    "Wall time: 258 ms\n",
    "\n",
    "**%prun**  \n",
    "18131 function calls (17752 primitive calls) in 0.266 seconds"
   ]
  },
  {
   "cell_type": "markdown",
   "metadata": {
    "colab_type": "text",
    "id": "5naxEh1y3llu"
   },
   "source": [
    "## Linear Regression with Multiple Variables"
   ]
  },
  {
   "cell_type": "code",
   "execution_count": 0,
   "metadata": {
    "colab": {},
    "colab_type": "code",
    "id": "2p1s85gT2XvJ"
   },
   "outputs": [],
   "source": [
    "feature_columns = [\"median_income\", \"rooms_per_person\", \"total_rooms\", \"housing_median_age\"]\n",
    "label = \"median_house_value\""
   ]
  },
  {
   "cell_type": "code",
   "execution_count": 0,
   "metadata": {
    "colab": {},
    "colab_type": "code",
    "id": "Er81nGAu3uuw"
   },
   "outputs": [],
   "source": [
    "# Model parameters\n",
    "model = H2OGeneralizedLinearEstimator(model_id=\"glm_v2\", family=\"gaussian\", solver=\"AUTO\")"
   ]
  },
  {
   "cell_type": "code",
   "execution_count": 0,
   "metadata": {
    "colab": {
     "base_uri": "https://localhost:8080/",
     "height": 34
    },
    "colab_type": "code",
    "executionInfo": {
     "elapsed": 843,
     "status": "ok",
     "timestamp": 1549357142469,
     "user": {
      "displayName": "Fazil B. Topal",
      "photoUrl": "https://lh4.googleusercontent.com/-IxiCh57ZfZI/AAAAAAAAAAI/AAAAAAAAAGg/HpcJn-cqYZk/s64/photo.jpg",
      "userId": "06988773581943736669"
     },
     "user_tz": -60
    },
    "id": "-zyWeN8g3yGo",
    "outputId": "adefeeee-36f3-445f-f00d-6474cbe85e0f"
   },
   "outputs": [
    {
     "name": "stdout",
     "output_type": "stream",
     "text": [
      "glm Model Build progress: |███████████████████████████████████████████████| 100%\n"
     ]
    }
   ],
   "source": [
    "model.train(x=feature_columns, y=label, training_frame=train, validation_frame=val)"
   ]
  },
  {
   "cell_type": "code",
   "execution_count": 0,
   "metadata": {
    "colab": {
     "base_uri": "https://localhost:8080/",
     "height": 687
    },
    "colab_type": "code",
    "executionInfo": {
     "elapsed": 607,
     "status": "ok",
     "timestamp": 1549357144666,
     "user": {
      "displayName": "Fazil B. Topal",
      "photoUrl": "https://lh4.googleusercontent.com/-IxiCh57ZfZI/AAAAAAAAAAI/AAAAAAAAAGg/HpcJn-cqYZk/s64/photo.jpg",
      "userId": "06988773581943736669"
     },
     "user_tz": -60
    },
    "id": "mdHq9bSc318U",
    "outputId": "055f2eef-9e91-463e-a4a7-d911b5f86d22",
    "scrolled": true
   },
   "outputs": [
    {
     "name": "stdout",
     "output_type": "stream",
     "text": [
      "Model Details\n",
      "=============\n",
      "H2OGeneralizedLinearEstimator :  Generalized Linear Modeling\n",
      "Model Key:  glm_v2\n",
      "\n",
      "\n",
      "ModelMetricsRegressionGLM: glm\n",
      "** Reported on train data. **\n",
      "\n",
      "MSE: 6447.897148355625\n",
      "RMSE: 80.29879917131778\n",
      "MAE: 60.33878073578241\n",
      "RMSLE: 0.4178979782230026\n",
      "R^2: 0.5224229885749068\n",
      "Mean Residual Deviance: 6447.897148355625\n",
      "Null degrees of freedom: 13674\n",
      "Residual degrees of freedom: 13670\n",
      "Null deviance: 184629895.06267542\n",
      "Residual deviance: 88174993.50376317\n",
      "AIC: 158770.359013589\n",
      "\n",
      "ModelMetricsRegressionGLM: glm\n",
      "** Reported on validation data. **\n",
      "\n",
      "MSE: 6551.366488861443\n",
      "RMSE: 80.94051203730702\n",
      "MAE: 61.52839840428638\n",
      "RMSLE: 0.4320290912054075\n",
      "R^2: 0.5121542627192934\n",
      "Mean Residual Deviance: 6551.366488861443\n",
      "Null degrees of freedom: 1687\n",
      "Residual degrees of freedom: 1683\n",
      "Null deviance: 22668706.748815075\n",
      "Residual deviance: 11058706.633198116\n",
      "AIC: 19635.516523836184\n",
      "Scoring History: \n"
     ]
    },
    {
     "data": {
      "text/html": [
       "<div style=\"overflow:auto\"><table style=\"width:50%\"><tr><td><b></b></td>\n",
       "<td><b>timestamp</b></td>\n",
       "<td><b>duration</b></td>\n",
       "<td><b>iterations</b></td>\n",
       "<td><b>negative_log_likelihood</b></td>\n",
       "<td><b>objective</b></td></tr>\n",
       "<tr><td></td>\n",
       "<td>2019-02-05 08:59:01</td>\n",
       "<td> 0.000 sec</td>\n",
       "<td>0</td>\n",
       "<td>184629892.6894789</td>\n",
       "<td>13501.2718603</td></tr></table></div>"
      ],
      "text/plain": [
       "    timestamp            duration    iterations    negative_log_likelihood    objective\n",
       "--  -------------------  ----------  ------------  -------------------------  -----------\n",
       "    2019-02-05 08:59:01  0.000 sec   0             1.8463e+08                 13501.3"
      ]
     },
     "metadata": {
      "tags": []
     },
     "output_type": "display_data"
    },
    {
     "data": {
      "text/plain": []
     },
     "execution_count": 23,
     "metadata": {
      "tags": []
     },
     "output_type": "execute_result"
    }
   ],
   "source": [
    "model"
   ]
  },
  {
   "cell_type": "code",
   "execution_count": 0,
   "metadata": {
    "colab": {
     "base_uri": "https://localhost:8080/",
     "height": 52
    },
    "colab_type": "code",
    "executionInfo": {
     "elapsed": 963,
     "status": "ok",
     "timestamp": 1549357155149,
     "user": {
      "displayName": "Fazil B. Topal",
      "photoUrl": "https://lh4.googleusercontent.com/-IxiCh57ZfZI/AAAAAAAAAAI/AAAAAAAAAGg/HpcJn-cqYZk/s64/photo.jpg",
      "userId": "06988773581943736669"
     },
     "user_tz": -60
    },
    "id": "KmpiHFMA33Ab",
    "outputId": "f761f76b-2416-4709-f048-7ba778868bfd"
   },
   "outputs": [
    {
     "name": "stdout",
     "output_type": "stream",
     "text": [
      "glm Model Build progress: |███████████████████████████████████████████████| 100%\n",
      "peak memory: 153.76 MiB, increment: 0.00 MiB\n"
     ]
    }
   ],
   "source": [
    "%memit model.train(x=feature_columns, y=label, training_frame=train, validation_frame=val)"
   ]
  },
  {
   "cell_type": "code",
   "execution_count": 0,
   "metadata": {
    "colab": {
     "base_uri": "https://localhost:8080/",
     "height": 69
    },
    "colab_type": "code",
    "executionInfo": {
     "elapsed": 657,
     "status": "ok",
     "timestamp": 1549357157204,
     "user": {
      "displayName": "Fazil B. Topal",
      "photoUrl": "https://lh4.googleusercontent.com/-IxiCh57ZfZI/AAAAAAAAAAI/AAAAAAAAAGg/HpcJn-cqYZk/s64/photo.jpg",
      "userId": "06988773581943736669"
     },
     "user_tz": -60
    },
    "id": "1lQvEjEP34Dm",
    "outputId": "da56a29a-f751-448d-b0ba-360e9e96b6f9"
   },
   "outputs": [
    {
     "name": "stdout",
     "output_type": "stream",
     "text": [
      "glm Model Build progress: |███████████████████████████████████████████████| 100%\n",
      "CPU times: user 19.9 ms, sys: 3.58 ms, total: 23.5 ms\n",
      "Wall time: 263 ms\n"
     ]
    }
   ],
   "source": [
    "%time model.train(x=feature_columns, y=label, training_frame=train, validation_frame=val)"
   ]
  },
  {
   "cell_type": "code",
   "execution_count": 0,
   "metadata": {
    "colab": {
     "base_uri": "https://localhost:8080/",
     "height": 52
    },
    "colab_type": "code",
    "executionInfo": {
     "elapsed": 798,
     "status": "ok",
     "timestamp": 1549357159939,
     "user": {
      "displayName": "Fazil B. Topal",
      "photoUrl": "https://lh4.googleusercontent.com/-IxiCh57ZfZI/AAAAAAAAAAI/AAAAAAAAAGg/HpcJn-cqYZk/s64/photo.jpg",
      "userId": "06988773581943736669"
     },
     "user_tz": -60
    },
    "id": "p4Vp1HZl35Op",
    "outputId": "067ad45e-9d7c-4b7d-c526-56bf6bbc3fcc"
   },
   "outputs": [
    {
     "name": "stdout",
     "output_type": "stream",
     "text": [
      "glm Model Build progress: |███████████████████████████████████████████████| 100%\n",
      " "
     ]
    }
   ],
   "source": [
    "%prun model.train(x=feature_columns, y=label, training_frame=train, validation_frame=val)"
   ]
  },
  {
   "cell_type": "markdown",
   "metadata": {
    "colab_type": "text",
    "id": "0a_jARTb4wjb"
   },
   "source": [
    "**Results**"
   ]
  },
  {
   "cell_type": "markdown",
   "metadata": {
    "colab_type": "text",
    "id": "Va2YjTev4jbl"
   },
   "source": [
    "\n",
    "\n",
    "\n",
    "**%memit**  \n",
    "peak memory: 153.76 MiB, increment: 0.00 MiB\n",
    "\n",
    "  \n",
    "**%time**  \n",
    "CPU times: user 19.9 ms, sys: 3.58 ms, total: 23.5 ms\n",
    "Wall time: 263 ms\n",
    "\n",
    "**%prun**  \n",
    "18098 function calls (17698 primitive calls) in 0.281 seconds\n",
    "\n"
   ]
  },
  {
   "cell_type": "markdown",
   "metadata": {
    "colab_type": "text",
    "id": "oaljk6GR41xx"
   },
   "source": [
    "## Deep Learning"
   ]
  },
  {
   "cell_type": "code",
   "execution_count": 0,
   "metadata": {
    "colab": {},
    "colab_type": "code",
    "id": "_-vCtf-94hJO"
   },
   "outputs": [],
   "source": [
    "feature_columns = [\"median_income\", \"rooms_per_person\", \"total_rooms\", \"housing_median_age\"]\n",
    "label = \"median_house_value\""
   ]
  },
  {
   "cell_type": "code",
   "execution_count": 0,
   "metadata": {
    "colab": {},
    "colab_type": "code",
    "id": "LToZ2U6d9XWp"
   },
   "outputs": [],
   "source": [
    "# Model parameters\n",
    "model = H2ODeepLearningEstimator(model_id=\"nn_v1\", distribution=\"AUTO\", epochs=5, hidden=[50,100,50])"
   ]
  },
  {
   "cell_type": "code",
   "execution_count": 11,
   "metadata": {
    "colab": {
     "base_uri": "https://localhost:8080/",
     "height": 34
    },
    "colab_type": "code",
    "executionInfo": {
     "elapsed": 9003,
     "status": "ok",
     "timestamp": 1549458325932,
     "user": {
      "displayName": "Fazil B. Topal",
      "photoUrl": "https://lh4.googleusercontent.com/-IxiCh57ZfZI/AAAAAAAAAAI/AAAAAAAAAGg/HpcJn-cqYZk/s64/photo.jpg",
      "userId": "06988773581943736669"
     },
     "user_tz": -60
    },
    "id": "CBicuBuW9brH",
    "outputId": "4360784e-98fb-443a-fc51-a318e3ecebf0"
   },
   "outputs": [
    {
     "name": "stdout",
     "output_type": "stream",
     "text": [
      "deeplearning Model Build progress: |██████████████████████████████████████| 100%\n"
     ]
    }
   ],
   "source": [
    "model.train(x=feature_columns, y=label, training_frame=train, validation_frame=val)"
   ]
  },
  {
   "cell_type": "code",
   "execution_count": 12,
   "metadata": {
    "colab": {
     "base_uri": "https://localhost:8080/",
     "height": 748
    },
    "colab_type": "code",
    "executionInfo": {
     "elapsed": 577,
     "status": "ok",
     "timestamp": 1549458327864,
     "user": {
      "displayName": "Fazil B. Topal",
      "photoUrl": "https://lh4.googleusercontent.com/-IxiCh57ZfZI/AAAAAAAAAAI/AAAAAAAAAGg/HpcJn-cqYZk/s64/photo.jpg",
      "userId": "06988773581943736669"
     },
     "user_tz": -60
    },
    "id": "nv43m_tE9dDX",
    "outputId": "f021a496-2c1c-4d82-8a06-ced581d0675e",
    "scrolled": true
   },
   "outputs": [
    {
     "name": "stdout",
     "output_type": "stream",
     "text": [
      "Model Details\n",
      "=============\n",
      "H2ODeepLearningEstimator :  Deep Learning\n",
      "Model Key:  nn_v1\n",
      "\n",
      "\n",
      "ModelMetricsRegression: deeplearning\n",
      "** Reported on train data. **\n",
      "\n",
      "MSE: 5940.423273628144\n",
      "RMSE: 77.0741414070124\n",
      "MAE: 54.49455090761387\n",
      "RMSLE: 0.38416147656709776\n",
      "Mean Residual Deviance: 5940.423273628144\n",
      "\n",
      "ModelMetricsRegression: deeplearning\n",
      "** Reported on validation data. **\n",
      "\n",
      "MSE: 6192.620504177109\n",
      "RMSE: 78.6932049428482\n",
      "MAE: 56.685540028625425\n",
      "RMSLE: 0.40430707785302045\n",
      "Mean Residual Deviance: 6192.620504177109\n",
      "Scoring History: \n"
     ]
    },
    {
     "data": {
      "text/html": [
       "<div style=\"overflow:auto\"><table style=\"width:50%\"><tr><td><b></b></td>\n",
       "<td><b>timestamp</b></td>\n",
       "<td><b>duration</b></td>\n",
       "<td><b>training_speed</b></td>\n",
       "<td><b>epochs</b></td>\n",
       "<td><b>iterations</b></td>\n",
       "<td><b>samples</b></td>\n",
       "<td><b>training_rmse</b></td>\n",
       "<td><b>training_deviance</b></td>\n",
       "<td><b>training_mae</b></td>\n",
       "<td><b>training_r2</b></td>\n",
       "<td><b>validation_rmse</b></td>\n",
       "<td><b>validation_deviance</b></td>\n",
       "<td><b>validation_mae</b></td>\n",
       "<td><b>validation_r2</b></td></tr>\n",
       "<tr><td></td>\n",
       "<td>2019-02-06 13:05:17</td>\n",
       "<td> 0.000 sec</td>\n",
       "<td>None</td>\n",
       "<td>0.0</td>\n",
       "<td>0</td>\n",
       "<td>0.0</td>\n",
       "<td>nan</td>\n",
       "<td>nan</td>\n",
       "<td>nan</td>\n",
       "<td>nan</td>\n",
       "<td>nan</td>\n",
       "<td>nan</td>\n",
       "<td>nan</td>\n",
       "<td>nan</td></tr>\n",
       "<tr><td></td>\n",
       "<td>2019-02-06 13:05:18</td>\n",
       "<td> 2.089 sec</td>\n",
       "<td>4819 obs/sec</td>\n",
       "<td>0.4983547</td>\n",
       "<td>1</td>\n",
       "<td>6815.0</td>\n",
       "<td>93.2830368</td>\n",
       "<td>8701.7249572</td>\n",
       "<td>66.2950229</td>\n",
       "<td>0.3523488</td>\n",
       "<td>94.6029820</td>\n",
       "<td>8949.7242076</td>\n",
       "<td>67.6131872</td>\n",
       "<td>0.3335612</td></tr>\n",
       "<tr><td></td>\n",
       "<td>2019-02-06 13:05:23</td>\n",
       "<td> 7.055 sec</td>\n",
       "<td>10106 obs/sec</td>\n",
       "<td>4.4801463</td>\n",
       "<td>9</td>\n",
       "<td>61266.0</td>\n",
       "<td>78.6967766</td>\n",
       "<td>6193.1826401</td>\n",
       "<td>54.5404137</td>\n",
       "<td>0.5390543</td>\n",
       "<td>80.2845035</td>\n",
       "<td>6445.6014969</td>\n",
       "<td>57.0535658</td>\n",
       "<td>0.5200300</td></tr>\n",
       "<tr><td></td>\n",
       "<td>2019-02-06 13:05:25</td>\n",
       "<td> 8.204 sec</td>\n",
       "<td>10778 obs/sec</td>\n",
       "<td>5.4772943</td>\n",
       "<td>11</td>\n",
       "<td>74902.0</td>\n",
       "<td>77.0741414</td>\n",
       "<td>5940.4232736</td>\n",
       "<td>54.4945509</td>\n",
       "<td>0.5578667</td>\n",
       "<td>78.6932049</td>\n",
       "<td>6192.6205042</td>\n",
       "<td>56.6855400</td>\n",
       "<td>0.5388682</td></tr></table></div>"
      ],
      "text/plain": [
       "    timestamp            duration    training_speed    epochs    iterations    samples    training_rmse    training_deviance    training_mae    training_r2    validation_rmse    validation_deviance    validation_mae    validation_r2\n",
       "--  -------------------  ----------  ----------------  --------  ------------  ---------  ---------------  -------------------  --------------  -------------  -----------------  ---------------------  ----------------  ---------------\n",
       "    2019-02-06 13:05:17  0.000 sec                     0         0             0          nan              nan                  nan             nan            nan                nan                    nan               nan\n",
       "    2019-02-06 13:05:18  2.089 sec   4819 obs/sec      0.498355  1             6815       93.283           8701.72              66.295          0.352349       94.603             8949.72                67.6132           0.333561\n",
       "    2019-02-06 13:05:23  7.055 sec   10106 obs/sec     4.48015   9             61266      78.6968          6193.18              54.5404         0.539054       80.2845            6445.6                 57.0536           0.52003\n",
       "    2019-02-06 13:05:25  8.204 sec   10778 obs/sec     5.47729   11            74902      77.0741          5940.42              54.4946         0.557867       78.6932            6192.62                56.6855           0.538868"
      ]
     },
     "metadata": {
      "tags": []
     },
     "output_type": "display_data"
    },
    {
     "name": "stdout",
     "output_type": "stream",
     "text": [
      "Variable Importances: \n"
     ]
    },
    {
     "data": {
      "text/html": [
       "<div style=\"overflow:auto\"><table style=\"width:50%\"><tr><td><b>variable</b></td>\n",
       "<td><b>relative_importance</b></td>\n",
       "<td><b>scaled_importance</b></td>\n",
       "<td><b>percentage</b></td></tr>\n",
       "<tr><td>median_income</td>\n",
       "<td>1.0</td>\n",
       "<td>1.0</td>\n",
       "<td>0.3384266</td></tr>\n",
       "<tr><td>rooms_per_person</td>\n",
       "<td>0.7546721</td>\n",
       "<td>0.7546721</td>\n",
       "<td>0.2554012</td></tr>\n",
       "<tr><td>total_rooms</td>\n",
       "<td>0.6356176</td>\n",
       "<td>0.6356176</td>\n",
       "<td>0.2151099</td></tr>\n",
       "<tr><td>housing_median_age</td>\n",
       "<td>0.5645604</td>\n",
       "<td>0.5645604</td>\n",
       "<td>0.1910623</td></tr></table></div>"
      ],
      "text/plain": [
       "variable            relative_importance    scaled_importance    percentage\n",
       "------------------  ---------------------  -------------------  ------------\n",
       "median_income       1                      1                    0.338427\n",
       "rooms_per_person    0.754672               0.754672             0.255401\n",
       "total_rooms         0.635618               0.635618             0.21511\n",
       "housing_median_age  0.56456                0.56456              0.191062"
      ]
     },
     "metadata": {
      "tags": []
     },
     "output_type": "display_data"
    },
    {
     "data": {
      "text/plain": []
     },
     "execution_count": 12,
     "metadata": {
      "tags": []
     },
     "output_type": "execute_result"
    }
   ],
   "source": [
    "model"
   ]
  },
  {
   "cell_type": "code",
   "execution_count": 13,
   "metadata": {
    "colab": {
     "base_uri": "https://localhost:8080/",
     "height": 34
    },
    "colab_type": "code",
    "executionInfo": {
     "elapsed": 572,
     "status": "error",
     "timestamp": 1549458339555,
     "user": {
      "displayName": "Fazil B. Topal",
      "photoUrl": "https://lh4.googleusercontent.com/-IxiCh57ZfZI/AAAAAAAAAAI/AAAAAAAAAGg/HpcJn-cqYZk/s64/photo.jpg",
      "userId": "06988773581943736669"
     },
     "user_tz": -60
    },
    "id": "SqBpEIlu9d0S",
    "outputId": "ba744160-f2b5-40d0-8f2f-cf096d982bb1"
   },
   "outputs": [
    {
     "name": "stderr",
     "output_type": "stream",
     "text": [
      "UsageError: Line magic function `%memit` not found.\n"
     ]
    }
   ],
   "source": [
    "%memit model.train(x=feature_columns, y=label, training_frame=train, validation_frame=val)"
   ]
  },
  {
   "cell_type": "code",
   "execution_count": 14,
   "metadata": {
    "colab": {
     "base_uri": "https://localhost:8080/",
     "height": 69
    },
    "colab_type": "code",
    "executionInfo": {
     "elapsed": 8530,
     "status": "ok",
     "timestamp": 1549458348032,
     "user": {
      "displayName": "Fazil B. Topal",
      "photoUrl": "https://lh4.googleusercontent.com/-IxiCh57ZfZI/AAAAAAAAAAI/AAAAAAAAAGg/HpcJn-cqYZk/s64/photo.jpg",
      "userId": "06988773581943736669"
     },
     "user_tz": -60
    },
    "id": "Adbgcs2e9e6t",
    "outputId": "6769d134-bb60-4627-82e5-5ed5ec9ae53a"
   },
   "outputs": [
    {
     "name": "stdout",
     "output_type": "stream",
     "text": [
      "deeplearning Model Build progress: |██████████████████████████████████████| 100%\n",
      "CPU times: user 219 ms, sys: 23 ms, total: 242 ms\n",
      "Wall time: 7.95 s\n"
     ]
    }
   ],
   "source": [
    "%time model.train(x=feature_columns, y=label, training_frame=train, validation_frame=val)"
   ]
  },
  {
   "cell_type": "code",
   "execution_count": 15,
   "metadata": {
    "colab": {
     "base_uri": "https://localhost:8080/",
     "height": 52
    },
    "colab_type": "code",
    "executionInfo": {
     "elapsed": 16400,
     "status": "ok",
     "timestamp": 1549458356426,
     "user": {
      "displayName": "Fazil B. Topal",
      "photoUrl": "https://lh4.googleusercontent.com/-IxiCh57ZfZI/AAAAAAAAAAI/AAAAAAAAAGg/HpcJn-cqYZk/s64/photo.jpg",
      "userId": "06988773581943736669"
     },
     "user_tz": -60
    },
    "id": "G8w9xcJ39fyx",
    "outputId": "e8d0f488-4f67-4f58-ee9a-a30345efaaba"
   },
   "outputs": [
    {
     "name": "stdout",
     "output_type": "stream",
     "text": [
      "deeplearning Model Build progress: |██████████████████████████████████████| 100%\n",
      " "
     ]
    }
   ],
   "source": [
    "%prun model.train(x=feature_columns, y=label, training_frame=train, validation_frame=val)"
   ]
  },
  {
   "cell_type": "markdown",
   "metadata": {
    "colab_type": "text",
    "id": "Pc_BN09cAnzX"
   },
   "source": [
    "**Results**"
   ]
  },
  {
   "cell_type": "markdown",
   "metadata": {
    "colab_type": "text",
    "id": "r-Ln4xqbAqke"
   },
   "source": [
    "**%memit**  \n",
    "peak memory: 153.82 MiB, increment: 0.00 MiB\n",
    "\n",
    "**%time**  \n",
    "CPU times: user 219 ms, sys: 23 ms, total: 242 ms\n",
    "Wall time: 7.95 s  \n",
    "\n",
    "**%prun**  \n",
    "122046 function calls (119252 primitive calls) in 8.299 seconds\n",
    "\n"
   ]
  }
 ],
 "metadata": {
  "colab": {
   "collapsed_sections": [
    "CXAHojUmhKc_",
    "5naxEh1y3llu"
   ],
   "name": "H2O-Regression.ipynb",
   "provenance": [],
   "version": "0.3.2"
  },
  "kernelspec": {
   "display_name": "Python 3",
   "language": "python",
   "name": "python3"
  },
  "language_info": {
   "codemirror_mode": {
    "name": "ipython",
    "version": 3
   },
   "file_extension": ".py",
   "mimetype": "text/x-python",
   "name": "python",
   "nbconvert_exporter": "python",
   "pygments_lexer": "ipython3",
   "version": "3.6.8"
  }
 },
 "nbformat": 4,
 "nbformat_minor": 1
}
