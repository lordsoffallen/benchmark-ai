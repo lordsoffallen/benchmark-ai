{
 "cells": [
  {
   "cell_type": "markdown",
   "metadata": {
    "colab_type": "text",
    "id": "u2cPPYqcG9D3"
   },
   "source": [
    "# Regression Keras"
   ]
  },
  {
   "cell_type": "markdown",
   "metadata": {
    "colab_type": "text",
    "id": "r8_8lCmkm8sG"
   },
   "source": [
    "### Install Requirements"
   ]
  },
  {
   "cell_type": "code",
   "execution_count": 1,
   "metadata": {
    "colab": {
     "base_uri": "https://localhost:8080/",
     "height": 52
    },
    "colab_type": "code",
    "executionInfo": {
     "elapsed": 4935,
     "status": "ok",
     "timestamp": 1549370008759,
     "user": {
      "displayName": "Fazil B. Topal",
      "photoUrl": "https://lh4.googleusercontent.com/-IxiCh57ZfZI/AAAAAAAAAAI/AAAAAAAAAGg/HpcJn-cqYZk/s64/photo.jpg",
      "userId": "06988773581943736669"
     },
     "user_tz": -60
    },
    "id": "6EQPZa9ACKqV",
    "outputId": "064fe1eb-ee4c-4070-b40c-89ff2b4b96ba"
   },
   "outputs": [
    {
     "name": "stdout",
     "output_type": "stream",
     "text": [
      "Requirement already satisfied: memory_profiler in /usr/local/lib/python3.6/dist-packages (0.55.0)\n",
      "Requirement already satisfied: psutil in /usr/local/lib/python3.6/dist-packages (from memory_profiler) (5.4.8)\n"
     ]
    }
   ],
   "source": [
    "! pip install memory_profiler"
   ]
  },
  {
   "cell_type": "code",
   "execution_count": 0,
   "metadata": {
    "colab": {},
    "colab_type": "code",
    "id": "GYO8FhfADF_c"
   },
   "outputs": [],
   "source": [
    "%load_ext memory_profiler"
   ]
  },
  {
   "cell_type": "markdown",
   "metadata": {
    "colab_type": "text",
    "id": "0dn7lq94nBA8"
   },
   "source": [
    "### Import Libraries"
   ]
  },
  {
   "cell_type": "code",
   "execution_count": 0,
   "metadata": {
    "colab": {},
    "colab_type": "code",
    "id": "jHJmjJWIHGUA"
   },
   "outputs": [],
   "source": [
    "from IPython import display\n",
    "from matplotlib import pyplot as plt\n",
    "import numpy as np\n",
    "import pandas as pd\n",
    "import seaborn as sns\n",
    "import tensorflow as tf\n",
    "import keras\n",
    "from keras.layers import Input, Dense\n",
    "from keras.models import Model, Sequential\n",
    "from sklearn.preprocessing import MinMaxScaler\n",
    "\n",
    "tf.logging.set_verbosity(tf.logging.WARN)\n",
    "pd.options.display.max_rows = 10\n",
    "pd.options.display.float_format = '{:.5f}'.format\n",
    "\n",
    "# Pretty Display of Variables\n",
    "from IPython.core.interactiveshell import InteractiveShell\n",
    "InteractiveShell.ast_node_interactivity = \"all\""
   ]
  },
  {
   "cell_type": "code",
   "execution_count": 0,
   "metadata": {
    "colab": {},
    "colab_type": "code",
    "id": "BGea8D0gp9rr"
   },
   "outputs": [],
   "source": [
    "def process_california_data(ratio=0.8):\n",
    "    \"\"\" Downloads the california housing dataset, preprocess the data and splits it.\n",
    "    Args:\n",
    "        ratio: Split ratio. Default is 0.8\n",
    "    \n",
    "    \"\"\"\n",
    "\n",
    "    print('Downloading data from web..')\n",
    "    # Load training & test data set.\n",
    "    train_df = pd.read_csv(\"https://download.mlcc.google.com/mledu-datasets/california_housing_train.csv\", sep=\",\")\n",
    "    test_df = pd.read_csv(\"https://download.mlcc.google.com/mledu-datasets/california_housing_test.csv\", sep=\",\")\n",
    "\n",
    "    print('Merging data..')\n",
    "    # Merge data\n",
    "    df = pd.concat([train_df, test_df])\n",
    "    \n",
    "    # Drop NA values\n",
    "    df.dropna(inplace=True)\n",
    "    \n",
    "    print('Creating a synthetic feature..')\n",
    "    # Create a synthetic feature.\n",
    "    df[\"rooms_per_person\"] = df[\"total_rooms\"] / df[\"population\"]\n",
    "    \n",
    "    # Scale the huge value columns\n",
    "    df[\"median_house_value\"] = df[\"median_house_value\"] / 1000 \n",
    "\n",
    "    print('Shuffling the data..')\n",
    "    # Shuffle\n",
    "    df = df.reindex(np.random.permutation(df.index))\n",
    "\n",
    "    print('Heatmap of our data..')\n",
    "    sample = df.sample(n=500)\n",
    "    sns.heatmap(\n",
    "        sample.corr(), \n",
    "        xticklabels=sample.columns.values,\n",
    "        yticklabels=sample.columns.values,\n",
    "        fmt=\".2f\",\n",
    "        annot=True\n",
    "    )\n",
    "\n",
    "    print('Scaling the data between 0-1..')\n",
    "    # Scale the data between 0-1\n",
    "    scaler = MinMaxScaler(feature_range=(0,1))\n",
    "    scale_columns = list(df.columns[2:])\n",
    "    scaled = df.copy()\n",
    "    scaled[scale_columns] = scaler.fit_transform(df[scale_columns])\n",
    "    print(\"Data was multiplied by {:.6f} and added {:.4f}\".format(scaler.scale_[0], scaler.min_[0]))\n",
    "\n",
    "\n",
    "    print('Splitting train & test frames..')\n",
    "    # Split\n",
    "    \n",
    "    split_size_head = round(ratio*scaled.shape[0])\n",
    "    split_size_tail = scaled.shape[0] - split_size_head\n",
    "    train = scaled.head(split_size_head)\n",
    "    test = scaled.tail(split_size_tail)\n",
    "\n",
    "    return train, test, scaler"
   ]
  },
  {
   "cell_type": "markdown",
   "metadata": {
    "colab_type": "text",
    "id": "DER15wQQnOb5"
   },
   "source": [
    "### Data Process"
   ]
  },
  {
   "cell_type": "code",
   "execution_count": 9,
   "metadata": {
    "colab": {
     "base_uri": "https://localhost:8080/",
     "height": 34
    },
    "colab_type": "code",
    "executionInfo": {
     "elapsed": 557,
     "status": "ok",
     "timestamp": 1549370131929,
     "user": {
      "displayName": "Fazil B. Topal",
      "photoUrl": "https://lh4.googleusercontent.com/-IxiCh57ZfZI/AAAAAAAAAAI/AAAAAAAAAGg/HpcJn-cqYZk/s64/photo.jpg",
      "userId": "06988773581943736669"
     },
     "user_tz": -60
    },
    "id": "zLK_uObht5ZD",
    "outputId": "cab470a4-2d54-41b4-b45d-ca262a3dea48"
   },
   "outputs": [
    {
     "name": "stdout",
     "output_type": "stream",
     "text": [
      "Data values were scaled by multiplying by 0.0196078431 and adding -0.0196\n"
     ]
    }
   ],
   "source": [
    "train, test, scaler = process_california_data()"
   ]
  },
  {
   "cell_type": "code",
   "execution_count": 10,
   "metadata": {
    "colab": {
     "base_uri": "https://localhost:8080/",
     "height": 363
    },
    "colab_type": "code",
    "executionInfo": {
     "elapsed": 752,
     "status": "ok",
     "timestamp": 1549370136003,
     "user": {
      "displayName": "Fazil B. Topal",
      "photoUrl": "https://lh4.googleusercontent.com/-IxiCh57ZfZI/AAAAAAAAAAI/AAAAAAAAAGg/HpcJn-cqYZk/s64/photo.jpg",
      "userId": "06988773581943736669"
     },
     "user_tz": -60
    },
    "id": "X5gNksZMxS1O",
    "outputId": "985cfd39-447c-4a41-d7da-ea5aaf91bf00"
   },
   "outputs": [
    {
     "data": {
      "text/html": [
       "<div>\n",
       "<style scoped>\n",
       "    .dataframe tbody tr th:only-of-type {\n",
       "        vertical-align: middle;\n",
       "    }\n",
       "\n",
       "    .dataframe tbody tr th {\n",
       "        vertical-align: top;\n",
       "    }\n",
       "\n",
       "    .dataframe thead th {\n",
       "        text-align: right;\n",
       "    }\n",
       "</style>\n",
       "<table border=\"1\" class=\"dataframe\">\n",
       "  <thead>\n",
       "    <tr style=\"text-align: right;\">\n",
       "      <th></th>\n",
       "      <th>longitude</th>\n",
       "      <th>latitude</th>\n",
       "      <th>housing_median_age</th>\n",
       "      <th>total_rooms</th>\n",
       "      <th>total_bedrooms</th>\n",
       "      <th>population</th>\n",
       "      <th>households</th>\n",
       "      <th>median_income</th>\n",
       "      <th>median_house_value</th>\n",
       "      <th>rooms_per_person</th>\n",
       "    </tr>\n",
       "  </thead>\n",
       "  <tbody>\n",
       "    <tr>\n",
       "      <th>15403</th>\n",
       "      <td>-122.30000</td>\n",
       "      <td>37.92000</td>\n",
       "      <td>0.62745</td>\n",
       "      <td>0.04252</td>\n",
       "      <td>0.04190</td>\n",
       "      <td>0.01982</td>\n",
       "      <td>0.04670</td>\n",
       "      <td>0.24693</td>\n",
       "      <td>0.46186</td>\n",
       "      <td>0.04088</td>\n",
       "    </tr>\n",
       "    <tr>\n",
       "      <th>5334</th>\n",
       "      <td>-118.15000</td>\n",
       "      <td>34.17000</td>\n",
       "      <td>0.88235</td>\n",
       "      <td>0.06725</td>\n",
       "      <td>0.08644</td>\n",
       "      <td>0.04868</td>\n",
       "      <td>0.08074</td>\n",
       "      <td>0.10537</td>\n",
       "      <td>0.23196</td>\n",
       "      <td>0.02625</td>\n",
       "    </tr>\n",
       "    <tr>\n",
       "      <th>4780</th>\n",
       "      <td>-118.09000</td>\n",
       "      <td>34.14000</td>\n",
       "      <td>0.76471</td>\n",
       "      <td>0.08146</td>\n",
       "      <td>0.08504</td>\n",
       "      <td>0.04075</td>\n",
       "      <td>0.08798</td>\n",
       "      <td>0.33364</td>\n",
       "      <td>0.73979</td>\n",
       "      <td>0.03811</td>\n",
       "    </tr>\n",
       "    <tr>\n",
       "      <th>10571</th>\n",
       "      <td>-120.45000</td>\n",
       "      <td>34.94000</td>\n",
       "      <td>0.45098</td>\n",
       "      <td>0.04481</td>\n",
       "      <td>0.06921</td>\n",
       "      <td>0.03467</td>\n",
       "      <td>0.06841</td>\n",
       "      <td>0.13167</td>\n",
       "      <td>0.20722</td>\n",
       "      <td>0.02454</td>\n",
       "    </tr>\n",
       "    <tr>\n",
       "      <th>3479</th>\n",
       "      <td>-117.90000</td>\n",
       "      <td>34.10000</td>\n",
       "      <td>0.66667</td>\n",
       "      <td>0.07215</td>\n",
       "      <td>0.07356</td>\n",
       "      <td>0.04142</td>\n",
       "      <td>0.07926</td>\n",
       "      <td>0.28038</td>\n",
       "      <td>0.33320</td>\n",
       "      <td>0.03317</td>\n",
       "    </tr>\n",
       "    <tr>\n",
       "      <th>14462</th>\n",
       "      <td>-122.13000</td>\n",
       "      <td>37.45000</td>\n",
       "      <td>0.70588</td>\n",
       "      <td>0.03387</td>\n",
       "      <td>0.03042</td>\n",
       "      <td>0.01421</td>\n",
       "      <td>0.03371</td>\n",
       "      <td>0.51054</td>\n",
       "      <td>1.00000</td>\n",
       "      <td>0.04539</td>\n",
       "    </tr>\n",
       "    <tr>\n",
       "      <th>5180</th>\n",
       "      <td>-118.13000</td>\n",
       "      <td>33.91000</td>\n",
       "      <td>0.64706</td>\n",
       "      <td>0.02409</td>\n",
       "      <td>0.02498</td>\n",
       "      <td>0.01539</td>\n",
       "      <td>0.02680</td>\n",
       "      <td>0.30419</td>\n",
       "      <td>0.42680</td>\n",
       "      <td>0.02973</td>\n",
       "    </tr>\n",
       "    <tr>\n",
       "      <th>13580</th>\n",
       "      <td>-121.97000</td>\n",
       "      <td>37.25000</td>\n",
       "      <td>0.60784</td>\n",
       "      <td>0.07618</td>\n",
       "      <td>0.07682</td>\n",
       "      <td>0.03335</td>\n",
       "      <td>0.08074</td>\n",
       "      <td>0.38835</td>\n",
       "      <td>0.72742</td>\n",
       "      <td>0.04359</td>\n",
       "    </tr>\n",
       "    <tr>\n",
       "      <th>13631</th>\n",
       "      <td>-121.98000</td>\n",
       "      <td>37.28000</td>\n",
       "      <td>0.49020</td>\n",
       "      <td>0.03111</td>\n",
       "      <td>0.04780</td>\n",
       "      <td>0.01729</td>\n",
       "      <td>0.05016</td>\n",
       "      <td>0.19947</td>\n",
       "      <td>0.52392</td>\n",
       "      <td>0.03421</td>\n",
       "    </tr>\n",
       "    <tr>\n",
       "      <th>5874</th>\n",
       "      <td>-118.20000</td>\n",
       "      <td>33.92000</td>\n",
       "      <td>0.86275</td>\n",
       "      <td>0.03377</td>\n",
       "      <td>0.03911</td>\n",
       "      <td>0.02864</td>\n",
       "      <td>0.04062</td>\n",
       "      <td>0.19171</td>\n",
       "      <td>0.26021</td>\n",
       "      <td>0.02235</td>\n",
       "    </tr>\n",
       "  </tbody>\n",
       "</table>\n",
       "</div>"
      ],
      "text/plain": [
       "       longitude  latitude  housing_median_age  total_rooms  total_bedrooms  \\\n",
       "15403 -122.30000  37.92000             0.62745      0.04252         0.04190   \n",
       "5334  -118.15000  34.17000             0.88235      0.06725         0.08644   \n",
       "4780  -118.09000  34.14000             0.76471      0.08146         0.08504   \n",
       "10571 -120.45000  34.94000             0.45098      0.04481         0.06921   \n",
       "3479  -117.90000  34.10000             0.66667      0.07215         0.07356   \n",
       "14462 -122.13000  37.45000             0.70588      0.03387         0.03042   \n",
       "5180  -118.13000  33.91000             0.64706      0.02409         0.02498   \n",
       "13580 -121.97000  37.25000             0.60784      0.07618         0.07682   \n",
       "13631 -121.98000  37.28000             0.49020      0.03111         0.04780   \n",
       "5874  -118.20000  33.92000             0.86275      0.03377         0.03911   \n",
       "\n",
       "       population  households  median_income  median_house_value  \\\n",
       "15403     0.01982     0.04670        0.24693             0.46186   \n",
       "5334      0.04868     0.08074        0.10537             0.23196   \n",
       "4780      0.04075     0.08798        0.33364             0.73979   \n",
       "10571     0.03467     0.06841        0.13167             0.20722   \n",
       "3479      0.04142     0.07926        0.28038             0.33320   \n",
       "14462     0.01421     0.03371        0.51054             1.00000   \n",
       "5180      0.01539     0.02680        0.30419             0.42680   \n",
       "13580     0.03335     0.08074        0.38835             0.72742   \n",
       "13631     0.01729     0.05016        0.19947             0.52392   \n",
       "5874      0.02864     0.04062        0.19171             0.26021   \n",
       "\n",
       "       rooms_per_person  \n",
       "15403           0.04088  \n",
       "5334            0.02625  \n",
       "4780            0.03811  \n",
       "10571           0.02454  \n",
       "3479            0.03317  \n",
       "14462           0.04539  \n",
       "5180            0.02973  \n",
       "13580           0.04359  \n",
       "13631           0.03421  \n",
       "5874            0.02235  "
      ]
     },
     "execution_count": 10,
     "metadata": {
      "tags": []
     },
     "output_type": "execute_result"
    }
   ],
   "source": [
    "train.head(10)"
   ]
  },
  {
   "cell_type": "code",
   "execution_count": 11,
   "metadata": {
    "colab": {
     "base_uri": "https://localhost:8080/",
     "height": 300
    },
    "colab_type": "code",
    "executionInfo": {
     "elapsed": 550,
     "status": "ok",
     "timestamp": 1549370137996,
     "user": {
      "displayName": "Fazil B. Topal",
      "photoUrl": "https://lh4.googleusercontent.com/-IxiCh57ZfZI/AAAAAAAAAAI/AAAAAAAAAGg/HpcJn-cqYZk/s64/photo.jpg",
      "userId": "06988773581943736669"
     },
     "user_tz": -60
    },
    "id": "q795wXh-O0q0",
    "outputId": "a4c9f916-ee85-4f9c-fc47-520780a17dce"
   },
   "outputs": [
    {
     "data": {
      "text/html": [
       "<div>\n",
       "<style scoped>\n",
       "    .dataframe tbody tr th:only-of-type {\n",
       "        vertical-align: middle;\n",
       "    }\n",
       "\n",
       "    .dataframe tbody tr th {\n",
       "        vertical-align: top;\n",
       "    }\n",
       "\n",
       "    .dataframe thead th {\n",
       "        text-align: right;\n",
       "    }\n",
       "</style>\n",
       "<table border=\"1\" class=\"dataframe\">\n",
       "  <thead>\n",
       "    <tr style=\"text-align: right;\">\n",
       "      <th></th>\n",
       "      <th>longitude</th>\n",
       "      <th>latitude</th>\n",
       "      <th>housing_median_age</th>\n",
       "      <th>total_rooms</th>\n",
       "      <th>total_bedrooms</th>\n",
       "      <th>population</th>\n",
       "      <th>households</th>\n",
       "      <th>median_income</th>\n",
       "      <th>median_house_value</th>\n",
       "      <th>rooms_per_person</th>\n",
       "    </tr>\n",
       "  </thead>\n",
       "  <tbody>\n",
       "    <tr>\n",
       "      <th>count</th>\n",
       "      <td>13600.00000</td>\n",
       "      <td>13600.00000</td>\n",
       "      <td>13600.00000</td>\n",
       "      <td>13600.00000</td>\n",
       "      <td>13600.00000</td>\n",
       "      <td>13600.00000</td>\n",
       "      <td>13600.00000</td>\n",
       "      <td>13600.00000</td>\n",
       "      <td>13600.00000</td>\n",
       "      <td>13600.00000</td>\n",
       "    </tr>\n",
       "    <tr>\n",
       "      <th>mean</th>\n",
       "      <td>-119.56415</td>\n",
       "      <td>35.62332</td>\n",
       "      <td>0.54149</td>\n",
       "      <td>0.06936</td>\n",
       "      <td>0.08332</td>\n",
       "      <td>0.03991</td>\n",
       "      <td>0.08203</td>\n",
       "      <td>0.23310</td>\n",
       "      <td>0.39662</td>\n",
       "      <td>0.03559</td>\n",
       "    </tr>\n",
       "    <tr>\n",
       "      <th>std</th>\n",
       "      <td>2.00298</td>\n",
       "      <td>2.13409</td>\n",
       "      <td>0.24675</td>\n",
       "      <td>0.05686</td>\n",
       "      <td>0.06528</td>\n",
       "      <td>0.03231</td>\n",
       "      <td>0.06320</td>\n",
       "      <td>0.13115</td>\n",
       "      <td>0.23886</td>\n",
       "      <td>0.02219</td>\n",
       "    </tr>\n",
       "    <tr>\n",
       "      <th>min</th>\n",
       "      <td>-124.35000</td>\n",
       "      <td>32.55000</td>\n",
       "      <td>0.00000</td>\n",
       "      <td>0.00000</td>\n",
       "      <td>0.00000</td>\n",
       "      <td>0.00000</td>\n",
       "      <td>0.00000</td>\n",
       "      <td>0.00000</td>\n",
       "      <td>0.00000</td>\n",
       "      <td>0.00000</td>\n",
       "    </tr>\n",
       "    <tr>\n",
       "      <th>25%</th>\n",
       "      <td>-121.79000</td>\n",
       "      <td>33.93000</td>\n",
       "      <td>0.33333</td>\n",
       "      <td>0.03846</td>\n",
       "      <td>0.04562</td>\n",
       "      <td>0.02200</td>\n",
       "      <td>0.04588</td>\n",
       "      <td>0.14234</td>\n",
       "      <td>0.21629</td>\n",
       "      <td>0.02726</td>\n",
       "    </tr>\n",
       "    <tr>\n",
       "      <th>50%</th>\n",
       "      <td>-118.49000</td>\n",
       "      <td>34.25000</td>\n",
       "      <td>0.54902</td>\n",
       "      <td>0.05594</td>\n",
       "      <td>0.06712</td>\n",
       "      <td>0.03257</td>\n",
       "      <td>0.06693</td>\n",
       "      <td>0.21012</td>\n",
       "      <td>0.34113</td>\n",
       "      <td>0.03481</td>\n",
       "    </tr>\n",
       "    <tr>\n",
       "      <th>75%</th>\n",
       "      <td>-118.00000</td>\n",
       "      <td>37.71000</td>\n",
       "      <td>0.70588</td>\n",
       "      <td>0.08243</td>\n",
       "      <td>0.10040</td>\n",
       "      <td>0.04819</td>\n",
       "      <td>0.09920</td>\n",
       "      <td>0.29402</td>\n",
       "      <td>0.51608</td>\n",
       "      <td>0.04123</td>\n",
       "    </tr>\n",
       "    <tr>\n",
       "      <th>max</th>\n",
       "      <td>-114.31000</td>\n",
       "      <td>41.95000</td>\n",
       "      <td>1.00000</td>\n",
       "      <td>0.86002</td>\n",
       "      <td>1.00000</td>\n",
       "      <td>1.00000</td>\n",
       "      <td>1.00000</td>\n",
       "      <td>1.00000</td>\n",
       "      <td>1.00000</td>\n",
       "      <td>1.00000</td>\n",
       "    </tr>\n",
       "  </tbody>\n",
       "</table>\n",
       "</div>"
      ],
      "text/plain": [
       "        longitude    latitude  housing_median_age  total_rooms  \\\n",
       "count 13600.00000 13600.00000         13600.00000  13600.00000   \n",
       "mean   -119.56415    35.62332             0.54149      0.06936   \n",
       "std       2.00298     2.13409             0.24675      0.05686   \n",
       "min    -124.35000    32.55000             0.00000      0.00000   \n",
       "25%    -121.79000    33.93000             0.33333      0.03846   \n",
       "50%    -118.49000    34.25000             0.54902      0.05594   \n",
       "75%    -118.00000    37.71000             0.70588      0.08243   \n",
       "max    -114.31000    41.95000             1.00000      0.86002   \n",
       "\n",
       "       total_bedrooms  population  households  median_income  \\\n",
       "count     13600.00000 13600.00000 13600.00000    13600.00000   \n",
       "mean          0.08332     0.03991     0.08203        0.23310   \n",
       "std           0.06528     0.03231     0.06320        0.13115   \n",
       "min           0.00000     0.00000     0.00000        0.00000   \n",
       "25%           0.04562     0.02200     0.04588        0.14234   \n",
       "50%           0.06712     0.03257     0.06693        0.21012   \n",
       "75%           0.10040     0.04819     0.09920        0.29402   \n",
       "max           1.00000     1.00000     1.00000        1.00000   \n",
       "\n",
       "       median_house_value  rooms_per_person  \n",
       "count         13600.00000       13600.00000  \n",
       "mean              0.39662           0.03559  \n",
       "std               0.23886           0.02219  \n",
       "min               0.00000           0.00000  \n",
       "25%               0.21629           0.02726  \n",
       "50%               0.34113           0.03481  \n",
       "75%               0.51608           0.04123  \n",
       "max               1.00000           1.00000  "
      ]
     },
     "execution_count": 11,
     "metadata": {
      "tags": []
     },
     "output_type": "execute_result"
    }
   ],
   "source": [
    "train.describe()"
   ]
  },
  {
   "cell_type": "markdown",
   "metadata": {
    "colab_type": "text",
    "id": "KTR5XUUhqWtP"
   },
   "source": [
    "## Linear Regression"
   ]
  },
  {
   "cell_type": "markdown",
   "metadata": {
    "colab_type": "text",
    "id": "p8XHzAicruts"
   },
   "source": [
    "**Model Parameters**"
   ]
  },
  {
   "cell_type": "code",
   "execution_count": 0,
   "metadata": {
    "colab": {},
    "colab_type": "code",
    "id": "WG5XPFFUruDZ"
   },
   "outputs": [],
   "source": [
    "learning_rate = 0.02\n",
    "steps = 5\n",
    "batch_size = 100"
   ]
  },
  {
   "cell_type": "markdown",
   "metadata": {
    "colab_type": "text",
    "id": "VAboHKnMqNtJ"
   },
   "source": [
    "**Linear Regression with One Variable**"
   ]
  },
  {
   "cell_type": "code",
   "execution_count": 0,
   "metadata": {
    "colab": {},
    "colab_type": "code",
    "id": "pUzNYJwBsiYT"
   },
   "outputs": [],
   "source": [
    "feature_columns = [\"median_income\"]\n",
    "label = \"median_house_value\""
   ]
  },
  {
   "cell_type": "code",
   "execution_count": 0,
   "metadata": {
    "colab": {},
    "colab_type": "code",
    "id": "x2W43ZTrvCkr"
   },
   "outputs": [],
   "source": [
    "X = train[feature_columns].values\n",
    "Y = train[label].values\n",
    "X_test = test[feature_columns].values\n",
    "Y_test = test[label].values"
   ]
  },
  {
   "cell_type": "code",
   "execution_count": 0,
   "metadata": {
    "colab": {},
    "colab_type": "code",
    "id": "k9I2D_jdqkj8"
   },
   "outputs": [],
   "source": [
    "inputs = Input(shape=(1,))\n",
    "outputs = Dense(1,activation='linear')(inputs)\n",
    "opt = keras.optimizers.Adam(lr=learning_rate)\n",
    "model = Model(inputs=inputs,outputs=outputs)\n",
    "model.compile(optimizer=opt, loss=\"mse\")"
   ]
  },
  {
   "cell_type": "code",
   "execution_count": 28,
   "metadata": {
    "colab": {
     "base_uri": "https://localhost:8080/",
     "height": 225
    },
    "colab_type": "code",
    "executionInfo": {
     "elapsed": 1117,
     "status": "ok",
     "timestamp": 1549371486229,
     "user": {
      "displayName": "Fazil B. Topal",
      "photoUrl": "https://lh4.googleusercontent.com/-IxiCh57ZfZI/AAAAAAAAAAI/AAAAAAAAAGg/HpcJn-cqYZk/s64/photo.jpg",
      "userId": "06988773581943736669"
     },
     "user_tz": -60
    },
    "id": "ma0oRo1cqoZ5",
    "outputId": "5299fedf-3fad-41ec-c0b9-8c8fa2ab674c"
   },
   "outputs": [
    {
     "name": "stdout",
     "output_type": "stream",
     "text": [
      "Train on 13600 samples, validate on 3400 samples\n",
      "Epoch 1/5\n",
      "13600/13600 [==============================] - 0s 9us/step - loss: 0.0297 - val_loss: 0.0323\n",
      "Epoch 2/5\n",
      "13600/13600 [==============================] - 0s 9us/step - loss: 0.0297 - val_loss: 0.0323\n",
      "Epoch 3/5\n",
      "13600/13600 [==============================] - 0s 9us/step - loss: 0.0297 - val_loss: 0.0323\n",
      "Epoch 4/5\n",
      "13600/13600 [==============================] - 0s 8us/step - loss: 0.0297 - val_loss: 0.0323\n",
      "Epoch 5/5\n",
      "13600/13600 [==============================] - 0s 9us/step - loss: 0.0297 - val_loss: 0.0323\n"
     ]
    },
    {
     "data": {
      "text/plain": [
       "<keras.callbacks.History at 0x7f262d8cad30>"
      ]
     },
     "execution_count": 28,
     "metadata": {
      "tags": []
     },
     "output_type": "execute_result"
    }
   ],
   "source": [
    "model.fit(X, Y, batch_size=batch_size, epochs=steps, validation_data=(X_test, Y_test), shuffle=False)"
   ]
  },
  {
   "cell_type": "code",
   "execution_count": 29,
   "metadata": {
    "colab": {
     "base_uri": "https://localhost:8080/",
     "height": 225
    },
    "colab_type": "code",
    "executionInfo": {
     "elapsed": 1323,
     "status": "ok",
     "timestamp": 1549371489109,
     "user": {
      "displayName": "Fazil B. Topal",
      "photoUrl": "https://lh4.googleusercontent.com/-IxiCh57ZfZI/AAAAAAAAAAI/AAAAAAAAAGg/HpcJn-cqYZk/s64/photo.jpg",
      "userId": "06988773581943736669"
     },
     "user_tz": -60
    },
    "id": "XTvK77oPqo4B",
    "outputId": "ab297069-e08e-4b6d-a348-6975fdba4f71"
   },
   "outputs": [
    {
     "name": "stdout",
     "output_type": "stream",
     "text": [
      "Train on 13600 samples, validate on 3400 samples\n",
      "Epoch 1/5\n",
      "13600/13600 [==============================] - 0s 9us/step - loss: 0.0297 - val_loss: 0.0323\n",
      "Epoch 2/5\n",
      "13600/13600 [==============================] - 0s 9us/step - loss: 0.0297 - val_loss: 0.0323\n",
      "Epoch 3/5\n",
      "13600/13600 [==============================] - 0s 9us/step - loss: 0.0297 - val_loss: 0.0323\n",
      "Epoch 4/5\n",
      "13600/13600 [==============================] - 0s 9us/step - loss: 0.0297 - val_loss: 0.0323\n",
      "Epoch 5/5\n",
      "13600/13600 [==============================] - 0s 9us/step - loss: 0.0297 - val_loss: 0.0323\n",
      "peak memory: 288.96 MiB, increment: 2.73 MiB\n"
     ]
    }
   ],
   "source": [
    "%memit model.fit(X, Y, batch_size=batch_size, epochs=steps, validation_data=(X_test, Y_test), shuffle=False)"
   ]
  },
  {
   "cell_type": "code",
   "execution_count": 30,
   "metadata": {
    "colab": {
     "base_uri": "https://localhost:8080/",
     "height": 260
    },
    "colab_type": "code",
    "executionInfo": {
     "elapsed": 1690,
     "status": "ok",
     "timestamp": 1549371489838,
     "user": {
      "displayName": "Fazil B. Topal",
      "photoUrl": "https://lh4.googleusercontent.com/-IxiCh57ZfZI/AAAAAAAAAAI/AAAAAAAAAGg/HpcJn-cqYZk/s64/photo.jpg",
      "userId": "06988773581943736669"
     },
     "user_tz": -60
    },
    "id": "zg22cAJYqpLY",
    "outputId": "4cf64470-fcd7-4f2d-90c4-aec1149aaef2"
   },
   "outputs": [
    {
     "name": "stdout",
     "output_type": "stream",
     "text": [
      "Train on 13600 samples, validate on 3400 samples\n",
      "Epoch 1/5\n",
      "13600/13600 [==============================] - 0s 9us/step - loss: 0.0297 - val_loss: 0.0323\n",
      "Epoch 2/5\n",
      "13600/13600 [==============================] - 0s 9us/step - loss: 0.0297 - val_loss: 0.0323\n",
      "Epoch 3/5\n",
      "13600/13600 [==============================] - 0s 9us/step - loss: 0.0297 - val_loss: 0.0323\n",
      "Epoch 4/5\n",
      "13600/13600 [==============================] - 0s 9us/step - loss: 0.0297 - val_loss: 0.0323\n",
      "Epoch 5/5\n",
      "13600/13600 [==============================] - 0s 9us/step - loss: 0.0297 - val_loss: 0.0323\n",
      "CPU times: user 649 ms, sys: 43.1 ms, total: 692 ms\n",
      "Wall time: 619 ms\n"
     ]
    },
    {
     "data": {
      "text/plain": [
       "<keras.callbacks.History at 0x7f263229b128>"
      ]
     },
     "execution_count": 30,
     "metadata": {
      "tags": []
     },
     "output_type": "execute_result"
    }
   ],
   "source": [
    "%time model.fit(X, Y, batch_size=batch_size, epochs=steps, validation_data=(X_test, Y_test), shuffle=False)"
   ]
  },
  {
   "cell_type": "code",
   "execution_count": 31,
   "metadata": {
    "colab": {
     "base_uri": "https://localhost:8080/",
     "height": 225
    },
    "colab_type": "code",
    "executionInfo": {
     "elapsed": 2157,
     "status": "ok",
     "timestamp": 1549371490613,
     "user": {
      "displayName": "Fazil B. Topal",
      "photoUrl": "https://lh4.googleusercontent.com/-IxiCh57ZfZI/AAAAAAAAAAI/AAAAAAAAAGg/HpcJn-cqYZk/s64/photo.jpg",
      "userId": "06988773581943736669"
     },
     "user_tz": -60
    },
    "id": "gVobuk5er-yb",
    "outputId": "f3159ad4-988c-403b-ce18-401bd87dc78c"
   },
   "outputs": [
    {
     "name": "stdout",
     "output_type": "stream",
     "text": [
      "Train on 13600 samples, validate on 3400 samples\n",
      "Epoch 1/5\n",
      "13600/13600 [==============================] - 0s 10us/step - loss: 0.0297 - val_loss: 0.0323\n",
      "Epoch 2/5\n",
      "13600/13600 [==============================] - 0s 11us/step - loss: 0.0297 - val_loss: 0.0323\n",
      "Epoch 3/5\n",
      "13600/13600 [==============================] - 0s 10us/step - loss: 0.0297 - val_loss: 0.0323\n",
      "Epoch 4/5\n",
      "13600/13600 [==============================] - 0s 10us/step - loss: 0.0297 - val_loss: 0.0323\n",
      "Epoch 5/5\n",
      "13600/13600 [==============================] - 0s 11us/step - loss: 0.0297 - val_loss: 0.0323\n",
      " "
     ]
    }
   ],
   "source": [
    "%prun model.fit(X, Y, batch_size=batch_size, epochs=steps, validation_data=(X_test, Y_test), shuffle=False)"
   ]
  },
  {
   "cell_type": "markdown",
   "metadata": {
    "colab_type": "text",
    "id": "688VoSL2urlK"
   },
   "source": [
    "**Results**"
   ]
  },
  {
   "cell_type": "markdown",
   "metadata": {
    "colab_type": "text",
    "id": "r2zHXBmvuxLK"
   },
   "source": [
    "**Train Loss (RMSE)**: 0.0297  \n",
    "**Validation Loss(RMSE)**: 0.0323\n",
    "\n",
    "\n",
    "**%time**    \n",
    "CPU times: user 649 ms, sys: 43.1 ms, total: 692 ms\n",
    "Wall time: 619 ms\n",
    "\n",
    "**%prun**   \n",
    "283249 function calls (269649 primitive calls) in 0.726 seconds\n",
    "\n",
    "**%memit**   \n",
    "peak memory: 288.96 MiB, increment: 2.73 MiB\n",
    "\n",
    "\n",
    "**Model Parameters**  \n",
    "learning_rate =  0.02\n",
    "steps = 5\n",
    "batch_size = 100 \n",
    "periods = 10  \n"
   ]
  },
  {
   "cell_type": "markdown",
   "metadata": {
    "colab_type": "text",
    "id": "jWe8gG1IveV1"
   },
   "source": [
    "## Neural Networks"
   ]
  },
  {
   "cell_type": "markdown",
   "metadata": {
    "colab_type": "text",
    "id": "k2GUc53I00bx"
   },
   "source": [
    "**Model Parameters**"
   ]
  },
  {
   "cell_type": "code",
   "execution_count": 0,
   "metadata": {
    "colab": {},
    "colab_type": "code",
    "id": "5QSRSlRy02jV"
   },
   "outputs": [],
   "source": [
    "learning_rate = 0.02\n",
    "steps = 5\n",
    "batch_size = 100"
   ]
  },
  {
   "cell_type": "markdown",
   "metadata": {
    "colab_type": "text",
    "id": "J0VuMNBB03N2"
   },
   "source": [
    "**Neural Networks**"
   ]
  },
  {
   "cell_type": "code",
   "execution_count": 0,
   "metadata": {
    "colab": {},
    "colab_type": "code",
    "id": "hJ2ilulhvuSW"
   },
   "outputs": [],
   "source": [
    "feature_columns = [\"households\", \"median_income\", \"rooms_per_person\", \"total_rooms\", \"housing_median_age\"]\n",
    "label = \"median_house_value\""
   ]
  },
  {
   "cell_type": "code",
   "execution_count": 0,
   "metadata": {
    "colab": {},
    "colab_type": "code",
    "id": "JflMhPG5vuSj"
   },
   "outputs": [],
   "source": [
    "X = train[feature_columns].values\n",
    "Y = train[label].values\n",
    "X_test = test[feature_columns].values\n",
    "Y_test = test[label].values"
   ]
  },
  {
   "cell_type": "code",
   "execution_count": 0,
   "metadata": {
    "colab": {},
    "colab_type": "code",
    "id": "6TP4Z2D41PYI"
   },
   "outputs": [],
   "source": [
    "model = Sequential()"
   ]
  },
  {
   "cell_type": "code",
   "execution_count": 0,
   "metadata": {
    "colab": {},
    "colab_type": "code",
    "id": "9xszFA2J1X96"
   },
   "outputs": [],
   "source": [
    "model.add(Dense(50, input_dim=5, activation='relu'))\n",
    "model.add(Dense(100, activation='relu'))\n",
    "model.add(Dense(50, activation='relu'))\n",
    "model.add(Dense(1, activation='linear'))"
   ]
  },
  {
   "cell_type": "code",
   "execution_count": 0,
   "metadata": {
    "colab": {},
    "colab_type": "code",
    "id": "FEj6Fa-J3JPU"
   },
   "outputs": [],
   "source": [
    "opt = keras.optimizers.Adam(lr=learning_rate)\n",
    "model.compile(optimizer=opt, loss=\"mse\")"
   ]
  },
  {
   "cell_type": "code",
   "execution_count": 41,
   "metadata": {
    "colab": {
     "base_uri": "https://localhost:8080/",
     "height": 278
    },
    "colab_type": "code",
    "executionInfo": {
     "elapsed": 544,
     "status": "ok",
     "timestamp": 1549373648847,
     "user": {
      "displayName": "Fazil B. Topal",
      "photoUrl": "https://lh4.googleusercontent.com/-IxiCh57ZfZI/AAAAAAAAAAI/AAAAAAAAAGg/HpcJn-cqYZk/s64/photo.jpg",
      "userId": "06988773581943736669"
     },
     "user_tz": -60
    },
    "id": "_BRq8X6CvuSt",
    "outputId": "a0ed8bc2-77ca-41ea-95bd-6cfdc9d0e6ad"
   },
   "outputs": [
    {
     "name": "stdout",
     "output_type": "stream",
     "text": [
      "_________________________________________________________________\n",
      "Layer (type)                 Output Shape              Param #   \n",
      "=================================================================\n",
      "dense_2 (Dense)              (None, 50)                300       \n",
      "_________________________________________________________________\n",
      "dense_3 (Dense)              (None, 100)               5100      \n",
      "_________________________________________________________________\n",
      "dense_4 (Dense)              (None, 50)                5050      \n",
      "_________________________________________________________________\n",
      "dense_5 (Dense)              (None, 1)                 51        \n",
      "=================================================================\n",
      "Total params: 10,501\n",
      "Trainable params: 10,501\n",
      "Non-trainable params: 0\n",
      "_________________________________________________________________\n"
     ]
    }
   ],
   "source": [
    "model.summary()"
   ]
  },
  {
   "cell_type": "code",
   "execution_count": 44,
   "metadata": {
    "colab": {
     "base_uri": "https://localhost:8080/",
     "height": 225
    },
    "colab_type": "code",
    "executionInfo": {
     "elapsed": 2708,
     "status": "ok",
     "timestamp": 1549373688193,
     "user": {
      "displayName": "Fazil B. Topal",
      "photoUrl": "https://lh4.googleusercontent.com/-IxiCh57ZfZI/AAAAAAAAAAI/AAAAAAAAAGg/HpcJn-cqYZk/s64/photo.jpg",
      "userId": "06988773581943736669"
     },
     "user_tz": -60
    },
    "id": "c3cNhv6nvuS0",
    "outputId": "2d2cc521-9e10-4880-a17f-b9330e0a7853"
   },
   "outputs": [
    {
     "name": "stdout",
     "output_type": "stream",
     "text": [
      "Train on 13600 samples, validate on 3400 samples\n",
      "Epoch 1/5\n",
      "13600/13600 [==============================] - 1s 41us/step - loss: 0.0319 - val_loss: 0.0285\n",
      "Epoch 2/5\n",
      "13600/13600 [==============================] - 0s 22us/step - loss: 0.0256 - val_loss: 0.0256\n",
      "Epoch 3/5\n",
      "13600/13600 [==============================] - 0s 22us/step - loss: 0.0243 - val_loss: 0.0244\n",
      "Epoch 4/5\n",
      "13600/13600 [==============================] - 0s 22us/step - loss: 0.0233 - val_loss: 0.0264\n",
      "Epoch 5/5\n",
      "13600/13600 [==============================] - 0s 23us/step - loss: 0.0232 - val_loss: 0.0232\n"
     ]
    },
    {
     "data": {
      "text/plain": [
       "<keras.callbacks.History at 0x7f262cfc6320>"
      ]
     },
     "execution_count": 44,
     "metadata": {
      "tags": []
     },
     "output_type": "execute_result"
    }
   ],
   "source": [
    "model.fit(X, Y, batch_size=batch_size, epochs=steps, validation_data=(X_test, Y_test), shuffle=False)"
   ]
  },
  {
   "cell_type": "code",
   "execution_count": 45,
   "metadata": {
    "colab": {
     "base_uri": "https://localhost:8080/",
     "height": 225
    },
    "colab_type": "code",
    "executionInfo": {
     "elapsed": 2671,
     "status": "ok",
     "timestamp": 1549373702891,
     "user": {
      "displayName": "Fazil B. Topal",
      "photoUrl": "https://lh4.googleusercontent.com/-IxiCh57ZfZI/AAAAAAAAAAI/AAAAAAAAAGg/HpcJn-cqYZk/s64/photo.jpg",
      "userId": "06988773581943736669"
     },
     "user_tz": -60
    },
    "id": "U83_WnMMvuTC",
    "outputId": "a85ffa9e-bb7b-41b0-e2e5-84e3d6d09415"
   },
   "outputs": [
    {
     "name": "stdout",
     "output_type": "stream",
     "text": [
      "Train on 13600 samples, validate on 3400 samples\n",
      "Epoch 1/5\n",
      "13600/13600 [==============================] - 0s 23us/step - loss: 0.0226 - val_loss: 0.0224\n",
      "Epoch 2/5\n",
      "13600/13600 [==============================] - 0s 22us/step - loss: 0.0224 - val_loss: 0.0219\n",
      "Epoch 3/5\n",
      "13600/13600 [==============================] - 0s 23us/step - loss: 0.0221 - val_loss: 0.0217\n",
      "Epoch 4/5\n",
      "13600/13600 [==============================] - 0s 23us/step - loss: 0.0214 - val_loss: 0.0214\n",
      "Epoch 5/5\n",
      "13600/13600 [==============================] - 0s 22us/step - loss: 0.0211 - val_loss: 0.0212\n",
      "peak memory: 305.30 MiB, increment: 1.44 MiB\n"
     ]
    }
   ],
   "source": [
    "%memit model.fit(X, Y, batch_size=batch_size, epochs=steps, validation_data=(X_test, Y_test), shuffle=False)"
   ]
  },
  {
   "cell_type": "code",
   "execution_count": 46,
   "metadata": {
    "colab": {
     "base_uri": "https://localhost:8080/",
     "height": 260
    },
    "colab_type": "code",
    "executionInfo": {
     "elapsed": 3459,
     "status": "ok",
     "timestamp": 1549373704116,
     "user": {
      "displayName": "Fazil B. Topal",
      "photoUrl": "https://lh4.googleusercontent.com/-IxiCh57ZfZI/AAAAAAAAAAI/AAAAAAAAAGg/HpcJn-cqYZk/s64/photo.jpg",
      "userId": "06988773581943736669"
     },
     "user_tz": -60
    },
    "id": "UO63LmNjvuTO",
    "outputId": "b76b6702-ba4f-4de4-efc4-36d3ff6b24a9"
   },
   "outputs": [
    {
     "name": "stdout",
     "output_type": "stream",
     "text": [
      "Train on 13600 samples, validate on 3400 samples\n",
      "Epoch 1/5\n",
      "13600/13600 [==============================] - 0s 22us/step - loss: 0.0210 - val_loss: 0.0211\n",
      "Epoch 2/5\n",
      "13600/13600 [==============================] - 0s 22us/step - loss: 0.0211 - val_loss: 0.0212\n",
      "Epoch 3/5\n",
      "13600/13600 [==============================] - 0s 25us/step - loss: 0.0209 - val_loss: 0.0211\n",
      "Epoch 4/5\n",
      "13600/13600 [==============================] - 0s 22us/step - loss: 0.0210 - val_loss: 0.0207\n",
      "Epoch 5/5\n",
      "13600/13600 [==============================] - 0s 22us/step - loss: 0.0207 - val_loss: 0.0204\n",
      "CPU times: user 2.07 s, sys: 123 ms, total: 2.19 s\n",
      "Wall time: 1.54 s\n"
     ]
    },
    {
     "data": {
      "text/plain": [
       "<keras.callbacks.History at 0x7f26344518d0>"
      ]
     },
     "execution_count": 46,
     "metadata": {
      "tags": []
     },
     "output_type": "execute_result"
    }
   ],
   "source": [
    "%time model.fit(X, Y, batch_size=batch_size, epochs=steps, validation_data=(X_test, Y_test), shuffle=False)"
   ]
  },
  {
   "cell_type": "code",
   "execution_count": 47,
   "metadata": {
    "colab": {
     "base_uri": "https://localhost:8080/",
     "height": 225
    },
    "colab_type": "code",
    "executionInfo": {
     "elapsed": 4689,
     "status": "ok",
     "timestamp": 1549373705734,
     "user": {
      "displayName": "Fazil B. Topal",
      "photoUrl": "https://lh4.googleusercontent.com/-IxiCh57ZfZI/AAAAAAAAAAI/AAAAAAAAAGg/HpcJn-cqYZk/s64/photo.jpg",
      "userId": "06988773581943736669"
     },
     "user_tz": -60
    },
    "id": "kCH1TNt4vuTZ",
    "outputId": "7300759e-1411-4d5c-8875-8738be0433e9"
   },
   "outputs": [
    {
     "name": "stdout",
     "output_type": "stream",
     "text": [
      "Train on 13600 samples, validate on 3400 samples\n",
      "Epoch 1/5\n",
      "13600/13600 [==============================] - 0s 24us/step - loss: 0.0206 - val_loss: 0.0205\n",
      "Epoch 2/5\n",
      "13600/13600 [==============================] - 0s 25us/step - loss: 0.0205 - val_loss: 0.0203\n",
      "Epoch 3/5\n",
      "13600/13600 [==============================] - 0s 23us/step - loss: 0.0203 - val_loss: 0.0205\n",
      "Epoch 4/5\n",
      "13600/13600 [==============================] - 0s 24us/step - loss: 0.0205 - val_loss: 0.0203\n",
      "Epoch 5/5\n",
      "13600/13600 [==============================] - 0s 25us/step - loss: 0.0203 - val_loss: 0.0204\n",
      " "
     ]
    }
   ],
   "source": [
    "%prun model.fit(X, Y, batch_size=batch_size, epochs=steps, validation_data=(X_test, Y_test), shuffle=False)"
   ]
  },
  {
   "cell_type": "markdown",
   "metadata": {
    "colab_type": "text",
    "id": "-Ni1bUvfvuTo"
   },
   "source": [
    "**Results**"
   ]
  },
  {
   "cell_type": "markdown",
   "metadata": {
    "colab_type": "text",
    "id": "iMCMxJuVvuTs"
   },
   "source": [
    "**Train Loss (RMSE)**: 0.0232  \n",
    "**Validation Loss(RMSE)**: 0.0232\n",
    "\n",
    "\n",
    "**%time**    \n",
    "CPU times: user 2.07 s, sys: 123 ms, total: 2.19 s  \n",
    "Wall time: 1.54 s\n",
    "\n",
    "**%prun**   \n",
    "347882 function calls (334282 primitive calls) in 1.655 seconds\n",
    "\n",
    "**%memit**   \n",
    "peak memory: 305.30 MiB, increment: 1.44 MiB\n",
    "\n",
    "\n",
    "**Model Parameters**  \n",
    "learning_rate =  0.02\n",
    "steps = 5\n",
    "batch_size = 100 \n",
    "periods = 10  \n"
   ]
  }
 ],
 "metadata": {
  "colab": {
   "collapsed_sections": [
    "r8_8lCmkm8sG",
    "0dn7lq94nBA8",
    "DER15wQQnOb5",
    "KTR5XUUhqWtP",
    "p8XHzAicruts",
    "VAboHKnMqNtJ",
    "688VoSL2urlK",
    "jWe8gG1IveV1",
    "k2GUc53I00bx",
    "J0VuMNBB03N2",
    "-Ni1bUvfvuTo"
   ],
   "name": "Keras-Regression.ipynb",
   "provenance": [],
   "version": "0.3.2"
  },
  "kernelspec": {
   "display_name": "Python 3",
   "language": "python",
   "name": "python3"
  },
  "language_info": {
   "codemirror_mode": {
    "name": "ipython",
    "version": 3
   },
   "file_extension": ".py",
   "mimetype": "text/x-python",
   "name": "python",
   "nbconvert_exporter": "python",
   "pygments_lexer": "ipython3",
   "version": "3.6.8"
  }
 },
 "nbformat": 4,
 "nbformat_minor": 1
}
